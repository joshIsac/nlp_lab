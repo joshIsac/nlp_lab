{
  "nbformat": 4,
  "nbformat_minor": 0,
  "metadata": {
    "colab": {
      "provenance": [],
      "authorship_tag": "ABX9TyPu3JneRaywZV5qrfxiEmha",
      "include_colab_link": true
    },
    "kernelspec": {
      "name": "python3",
      "display_name": "Python 3"
    },
    "language_info": {
      "name": "python"
    }
  },
  "cells": [
    {
      "cell_type": "markdown",
      "metadata": {
        "id": "view-in-github",
        "colab_type": "text"
      },
      "source": [
        "<a href=\"https://colab.research.google.com/github/joshIsac/nlp_lab/blob/main/2348523_lab2.ipynb\" target=\"_parent\"><img src=\"https://colab.research.google.com/assets/colab-badge.svg\" alt=\"Open In Colab\"/></a>"
      ]
    },
    {
      "cell_type": "code",
      "execution_count": null,
      "metadata": {
        "id": "F801WZo1FDCb"
      },
      "outputs": [],
      "source": [
        "import nltk\n",
        "from nltk.probability import FreqDist"
      ]
    },
    {
      "cell_type": "code",
      "source": [
        "#history of chatbots\n",
        "text_paragraph=\"In October of 1950, Alan Turing proposed an approach for evaluating a computer’s intelligence and famously named his method, The Imitation Game. The premise is that an interrogator talks to two people through a “typewritten” machine (today we would refer to this as instant messaging). The catch is that only one of the conversations is with a real person – the other is with a computer.Turing posited that, by the turn of the century (the year 2000), in a well-controlled experiment, a computer should be able to fool the interrogator 70% of the time. While we’ve made a lot of progress since 1950, no algorithm has consistently reached this bar. However, there has still been substantial progress in the field of chatbot development, which has led to a multi-billion dollar industry and dozens of profitable products.Before examining the history of chatbot development, read through the conversation we had with two different chatbots: ELIZA and Mitsuku. One of these models is still in development, while the other was programmed in 1966. Can you guess which is the newest 🤔🤔🤖. Reception:for enhancing the company sale we need the details about the customers who are purchasing this product , Person: ok here is my mail-ID -abccross@gmail.com ,my date of birth is (27-March -2000) ,and my phone number is 9874563422 ,reception:thank you for purchasing the product  ,Have a nice day\"\n",
        "nltk.download('punkt')\n",
        "tokens = nltk.word_tokenize(text_paragraph)"
      ],
      "metadata": {
        "colab": {
          "base_uri": "https://localhost:8080/"
        },
        "id": "NRPmNK66Hftb",
        "outputId": "83b7c753-4483-40e2-c9ba-1e0f3683a7fe"
      },
      "execution_count": null,
      "outputs": [
        {
          "output_type": "stream",
          "name": "stderr",
          "text": [
            "[nltk_data] Downloading package punkt to /root/nltk_data...\n",
            "[nltk_data]   Package punkt is already up-to-date!\n"
          ]
        }
      ]
    },
    {
      "cell_type": "code",
      "source": [
        "print(tokens)"
      ],
      "metadata": {
        "colab": {
          "base_uri": "https://localhost:8080/"
        },
        "id": "w4EVelnSHfp4",
        "outputId": "de3cf3b2-1bad-4726-cd4e-c73a05077303"
      },
      "execution_count": null,
      "outputs": [
        {
          "output_type": "stream",
          "name": "stdout",
          "text": [
            "['In', 'October', 'of', '1950', ',', 'Alan', 'Turing', 'proposed', 'an', 'approach', 'for', 'evaluating', 'a', 'computer', '’', 's', 'intelligence', 'and', 'famously', 'named', 'his', 'method', ',', 'The', 'Imitation', 'Game', '.', 'The', 'premise', 'is', 'that', 'an', 'interrogator', 'talks', 'to', 'two', 'people', 'through', 'a', '“', 'typewritten', '”', 'machine', '(', 'today', 'we', 'would', 'refer', 'to', 'this', 'as', 'instant', 'messaging', ')', '.', 'The', 'catch', 'is', 'that', 'only', 'one', 'of', 'the', 'conversations', 'is', 'with', 'a', 'real', 'person', '–', 'the', 'other', 'is', 'with', 'a', 'computer.Turing', 'posited', 'that', ',', 'by', 'the', 'turn', 'of', 'the', 'century', '(', 'the', 'year', '2000', ')', ',', 'in', 'a', 'well-controlled', 'experiment', ',', 'a', 'computer', 'should', 'be', 'able', 'to', 'fool', 'the', 'interrogator', '70', '%', 'of', 'the', 'time', '.', 'While', 'we', '’', 've', 'made', 'a', 'lot', 'of', 'progress', 'since', '1950', ',', 'no', 'algorithm', 'has', 'consistently', 'reached', 'this', 'bar', '.', 'However', ',', 'there', 'has', 'still', 'been', 'substantial', 'progress', 'in', 'the', 'field', 'of', 'chatbot', 'development', ',', 'which', 'has', 'led', 'to', 'a', 'multi-billion', 'dollar', 'industry', 'and', 'dozens', 'of', 'profitable', 'products.Before', 'examining', 'the', 'history', 'of', 'chatbot', 'development', ',', 'read', 'through', 'the', 'conversation', 'we', 'had', 'with', 'two', 'different', 'chatbots', ':', 'ELIZA', 'and', 'Mitsuku', '.', 'One', 'of', 'these', 'models', 'is', 'still', 'in', 'development', ',', 'while', 'the', 'other', 'was', 'programmed', 'in', '1966', '.', 'Can', 'you', 'guess', 'which', 'is', 'the', 'newest', '🤔🤔🤖', '.', 'Reception', ':', 'for', 'enhancing', 'the', 'company', 'sale', 'we', 'need', 'the', 'details', 'about', 'the', 'customers', 'who', 'are', 'purchasing', 'this', 'product', ',', 'Person', ':', 'ok', 'here', 'is', 'my', 'mail-ID', '-abccross', '@', 'gmail.com', ',', 'my', 'date', 'of', 'birth', 'is', '(', '27-March', '-2000', ')', ',', 'and', 'my', 'phone', 'number', 'is', '9874563422', ',', 'reception', ':', 'thank', 'you', 'for', 'purchasing', 'the', 'product', ',', 'Have', 'a', 'nice', 'day']\n"
          ]
        }
      ]
    },
    {
      "cell_type": "code",
      "source": [
        "#1) Count the number of unique tokens in the text.\n",
        "fdist=FreqDist(tokens)\n",
        "fdist"
      ],
      "metadata": {
        "colab": {
          "base_uri": "https://localhost:8080/"
        },
        "id": "XajIGVcYM1LV",
        "outputId": "db559391-e480-41ac-9dbd-05a1f7c09bae"
      },
      "execution_count": null,
      "outputs": [
        {
          "output_type": "execute_result",
          "data": {
            "text/plain": [
              "FreqDist({'the': 16, ',': 15, 'of': 10, 'a': 9, 'is': 9, '.': 7, 'and': 4, 'to': 4, 'we': 4, 'in': 4, ...})"
            ]
          },
          "metadata": {},
          "execution_count": 62
        }
      ]
    },
    {
      "cell_type": "code",
      "source": [
        "fdist.N()"
      ],
      "metadata": {
        "colab": {
          "base_uri": "https://localhost:8080/"
        },
        "id": "rah030-BQH7R",
        "outputId": "db2a3b8b-012e-44c8-b01c-395f65729ecb"
      },
      "execution_count": null,
      "outputs": [
        {
          "output_type": "execute_result",
          "data": {
            "text/plain": [
              "268"
            ]
          },
          "metadata": {},
          "execution_count": 63
        }
      ]
    },
    {
      "cell_type": "code",
      "source": [
        "fdist=FreqDist(\",\")\n",
        "fdist\n"
      ],
      "metadata": {
        "colab": {
          "base_uri": "https://localhost:8080/"
        },
        "id": "dgJR83xFNQuN",
        "outputId": "c195fd71-a0a0-4ddc-f02a-0b6493b38924"
      },
      "execution_count": null,
      "outputs": [
        {
          "output_type": "execute_result",
          "data": {
            "text/plain": [
              "FreqDist({',': 1})"
            ]
          },
          "metadata": {},
          "execution_count": 64
        }
      ]
    },
    {
      "cell_type": "code",
      "source": [
        "#Count the number of punctuation characters and remove punctuations.\n",
        "from string import*\n",
        "count=0\n",
        "text_paragraph=\"In October of 1950, Alan Turing proposed an approach for evaluating a computer’s intelligence and famously named his method, The Imitation Game. The premise is that an interrogator talks to two people through a “typewritten” machine (today we would refer to this as instant messaging). The catch is that only one of the conversations is with a real person – the other is with a computer.Turing posited that, by the turn of the century (the year 2000), in a well-controlled experiment, a computer should be able to fool the interrogator 70% of the time. While we’ve made a lot of progress since 1950, no algorithm has consistently reached this bar. However, there has still been substantial progress in the field of chatbot development, which has led to a multi-billion dollar industry and dozens of profitable products.Before examining the history of chatbot development, read through the conversation we had with two different chatbots: ELIZA and Mitsuku. One of these models is still in development, while the other was programmed in 1966. Can you guess which is the newest 🤔🤔🤖. Reception:for enhancing the company sale we need the details about the customers who are purchasing this product , Person: ok here is my mail-ID -abccross@gmail.com ,my date of birth is (27-March -2000) ,and my phone number is 9874563422 ,reception:thank you for purchasing the product  ,Have a nice day\"\n",
        "for i in range(0,len(text_paragraph)):\n",
        " if text_paragraph[i]in('!', \",\" ,\"\\'\" ,\";\" ,\"\\\"\", \".\", \"-\" ,\"?\"):\n",
        "  count=count+1\n",
        "print (count)"
      ],
      "metadata": {
        "colab": {
          "base_uri": "https://localhost:8080/"
        },
        "id": "_qFXEKW0PJ6W",
        "outputId": "fe35db42-575d-48ed-df84-11953c28714c"
      },
      "execution_count": null,
      "outputs": [
        {
          "output_type": "stream",
          "name": "stdout",
          "text": [
            "31\n"
          ]
        }
      ]
    },
    {
      "cell_type": "code",
      "source": [
        "import string\n",
        "test_str = text_paragraph.translate(str.maketrans('', '', string.punctuation))\n",
        "print(test_str)"
      ],
      "metadata": {
        "colab": {
          "base_uri": "https://localhost:8080/"
        },
        "id": "7He5AiYzR8i4",
        "outputId": "d47d920a-68b8-4c53-b783-1dd31372b1f3"
      },
      "execution_count": null,
      "outputs": [
        {
          "output_type": "stream",
          "name": "stdout",
          "text": [
            "In October of 1950 Alan Turing proposed an approach for evaluating a computer’s intelligence and famously named his method The Imitation Game The premise is that an interrogator talks to two people through a “typewritten” machine today we would refer to this as instant messaging The catch is that only one of the conversations is with a real person – the other is with a computerTuring posited that by the turn of the century the year 2000 in a wellcontrolled experiment a computer should be able to fool the interrogator 70 of the time While we’ve made a lot of progress since 1950 no algorithm has consistently reached this bar However there has still been substantial progress in the field of chatbot development which has led to a multibillion dollar industry and dozens of profitable productsBefore examining the history of chatbot development read through the conversation we had with two different chatbots ELIZA and Mitsuku One of these models is still in development while the other was programmed in 1966 Can you guess which is the newest 🤔🤔🤖 Receptionfor enhancing the company sale we need the details about the customers who are purchasing this product  Person ok here is my mailID abccrossgmailcom my date of birth is 27March 2000 and my phone number is 9874563422 receptionthank you for purchasing the product  Have a nice day\n"
          ]
        }
      ]
    },
    {
      "cell_type": "code",
      "source": [
        "import nltk\n",
        "from nltk.corpus import stopwords\n",
        "nltk.download('stopwords')\n",
        "stopwords = list(stopwords.words('english'))"
      ],
      "metadata": {
        "id": "9TGjUsTPTgv_",
        "colab": {
          "base_uri": "https://localhost:8080/"
        },
        "outputId": "f0711676-de9e-4a38-bac1-b071b95cbde6"
      },
      "execution_count": null,
      "outputs": [
        {
          "output_type": "stream",
          "name": "stderr",
          "text": [
            "[nltk_data] Downloading package stopwords to /root/nltk_data...\n",
            "[nltk_data]   Package stopwords is already up-to-date!\n"
          ]
        }
      ]
    },
    {
      "cell_type": "code",
      "source": [
        "stopwords"
      ],
      "metadata": {
        "colab": {
          "base_uri": "https://localhost:8080/"
        },
        "id": "NpPyHDuCVbwe",
        "outputId": "4d15cc12-d0fe-40f6-ba41-153ca07db244"
      },
      "execution_count": null,
      "outputs": [
        {
          "output_type": "execute_result",
          "data": {
            "text/plain": [
              "['i',\n",
              " 'me',\n",
              " 'my',\n",
              " 'myself',\n",
              " 'we',\n",
              " 'our',\n",
              " 'ours',\n",
              " 'ourselves',\n",
              " 'you',\n",
              " \"you're\",\n",
              " \"you've\",\n",
              " \"you'll\",\n",
              " \"you'd\",\n",
              " 'your',\n",
              " 'yours',\n",
              " 'yourself',\n",
              " 'yourselves',\n",
              " 'he',\n",
              " 'him',\n",
              " 'his',\n",
              " 'himself',\n",
              " 'she',\n",
              " \"she's\",\n",
              " 'her',\n",
              " 'hers',\n",
              " 'herself',\n",
              " 'it',\n",
              " \"it's\",\n",
              " 'its',\n",
              " 'itself',\n",
              " 'they',\n",
              " 'them',\n",
              " 'their',\n",
              " 'theirs',\n",
              " 'themselves',\n",
              " 'what',\n",
              " 'which',\n",
              " 'who',\n",
              " 'whom',\n",
              " 'this',\n",
              " 'that',\n",
              " \"that'll\",\n",
              " 'these',\n",
              " 'those',\n",
              " 'am',\n",
              " 'is',\n",
              " 'are',\n",
              " 'was',\n",
              " 'were',\n",
              " 'be',\n",
              " 'been',\n",
              " 'being',\n",
              " 'have',\n",
              " 'has',\n",
              " 'had',\n",
              " 'having',\n",
              " 'do',\n",
              " 'does',\n",
              " 'did',\n",
              " 'doing',\n",
              " 'a',\n",
              " 'an',\n",
              " 'the',\n",
              " 'and',\n",
              " 'but',\n",
              " 'if',\n",
              " 'or',\n",
              " 'because',\n",
              " 'as',\n",
              " 'until',\n",
              " 'while',\n",
              " 'of',\n",
              " 'at',\n",
              " 'by',\n",
              " 'for',\n",
              " 'with',\n",
              " 'about',\n",
              " 'against',\n",
              " 'between',\n",
              " 'into',\n",
              " 'through',\n",
              " 'during',\n",
              " 'before',\n",
              " 'after',\n",
              " 'above',\n",
              " 'below',\n",
              " 'to',\n",
              " 'from',\n",
              " 'up',\n",
              " 'down',\n",
              " 'in',\n",
              " 'out',\n",
              " 'on',\n",
              " 'off',\n",
              " 'over',\n",
              " 'under',\n",
              " 'again',\n",
              " 'further',\n",
              " 'then',\n",
              " 'once',\n",
              " 'here',\n",
              " 'there',\n",
              " 'when',\n",
              " 'where',\n",
              " 'why',\n",
              " 'how',\n",
              " 'all',\n",
              " 'any',\n",
              " 'both',\n",
              " 'each',\n",
              " 'few',\n",
              " 'more',\n",
              " 'most',\n",
              " 'other',\n",
              " 'some',\n",
              " 'such',\n",
              " 'no',\n",
              " 'nor',\n",
              " 'not',\n",
              " 'only',\n",
              " 'own',\n",
              " 'same',\n",
              " 'so',\n",
              " 'than',\n",
              " 'too',\n",
              " 'very',\n",
              " 's',\n",
              " 't',\n",
              " 'can',\n",
              " 'will',\n",
              " 'just',\n",
              " 'don',\n",
              " \"don't\",\n",
              " 'should',\n",
              " \"should've\",\n",
              " 'now',\n",
              " 'd',\n",
              " 'll',\n",
              " 'm',\n",
              " 'o',\n",
              " 're',\n",
              " 've',\n",
              " 'y',\n",
              " 'ain',\n",
              " 'aren',\n",
              " \"aren't\",\n",
              " 'couldn',\n",
              " \"couldn't\",\n",
              " 'didn',\n",
              " \"didn't\",\n",
              " 'doesn',\n",
              " \"doesn't\",\n",
              " 'hadn',\n",
              " \"hadn't\",\n",
              " 'hasn',\n",
              " \"hasn't\",\n",
              " 'haven',\n",
              " \"haven't\",\n",
              " 'isn',\n",
              " \"isn't\",\n",
              " 'ma',\n",
              " 'mightn',\n",
              " \"mightn't\",\n",
              " 'mustn',\n",
              " \"mustn't\",\n",
              " 'needn',\n",
              " \"needn't\",\n",
              " 'shan',\n",
              " \"shan't\",\n",
              " 'shouldn',\n",
              " \"shouldn't\",\n",
              " 'wasn',\n",
              " \"wasn't\",\n",
              " 'weren',\n",
              " \"weren't\",\n",
              " 'won',\n",
              " \"won't\",\n",
              " 'wouldn',\n",
              " \"wouldn't\"]"
            ]
          },
          "metadata": {},
          "execution_count": 68
        }
      ]
    },
    {
      "cell_type": "code",
      "source": [
        "import nltk\n",
        "from collections import Counter\n",
        "import matplotlib.pyplot as plt\n",
        "# Tokenize the text\n",
        "tokens = nltk.word_tokenize(text_paragraph)\n",
        "\n",
        "# Filter out the stopwords from the tokens\n",
        "fil_tokens = [token for token in tokens if token.lower() in stopwords]\n",
        "\n",
        "# Count the frequency of each stopword\n",
        "stopword_count = Counter(fil_tokens)\n",
        "\n",
        "# Sort the stopwords by frequency\n",
        "sorted_stopword_counts = sorted(stopword_count.items(), key=lambda x: x[1], reverse=True)\n",
        "\n",
        "# Plot the distribution of stopwords\n",
        "plt.figure(figsize=(10, 5))\n",
        "plt.bar(range(len(sorted_stopword_counts)), [count for word, count in sorted_stopword_counts], color='skyblue')\n",
        "plt.yticks(range(len(sorted_stopword_counts)), [word for word, count in sorted_stopword_counts])\n",
        "plt.xlabel('Frequency')\n",
        "plt.title('Distribution of Stopwords in the Text')\n",
        "plt.show()"
      ],
      "metadata": {
        "colab": {
          "base_uri": "https://localhost:8080/",
          "height": 370
        },
        "id": "J12ptXREY3Ma",
        "outputId": "cfa6122c-da60-41a5-fc64-ba19271219c2"
      },
      "execution_count": null,
      "outputs": [
        {
          "output_type": "display_data",
          "data": {
            "text/plain": [
              "<Figure size 1000x500 with 1 Axes>"
            ],
            "image/png": "[encoded data removed]"
          },
          "metadata": {}
        }
      ]
    },
    {
      "cell_type": "code",
      "source": [
        "from nltk.tokenize import word_tokenize\n",
        "word_tokens = word_tokenize(text_paragraph)\n",
        "# converts the words in word_tokens to lower case and then checks whether\n",
        "#they are present in stop_words or not"
      ],
      "metadata": {
        "id": "GkSvshRTaT5-"
      },
      "execution_count": null,
      "outputs": []
    },
    {
      "cell_type": "code",
      "source": [
        "filtered_sentence = [w for w in word_tokens if not w.lower() in stopwords]\n",
        "#with no lower case conversion\n",
        "filtered_sentence = []\n",
        "\n",
        "for w in word_tokens:\n",
        "    if w not in stopwords:\n",
        "        filtered_sentence.append(w)\n",
        "\n",
        "print(word_tokens)\n",
        "print(filtered_sentence)"
      ],
      "metadata": {
        "colab": {
          "base_uri": "https://localhost:8080/"
        },
        "id": "iCrx8KVNcHuF",
        "outputId": "01cbe899-ff87-4541-b734-9a5dae1dfc88"
      },
      "execution_count": null,
      "outputs": [
        {
          "output_type": "stream",
          "name": "stdout",
          "text": [
            "['In', 'October', 'of', '1950', ',', 'Alan', 'Turing', 'proposed', 'an', 'approach', 'for', 'evaluating', 'a', 'computer', '’', 's', 'intelligence', 'and', 'famously', 'named', 'his', 'method', ',', 'The', 'Imitation', 'Game', '.', 'The', 'premise', 'is', 'that', 'an', 'interrogator', 'talks', 'to', 'two', 'people', 'through', 'a', '“', 'typewritten', '”', 'machine', '(', 'today', 'we', 'would', 'refer', 'to', 'this', 'as', 'instant', 'messaging', ')', '.', 'The', 'catch', 'is', 'that', 'only', 'one', 'of', 'the', 'conversations', 'is', 'with', 'a', 'real', 'person', '–', 'the', 'other', 'is', 'with', 'a', 'computer.Turing', 'posited', 'that', ',', 'by', 'the', 'turn', 'of', 'the', 'century', '(', 'the', 'year', '2000', ')', ',', 'in', 'a', 'well-controlled', 'experiment', ',', 'a', 'computer', 'should', 'be', 'able', 'to', 'fool', 'the', 'interrogator', '70', '%', 'of', 'the', 'time', '.', 'While', 'we', '’', 've', 'made', 'a', 'lot', 'of', 'progress', 'since', '1950', ',', 'no', 'algorithm', 'has', 'consistently', 'reached', 'this', 'bar', '.', 'However', ',', 'there', 'has', 'still', 'been', 'substantial', 'progress', 'in', 'the', 'field', 'of', 'chatbot', 'development', ',', 'which', 'has', 'led', 'to', 'a', 'multi-billion', 'dollar', 'industry', 'and', 'dozens', 'of', 'profitable', 'products.Before', 'examining', 'the', 'history', 'of', 'chatbot', 'development', ',', 'read', 'through', 'the', 'conversation', 'we', 'had', 'with', 'two', 'different', 'chatbots', ':', 'ELIZA', 'and', 'Mitsuku', '.', 'One', 'of', 'these', 'models', 'is', 'still', 'in', 'development', ',', 'while', 'the', 'other', 'was', 'programmed', 'in', '1966', '.', 'Can', 'you', 'guess', 'which', 'is', 'the', 'newest', '🤔🤔🤖', '.', 'Reception', ':', 'for', 'enhancing', 'the', 'company', 'sale', 'we', 'need', 'the', 'details', 'about', 'the', 'customers', 'who', 'are', 'purchasing', 'this', 'product', ',', 'Person', ':', 'ok', 'here', 'is', 'my', 'mail-ID', '-abccross', '@', 'gmail.com', ',', 'my', 'date', 'of', 'birth', 'is', '(', '27-March', '-2000', ')', ',', 'and', 'my', 'phone', 'number', 'is', '9874563422', ',', 'reception', ':', 'thank', 'you', 'for', 'purchasing', 'the', 'product', ',', 'Have', 'a', 'nice', 'day']\n",
            "['In', 'October', '1950', ',', 'Alan', 'Turing', 'proposed', 'approach', 'evaluating', 'computer', '’', 'intelligence', 'famously', 'named', 'method', ',', 'The', 'Imitation', 'Game', '.', 'The', 'premise', 'interrogator', 'talks', 'two', 'people', '“', 'typewritten', '”', 'machine', '(', 'today', 'would', 'refer', 'instant', 'messaging', ')', '.', 'The', 'catch', 'one', 'conversations', 'real', 'person', '–', 'computer.Turing', 'posited', ',', 'turn', 'century', '(', 'year', '2000', ')', ',', 'well-controlled', 'experiment', ',', 'computer', 'able', 'fool', 'interrogator', '70', '%', 'time', '.', 'While', '’', 'made', 'lot', 'progress', 'since', '1950', ',', 'algorithm', 'consistently', 'reached', 'bar', '.', 'However', ',', 'still', 'substantial', 'progress', 'field', 'chatbot', 'development', ',', 'led', 'multi-billion', 'dollar', 'industry', 'dozens', 'profitable', 'products.Before', 'examining', 'history', 'chatbot', 'development', ',', 'read', 'conversation', 'two', 'different', 'chatbots', ':', 'ELIZA', 'Mitsuku', '.', 'One', 'models', 'still', 'development', ',', 'programmed', '1966', '.', 'Can', 'guess', 'newest', '🤔🤔🤖', '.', 'Reception', ':', 'enhancing', 'company', 'sale', 'need', 'details', 'customers', 'purchasing', 'product', ',', 'Person', ':', 'ok', 'mail-ID', '-abccross', '@', 'gmail.com', ',', 'date', 'birth', '(', '27-March', '-2000', ')', ',', 'phone', 'number', '9874563422', ',', 'reception', ':', 'thank', 'purchasing', 'product', ',', 'Have', 'nice', 'day']\n"
          ]
        }
      ]
    },
    {
      "cell_type": "code",
      "source": [
        "from nltk import pos_tag\n",
        "nltk.download('averaged_perceptron_tagger')\n",
        "pos_tags = pos_tag(tokens)\n",
        "print(\"Original Text:\")\n",
        "print(text_paragraph)\n",
        "\n",
        "print(\"\\nPoS Tagging Result:\")\n",
        "for word, pos_tag in pos_tags:\n",
        "    print(f\"{word}: {pos_tag}\")"
      ],
      "metadata": {
        "colab": {
          "base_uri": "https://localhost:8080/"
        },
        "id": "hdG3i2qScWft",
        "outputId": "e3a83f28-fbc3-4215-844a-162112972729"
      },
      "execution_count": null,
      "outputs": [
        {
          "output_type": "stream",
          "name": "stdout",
          "text": [
            "Original Text:\n",
            "In October of 1950, Alan Turing proposed an approach for evaluating a computer’s intelligence and famously named his method, The Imitation Game. The premise is that an interrogator talks to two people through a “typewritten” machine (today we would refer to this as instant messaging). The catch is that only one of the conversations is with a real person – the other is with a computer.Turing posited that, by the turn of the century (the year 2000), in a well-controlled experiment, a computer should be able to fool the interrogator 70% of the time. While we’ve made a lot of progress since 1950, no algorithm has consistently reached this bar. However, there has still been substantial progress in the field of chatbot development, which has led to a multi-billion dollar industry and dozens of profitable products.Before examining the history of chatbot development, read through the conversation we had with two different chatbots: ELIZA and Mitsuku. One of these models is still in development, while the other was programmed in 1966. Can you guess which is the newest 🤔🤔🤖. Reception:for enhancing the company sale we need the details about the customers who are purchasing this product , Person: ok here is my mail-ID -abccross@gmail.com ,my date of birth is (27-March -2000) ,and my phone number is 9874563422 ,reception:thank you for purchasing the product  ,Have a nice day\n",
            "\n",
            "PoS Tagging Result:\n",
            "In: IN\n",
            "October: NNP\n",
            "of: IN\n",
            "1950: CD\n",
            ",: ,\n",
            "Alan: NNP\n",
            "Turing: NNP\n",
            "proposed: VBD\n",
            "an: DT\n",
            "approach: NN\n",
            "for: IN\n",
            "evaluating: VBG\n",
            "a: DT\n",
            "computer: NN\n",
            "’: NN\n",
            "s: JJ\n",
            "intelligence: NN\n",
            "and: CC\n",
            "famously: RB\n",
            "named: VBD\n",
            "his: PRP$\n",
            "method: NN\n",
            ",: ,\n",
            "The: DT\n",
            "Imitation: NNP\n",
            "Game: NNP\n",
            ".: .\n",
            "The: DT\n",
            "premise: NN\n",
            "is: VBZ\n",
            "that: IN\n",
            "an: DT\n",
            "interrogator: NN\n",
            "talks: NNS\n",
            "to: TO\n",
            "two: CD\n",
            "people: NNS\n",
            "through: IN\n",
            "a: DT\n",
            "“: NNP\n",
            "typewritten: NN\n",
            "”: NNP\n",
            "machine: NN\n",
            "(: (\n",
            "today: NN\n",
            "we: PRP\n",
            "would: MD\n",
            "refer: VB\n",
            "to: TO\n",
            "this: DT\n",
            "as: IN\n",
            "instant: JJ\n",
            "messaging: NN\n",
            "): )\n",
            ".: .\n",
            "The: DT\n",
            "catch: NN\n",
            "is: VBZ\n",
            "that: IN\n",
            "only: RB\n",
            "one: CD\n",
            "of: IN\n",
            "the: DT\n",
            "conversations: NNS\n",
            "is: VBZ\n",
            "with: IN\n",
            "a: DT\n",
            "real: JJ\n",
            "person: NN\n",
            "–: VBP\n",
            "the: DT\n",
            "other: JJ\n",
            "is: VBZ\n",
            "with: IN\n",
            "a: DT\n",
            "computer.Turing: NN\n",
            "posited: VBD\n",
            "that: IN\n",
            ",: ,\n",
            "by: IN\n",
            "the: DT\n",
            "turn: NN\n",
            "of: IN\n",
            "the: DT\n",
            "century: NN\n",
            "(: (\n",
            "the: DT\n",
            "year: NN\n",
            "2000: CD\n",
            "): )\n",
            ",: ,\n",
            "in: IN\n",
            "a: DT\n",
            "well-controlled: JJ\n",
            "experiment: NN\n",
            ",: ,\n",
            "a: DT\n",
            "computer: NN\n",
            "should: MD\n",
            "be: VB\n",
            "able: JJ\n",
            "to: TO\n",
            "fool: VB\n",
            "the: DT\n",
            "interrogator: NN\n",
            "70: CD\n",
            "%: NN\n",
            "of: IN\n",
            "the: DT\n",
            "time: NN\n",
            ".: .\n",
            "While: IN\n",
            "we: PRP\n",
            "’: VBP\n",
            "ve: RB\n",
            "made: VBN\n",
            "a: DT\n",
            "lot: NN\n",
            "of: IN\n",
            "progress: NN\n",
            "since: IN\n",
            "1950: CD\n",
            ",: ,\n",
            "no: DT\n",
            "algorithm: NN\n",
            "has: VBZ\n",
            "consistently: RB\n",
            "reached: VBN\n",
            "this: DT\n",
            "bar: NN\n",
            ".: .\n",
            "However: RB\n",
            ",: ,\n",
            "there: EX\n",
            "has: VBZ\n",
            "still: RB\n",
            "been: VBN\n",
            "substantial: JJ\n",
            "progress: NN\n",
            "in: IN\n",
            "the: DT\n",
            "field: NN\n",
            "of: IN\n",
            "chatbot: NN\n",
            "development: NN\n",
            ",: ,\n",
            "which: WDT\n",
            "has: VBZ\n",
            "led: VBN\n",
            "to: TO\n",
            "a: DT\n",
            "multi-billion: JJ\n",
            "dollar: NN\n",
            "industry: NN\n",
            "and: CC\n",
            "dozens: NNS\n",
            "of: IN\n",
            "profitable: JJ\n",
            "products.Before: NN\n",
            "examining: VBG\n",
            "the: DT\n",
            "history: NN\n",
            "of: IN\n",
            "chatbot: NN\n",
            "development: NN\n",
            ",: ,\n",
            "read: VBP\n",
            "through: IN\n",
            "the: DT\n",
            "conversation: NN\n",
            "we: PRP\n",
            "had: VBD\n",
            "with: IN\n",
            "two: CD\n",
            "different: JJ\n",
            "chatbots: NNS\n",
            ":: :\n",
            "ELIZA: NNP\n",
            "and: CC\n",
            "Mitsuku: NNP\n",
            ".: .\n",
            "One: CD\n",
            "of: IN\n",
            "these: DT\n",
            "models: NNS\n",
            "is: VBZ\n",
            "still: RB\n",
            "in: IN\n",
            "development: NN\n",
            ",: ,\n",
            "while: IN\n",
            "the: DT\n",
            "other: JJ\n",
            "was: VBD\n",
            "programmed: VBN\n",
            "in: IN\n",
            "1966: CD\n",
            ".: .\n",
            "Can: MD\n",
            "you: PRP\n",
            "guess: VB\n",
            "which: WDT\n",
            "is: VBZ\n",
            "the: DT\n",
            "newest: JJS\n",
            "🤔🤔🤖: NN\n",
            ".: .\n",
            "Reception: NN\n",
            ":: :\n",
            "for: IN\n",
            "enhancing: VBG\n",
            "the: DT\n",
            "company: NN\n",
            "sale: NN\n",
            "we: PRP\n",
            "need: VBP\n",
            "the: DT\n",
            "details: NNS\n",
            "about: IN\n",
            "the: DT\n",
            "customers: NNS\n",
            "who: WP\n",
            "are: VBP\n",
            "purchasing: VBG\n",
            "this: DT\n",
            "product: NN\n",
            ",: ,\n",
            "Person: NNP\n",
            ":: :\n",
            "ok: NN\n",
            "here: RB\n",
            "is: VBZ\n",
            "my: PRP$\n",
            "mail-ID: JJ\n",
            "-abccross: NN\n",
            "@: NNP\n",
            "gmail.com: NN\n",
            ",: ,\n",
            "my: PRP$\n",
            "date: NN\n",
            "of: IN\n",
            "birth: NN\n",
            "is: VBZ\n",
            "(: (\n",
            "27-March: JJ\n",
            "-2000: NN\n",
            "): )\n",
            ",: ,\n",
            "and: CC\n",
            "my: PRP$\n",
            "phone: NN\n",
            "number: NN\n",
            "is: VBZ\n",
            "9874563422: CD\n",
            ",: ,\n",
            "reception: NN\n",
            ":: :\n",
            "thank: NN\n",
            "you: PRP\n",
            "for: IN\n",
            "purchasing: VBG\n",
            "the: DT\n",
            "product: NN\n",
            ",: ,\n",
            "Have: VBP\n",
            "a: DT\n",
            "nice: JJ\n",
            "day: NN\n"
          ]
        },
        {
          "output_type": "stream",
          "name": "stderr",
          "text": [
            "[nltk_data] Downloading package averaged_perceptron_tagger to\n",
            "[nltk_data]     /root/nltk_data...\n",
            "[nltk_data]   Package averaged_perceptron_tagger is already up-to-\n",
            "[nltk_data]       date!\n"
          ]
        }
      ]
    },
    {
      "cell_type": "code",
      "source": [
        "#5)\n",
        "from nltk.stem import WordNetLemmatizer\n",
        "nltk.download('wordnet')\n",
        "tokens = word_tokenize(text_paragraph)\n",
        "lemmatizer = WordNetLemmatizer()\n",
        "unique_lemmas = set(lemmatizer.lemmatize(token.lower()) for token in tokens)\n",
        "# Print the number of unique lemmas\n",
        "print(\"Number of unique lemmas:\", len(unique_lemmas))"
      ],
      "metadata": {
        "id": "2KSVVSOHdOMz",
        "colab": {
          "base_uri": "https://localhost:8080/"
        },
        "outputId": "36304d7f-854c-4a33-8327-7bb2b5f83a21"
      },
      "execution_count": null,
      "outputs": [
        {
          "output_type": "stream",
          "name": "stdout",
          "text": [
            "Number of unique lemmas: 150\n"
          ]
        },
        {
          "output_type": "stream",
          "name": "stderr",
          "text": [
            "[nltk_data] Downloading package wordnet to /root/nltk_data...\n",
            "[nltk_data]   Package wordnet is already up-to-date!\n"
          ]
        }
      ]
    },
    {
      "cell_type": "code",
      "source": [
        "print(unique_lemmas)"
      ],
      "metadata": {
        "id": "kKiONc9Ie47a",
        "colab": {
          "base_uri": "https://localhost:8080/"
        },
        "outputId": "cc389aa7-3f2a-45a5-8ab8-bd7e81ad38af"
      },
      "execution_count": null,
      "outputs": [
        {
          "output_type": "stream",
          "name": "stdout",
          "text": [
            "{'since', 'dozen', 'other', 'able', 'dollar', '“', '1950', 'who', 'however', 'thank', 'an', 'talk', 'be', '”', 'to', 'mail-id', 'different', 'interrogator', 'have', 'alan', '(', 'made', 'today', 'proposed', 'this', 'can', 'of', 'programmed', 'well-controlled', 'approach', 'here', ',', 'chatbot', 'imitation', ':', 'you', 'sale', 'day', 'for', '-abccross', 'number', 'fool', 'computer', 'typewritten', 'turn', 'progress', 'read', 'about', 've', 'products.before', 'person', '’', 'company', 's', 'field', 'the', 'intelligence', 'is', '-2000', 'multi-billion', '70', 'real', 'game', 'had', 'time', 'which', 'nice', 'wa', 'only', 'substantial', 'still', 'experiment', 'these', 'would', 'with', 'need', 'computer.turing', 'eliza', 'evaluating', 'machine', 'birth', 'are', 'development', 'examining', 'purchasing', 'turing', 'ok', 'named', 'bar', 'method', 'through', 'newest', '.', 'messaging', 'should', 'catch', 'year', 'phone', 'in', 'instant', 'one', 'posited', 'premise', 'refer', ')', 'customer', 'people', 'october', '–', 'led', '9874563422', 'product', 'industry', 'consistently', 'been', '%', 'reception', 'detail', 'there', 'my', 'algorithm', 'conversation', 'no', '@', 'we', 'ha', 'profitable', 'enhancing', 'reached', 'and', 'model', 'two', 'that', '2000', 'famously', 'his', 'while', 'guess', 'history', 'gmail.com', 'lot', 'by', '1966', 'century', 'chatbots', 'mitsuku', 'date', '27-march', '🤔🤔🤖', 'a'}\n"
          ]
        }
      ]
    },
    {
      "cell_type": "code",
      "source": [
        "#plotting the frequency distribution\n",
        "import nltk\n",
        "from nltk.tokenize import word_tokenize\n",
        "from nltk.probability import FreqDist\n",
        "import matplotlib.pyplot as plt\n",
        "\n",
        "# Text paragraph\n",
        "text_paragraph = \"In October of 1950, Alan Turing proposed an approach for evaluating a computer’s intelligence and famously named his method, The Imitation Game. The premise is that an interrogator talks to two people through a “typewritten” machine (today we would refer to this as instant messaging). The catch is that only one of the conversations is with a real person – the other is with a computer.Turing posited that, by the turn of the century (the year 2000), in a well-controlled experiment, a computer should be able to fool the interrogator 70% of the time. While we’ve made a lot of progress since 1950, no algorithm has consistently reached this bar. However, there has still been substantial progress in the field of chatbot development, which has led to a multi-billion dollar industry and dozens of profitable products.Before examining the history of chatbot development, read through the conversation we had with two different chatbots: ELIZA and Mitsuku. One of these models is still in development, while the other was programmed in 1966. Can you guess which is the newest 🤔🤔🤖. Reception:for enhancing the company sale we need the details about the customers who are purchasing this product , Person: ok here is my mail-ID -abccross@gmail.com ,my date of birth is (27-March -2000) ,and my phone number is 9874563422 ,reception:thank you for purchasing the product  ,Have a nice day\"\n",
        "\n",
        "# Tokenize the text\n",
        "tokens = word_tokenize(text_paragraph)\n",
        "\n",
        "# Calculate frequency distribution of words\n",
        "freq_dist = FreqDist(tokens)\n",
        "\n",
        "# Plot the frequency distribution of top 10 tokens\n",
        "plt.figure(figsize=(10, 5))\n",
        "freq_dist.plot(10, title=\"Top 10 Most Occurring Tokens\")\n",
        "plt.show()\n"
      ],
      "metadata": {
        "colab": {
          "base_uri": "https://localhost:8080/",
          "height": 386
        },
        "id": "30QOrfIF6_wO",
        "outputId": "400e8be2-be87-4faf-d0a9-31d56519e3a7"
      },
      "execution_count": null,
      "outputs": [
        {
          "output_type": "display_data",
          "data": {
            "text/plain": [
              "<Figure size 1000x500 with 1 Axes>"
            ],
            "image/png": "[encoded data removed]"
          },
          "metadata": {}
        }
      ]
    },
    {
      "cell_type": "code",
      "source": [
        "from nltk.util import ngrams\n",
        "tokens = word_tokenize(text_paragraph)\n",
        "\n",
        "# Generate bigrams, trigrams, and quadgrams\n",
        "bigrams = set(ngrams(tokens, 2))\n",
        "trigrams = set(ngrams(tokens, 3))\n",
        "quadgrams = set(ngrams(tokens, 4))\n",
        "\n",
        "# Calculate the number of unique bigrams, trigrams, and quadgrams\n",
        "len_bigrams = len(bigrams)\n",
        "len_trigrams = len(trigrams)\n",
        "len_quadgrams = len(quadgrams)\n",
        "\n",
        "print(\"Number of unique bigrams:\", len_bigrams)\n",
        "print(\"Number of unique trigrams:\", len_trigrams)\n",
        "print(\"Number of unique quadgrams:\", len_quadgrams)\n"
      ],
      "metadata": {
        "colab": {
          "base_uri": "https://localhost:8080/"
        },
        "id": "Eff-8bhi7oEy",
        "outputId": "69896852-b78d-4787-dfa0-003f7b1f9bcb"
      },
      "execution_count": null,
      "outputs": [
        {
          "output_type": "stream",
          "name": "stdout",
          "text": [
            "Number of unique bigrams: 252\n",
            "Number of unique trigrams: 263\n",
            "Number of unique quadgrams: 264\n"
          ]
        }
      ]
    },
    {
      "cell_type": "code",
      "source": [
        "from datetime import datetime\n",
        "import re\n",
        "\n",
        "# Text paragraph\n",
        "text_paragraph = \"In October of 1950, Alan Turing proposed an approach for evaluating a computer’s intelligence and famously named his method, The Imitation Game. The premise is that an interrogator talks to two people through a “typewritten” machine (today we would refer to this as instant messaging). The catch is that only one of the conversations is with a real person – the other is with a computer.Turing posited that, by the turn of the century (the year 2000), in a well-controlled experiment, a computer should be able to fool the interrogator 70% of the time. While we’ve made a lot of progress since 1950, no algorithm has consistently reached this bar. However, there has still been substantial progress in the field of chatbot development, which has led to a multi-billion dollar industry and dozens of profitable products.Before examining the history of chatbot development, read through the conversation we had with two different chatbots: ELIZA and Mitsuku. One of these models is still in development, while the other was programmed in 1966. Can you guess which is the newest 🤔🤔🤖. Reception:for enhancing the company sale we need the details about the customers who are purchasing this product , Person: ok here is my mail-ID -abccross@gmail.com ,my date of birth is 2000/03/27 , and my phone number is 9874563422 ,reception:thank you for purchasing the product  ,Have a nice day\"\n",
        "\n",
        "# Define a regular expression pattern to find dates\n",
        "date_pattern = r'\\b(?:\\d{4}/\\d{2}/\\d{2})\\b'\n",
        "\n",
        "# Find all dates in the text\n",
        "dates = re.findall(date_pattern, text_paragraph)\n",
        "\n",
        "# Define function to convert dates to DD-MM-YYYY format\n",
        "def convert_to_dd_mm_yyyy(date_str):\n",
        "    date_obj = datetime.strptime(date_str, \"%Y/%m/%d\")\n",
        "    return date_obj.strftime(\"%d-%m-%Y\")\n",
        "\n",
        "# Create a copy of the original text_paragraph\n",
        "text_para = text_paragraph\n",
        "\n",
        "# Iterate over all dates found in the text\n",
        "for date in dates:\n",
        "    # Convert date to DD-MM-YYYY format\n",
        "    converted_date = convert_to_dd_mm_yyyy(date)\n",
        "    # Replace the date in the new variable with the converted format\n",
        "    text_para = text_para.replace(date, converted_date)\n",
        "\n",
        "print(\"New variable text_para with dates converted to DD-MM-YYYY format:\")\n",
        "print(text_para)\n"
      ],
      "metadata": {
        "colab": {
          "base_uri": "https://localhost:8080/"
        },
        "id": "J3qNIg2r_FSm",
        "outputId": "aaa28a41-17fe-4288-97dc-376f07609711"
      },
      "execution_count": null,
      "outputs": [
        {
          "output_type": "stream",
          "name": "stdout",
          "text": [
            "New variable text_para with dates converted to DD-MM-YYYY format:\n",
            "In October of 1950, Alan Turing proposed an approach for evaluating a computer’s intelligence and famously named his method, The Imitation Game. The premise is that an interrogator talks to two people through a “typewritten” machine (today we would refer to this as instant messaging). The catch is that only one of the conversations is with a real person – the other is with a computer.Turing posited that, by the turn of the century (the year 2000), in a well-controlled experiment, a computer should be able to fool the interrogator 70% of the time. While we’ve made a lot of progress since 1950, no algorithm has consistently reached this bar. However, there has still been substantial progress in the field of chatbot development, which has led to a multi-billion dollar industry and dozens of profitable products.Before examining the history of chatbot development, read through the conversation we had with two different chatbots: ELIZA and Mitsuku. One of these models is still in development, while the other was programmed in 1966. Can you guess which is the newest 🤔🤔🤖. Reception:for enhancing the company sale we need the details about the customers who are purchasing this product , Person: ok here is my mail-ID -abccross@gmail.com ,my date of birth is 27-03-2000 , and my phone number is 9874563422 ,reception:thank you for purchasing the product  ,Have a nice day\n"
          ]
        }
      ]
    },
    {
      "cell_type": "code",
      "source": [
        "converted_date"
      ],
      "metadata": {
        "colab": {
          "base_uri": "https://localhost:8080/",
          "height": 36
        },
        "id": "39BS-OHj8VlY",
        "outputId": "257190e8-3d9e-44cd-dbff-32d1432f671c"
      },
      "execution_count": null,
      "outputs": [
        {
          "output_type": "execute_result",
          "data": {
            "text/plain": [
              "'27-03-2000'"
            ],
            "application/vnd.google.colaboratory.intrinsic+json": {
              "type": "string"
            }
          },
          "metadata": {},
          "execution_count": 98
        }
      ]
    },
    {
      "cell_type": "code",
      "source": [
        "# Define a regular expression pattern to find years\n",
        "year_pattern = r'\\b\\d{4}\\b'\n",
        "\n",
        "# Find all years in the text\n",
        "years = re.findall(year_pattern, text_paragraph)\n",
        "# Count the occurrences of each year\n",
        "year_counts = {}\n",
        "for year in years:\n",
        "    year_counts[year] = year_counts.get(year, 0) + 1\n",
        "\n",
        "# Extract the years and their corresponding counts\n",
        "years = list(year_counts.keys())\n",
        "counts = list(year_counts.values())\n",
        "\n",
        "# Plot the distribution of the different values of years\n",
        "plt.figure(figsize=(10, 6))\n",
        "plt.bar(years, counts, color='skyblue')\n",
        "plt.xlabel('Year')\n",
        "plt.ylabel('Frequency')\n",
        "plt.title('Distribution of Years')\n",
        "plt.xticks(rotation=45)\n",
        "plt.grid(axis='y', linestyle='--', alpha=0.7)\n",
        "plt.tight_layout()\n",
        "plt.show()"
      ],
      "metadata": {
        "colab": {
          "base_uri": "https://localhost:8080/",
          "height": 402
        },
        "id": "WVCCZgYe8_me",
        "outputId": "0722ba6b-56a1-4b7c-f8fe-0288cebfb953"
      },
      "execution_count": null,
      "outputs": [
        {
          "output_type": "display_data",
          "data": {
            "text/plain": [
              "<Figure size 1000x600 with 1 Axes>"
            ],
            "image/png": "[encoded data removed]"
          },
          "metadata": {}
        }
      ]
    },
    {
      "cell_type": "code",
      "source": [],
      "metadata": {
        "colab": {
          "base_uri": "https://localhost:8080/"
        },
        "id": "jBM7NmV2ICS5",
        "outputId": "d4c8be88-28d5-4180-dff1-e7b533de7a82"
      },
      "execution_count": null,
      "outputs": [
        {
          "output_type": "stream",
          "name": "stdout",
          "text": [
            "Valid phone numbers: []\n",
            "Text with invalid phone numbers removed:\n",
            "In October of 1950, Alan Turing proposed an approach for evaluating a computer’s intelligence and famously named his method, The Imitation Game. The premise is that an interrogator talks to two people through a “typewritten” machine (today we would refer to this as instant messaging). The catch is that only one of the conversations is with a real person – the other is with a computer.Turing posited that, by the turn of the century (the year 2000), in a well-controlled experiment, a computer should be able to fool the interrogator 70% of the time. While we’ve made a lot of progress since 1950, no algorithm has consistently reached this bar. However, there has still been substantial progress in the field of chatbot development, which has led to a multi-billion dollar industry and dozens of profitable products.Before examining the history of chatbot development, read through the conversation we had with two different chatbots: ELIZA and Mitsuku. One of these models is still in development, while the other was programmed in 1966. Can you guess which is the newest 🤔🤔🤖. Reception:for enhancing the company sale we need the details about the customers who are purchasing this product , Person: ok here is my mail-ID -abccross@gmail.com ,my date of birth is 2000/03/27 , and my phone number is 9874563422 ,reception:thank you for purchasing the product  ,Have a nice day\n"
          ]
        }
      ]
    },
    {
      "cell_type": "code",
      "source": [
        "# Define a regular expression pattern to find phone numbers\n",
        "pattern = r'\\b(?:\\d{10}|\\d{3}[-\\.\\s]??\\d{3}[-\\.\\s]??\\d{4})\\b'\n",
        "\n",
        "# Find all phone numbers in the text\n",
        "phone_numbers = re.findall(pattern, text_paragraph)\n",
        "\n",
        "# Define a function to validate phone numbers\n",
        "def is_valid_phone(phone):\n",
        "    # Check if the phone number is exactly 10 digits\n",
        "    if len(phone) == 10:\n",
        "        return True\n",
        "    # Check if the phone number has the format: XXX-XXX-XXXX or XXX.XXX.XXXX or XXX XXX XXXX\n",
        "    elif re.match(r'^\\d{3}[-\\.\\s]??\\d{3}[-\\.\\s]??\\d{4}$', phone):\n",
        "        return True\n",
        "    else:\n",
        "        return False\n",
        "\n",
        "# Remove invalid phone numbers from the text\n",
        "for phone in phone_numbers:\n",
        "    if not is_valid_phone(phone):\n",
        "        text_paragraph = text_paragraph.replace(phone, \"\")\n"
      ],
      "metadata": {
        "id": "rUmGT-OpIyh4"
      },
      "execution_count": null,
      "outputs": []
    },
    {
      "cell_type": "code",
      "source": [
        "phone_numbers"
      ],
      "metadata": {
        "colab": {
          "base_uri": "https://localhost:8080/"
        },
        "id": "vAxZov-uKmtK",
        "outputId": "08dd8dd2-01a1-431d-93c7-58a2d407f0da"
      },
      "execution_count": null,
      "outputs": [
        {
          "output_type": "execute_result",
          "data": {
            "text/plain": [
              "['9874563422']"
            ]
          },
          "metadata": {},
          "execution_count": 115
        }
      ]
    },
    {
      "cell_type": "code",
      "source": [],
      "metadata": {
        "id": "wTp0UPAAKq_B"
      },
      "execution_count": null,
      "outputs": []
    }
  ]
}