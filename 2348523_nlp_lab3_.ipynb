{
  "nbformat": 4,
  "nbformat_minor": 0,
  "metadata": {
    "colab": {
      "provenance": [],
      "authorship_tag": "ABX9TyP1bO54XZCkxWSTWUGZiI18",
      "include_colab_link": true
    },
    "kernelspec": {
      "name": "python3",
      "display_name": "Python 3"
    },
    "language_info": {
      "name": "python"
    }
  },
  "cells": [
    {
      "cell_type": "markdown",
      "metadata": {
        "id": "view-in-github",
        "colab_type": "text"
      },
      "source": [
        "<a href=\"https://colab.research.google.com/github/joshIsac/nlp_lab/blob/main/2348523_nlp_lab3_.ipynb\" target=\"_parent\"><img src=\"https://colab.research.google.com/assets/colab-badge.svg\" alt=\"Open In Colab\"/></a>"
      ]
    },
    {
      "cell_type": "code",
      "source": [
        "!pip install indic-nlp-library\n",
        "!pip install inltk\n",
        "!pip install torch"
      ],
      "metadata": {
        "colab": {
          "base_uri": "https://localhost:8080/"
        },
        "id": "ST1XN8B8WwvP",
        "outputId": "82ebe274-1de0-4ae3-84e3-996e1bcc26b1"
      },
      "execution_count": 16,
      "outputs": [
        {
          "output_type": "stream",
          "name": "stdout",
          "text": [
            "Requirement already satisfied: indic-nlp-library in /usr/local/lib/python3.10/dist-packages (0.92)\n",
            "Requirement already satisfied: sphinx-argparse in /usr/local/lib/python3.10/dist-packages (from indic-nlp-library) (0.4.0)\n",
            "Requirement already satisfied: sphinx-rtd-theme in /usr/local/lib/python3.10/dist-packages (from indic-nlp-library) (2.0.0)\n",
            "Requirement already satisfied: morfessor in /usr/local/lib/python3.10/dist-packages (from indic-nlp-library) (2.0.6)\n",
            "Requirement already satisfied: pandas in /usr/local/lib/python3.10/dist-packages (from indic-nlp-library) (1.5.3)\n",
            "Requirement already satisfied: numpy in /usr/local/lib/python3.10/dist-packages (from indic-nlp-library) (1.25.2)\n",
            "Requirement already satisfied: python-dateutil>=2.8.1 in /usr/local/lib/python3.10/dist-packages (from pandas->indic-nlp-library) (2.8.2)\n",
            "Requirement already satisfied: pytz>=2020.1 in /usr/local/lib/python3.10/dist-packages (from pandas->indic-nlp-library) (2023.4)\n",
            "Requirement already satisfied: sphinx>=1.2.0 in /usr/local/lib/python3.10/dist-packages (from sphinx-argparse->indic-nlp-library) (5.0.2)\n",
            "Requirement already satisfied: docutils<0.21 in /usr/local/lib/python3.10/dist-packages (from sphinx-rtd-theme->indic-nlp-library) (0.18.1)\n",
            "Requirement already satisfied: sphinxcontrib-jquery<5,>=4 in /usr/local/lib/python3.10/dist-packages (from sphinx-rtd-theme->indic-nlp-library) (4.1)\n",
            "Requirement already satisfied: six>=1.5 in /usr/local/lib/python3.10/dist-packages (from python-dateutil>=2.8.1->pandas->indic-nlp-library) (1.16.0)\n",
            "Requirement already satisfied: sphinxcontrib-applehelp in /usr/local/lib/python3.10/dist-packages (from sphinx>=1.2.0->sphinx-argparse->indic-nlp-library) (1.0.8)\n",
            "Requirement already satisfied: sphinxcontrib-devhelp in /usr/local/lib/python3.10/dist-packages (from sphinx>=1.2.0->sphinx-argparse->indic-nlp-library) (1.0.6)\n",
            "Requirement already satisfied: sphinxcontrib-jsmath in /usr/local/lib/python3.10/dist-packages (from sphinx>=1.2.0->sphinx-argparse->indic-nlp-library) (1.0.1)\n",
            "Requirement already satisfied: sphinxcontrib-htmlhelp>=2.0.0 in /usr/local/lib/python3.10/dist-packages (from sphinx>=1.2.0->sphinx-argparse->indic-nlp-library) (2.0.5)\n",
            "Requirement already satisfied: sphinxcontrib-serializinghtml>=1.1.5 in /usr/local/lib/python3.10/dist-packages (from sphinx>=1.2.0->sphinx-argparse->indic-nlp-library) (1.1.10)\n",
            "Requirement already satisfied: sphinxcontrib-qthelp in /usr/local/lib/python3.10/dist-packages (from sphinx>=1.2.0->sphinx-argparse->indic-nlp-library) (1.0.7)\n",
            "Requirement already satisfied: Jinja2>=2.3 in /usr/local/lib/python3.10/dist-packages (from sphinx>=1.2.0->sphinx-argparse->indic-nlp-library) (3.1.3)\n",
            "Requirement already satisfied: Pygments>=2.0 in /usr/local/lib/python3.10/dist-packages (from sphinx>=1.2.0->sphinx-argparse->indic-nlp-library) (2.16.1)\n",
            "Requirement already satisfied: snowballstemmer>=1.1 in /usr/local/lib/python3.10/dist-packages (from sphinx>=1.2.0->sphinx-argparse->indic-nlp-library) (2.2.0)\n",
            "Requirement already satisfied: babel>=1.3 in /usr/local/lib/python3.10/dist-packages (from sphinx>=1.2.0->sphinx-argparse->indic-nlp-library) (2.14.0)\n",
            "Requirement already satisfied: alabaster<0.8,>=0.7 in /usr/local/lib/python3.10/dist-packages (from sphinx>=1.2.0->sphinx-argparse->indic-nlp-library) (0.7.16)\n",
            "Requirement already satisfied: imagesize in /usr/local/lib/python3.10/dist-packages (from sphinx>=1.2.0->sphinx-argparse->indic-nlp-library) (1.4.1)\n",
            "Requirement already satisfied: requests>=2.5.0 in /usr/local/lib/python3.10/dist-packages (from sphinx>=1.2.0->sphinx-argparse->indic-nlp-library) (2.31.0)\n",
            "Requirement already satisfied: packaging in /usr/local/lib/python3.10/dist-packages (from sphinx>=1.2.0->sphinx-argparse->indic-nlp-library) (23.2)\n",
            "Requirement already satisfied: MarkupSafe>=2.0 in /usr/local/lib/python3.10/dist-packages (from Jinja2>=2.3->sphinx>=1.2.0->sphinx-argparse->indic-nlp-library) (2.1.5)\n",
            "Requirement already satisfied: charset-normalizer<4,>=2 in /usr/local/lib/python3.10/dist-packages (from requests>=2.5.0->sphinx>=1.2.0->sphinx-argparse->indic-nlp-library) (3.3.2)\n",
            "Requirement already satisfied: idna<4,>=2.5 in /usr/local/lib/python3.10/dist-packages (from requests>=2.5.0->sphinx>=1.2.0->sphinx-argparse->indic-nlp-library) (3.6)\n",
            "Requirement already satisfied: urllib3<3,>=1.21.1 in /usr/local/lib/python3.10/dist-packages (from requests>=2.5.0->sphinx>=1.2.0->sphinx-argparse->indic-nlp-library) (2.0.7)\n",
            "Requirement already satisfied: certifi>=2017.4.17 in /usr/local/lib/python3.10/dist-packages (from requests>=2.5.0->sphinx>=1.2.0->sphinx-argparse->indic-nlp-library) (2024.2.2)\n",
            "Requirement already satisfied: inltk in /usr/local/lib/python3.10/dist-packages (0.9)\n",
            "Requirement already satisfied: aiohttp>=3.5.4 in /usr/local/lib/python3.10/dist-packages (from inltk) (3.9.3)\n",
            "Requirement already satisfied: async-timeout>=3.0.1 in /usr/local/lib/python3.10/dist-packages (from inltk) (4.0.3)\n",
            "Requirement already satisfied: Pillow in /usr/local/lib/python3.10/dist-packages (from inltk) (9.4.0)\n",
            "Requirement already satisfied: beautifulsoup4 in /usr/local/lib/python3.10/dist-packages (from inltk) (4.12.3)\n",
            "Requirement already satisfied: bottleneck in /usr/local/lib/python3.10/dist-packages (from inltk) (1.3.7)\n",
            "Requirement already satisfied: fastprogress>=0.1.19 in /usr/local/lib/python3.10/dist-packages (from inltk) (1.0.3)\n",
            "Requirement already satisfied: matplotlib in /usr/local/lib/python3.10/dist-packages (from inltk) (3.7.1)\n",
            "Requirement already satisfied: numexpr in /usr/local/lib/python3.10/dist-packages (from inltk) (2.9.0)\n",
            "Requirement already satisfied: numpy>=1.15 in /usr/local/lib/python3.10/dist-packages (from inltk) (1.25.2)\n",
            "Requirement already satisfied: nvidia-ml-py3 in /usr/local/lib/python3.10/dist-packages (from inltk) (7.352.0)\n",
            "Requirement already satisfied: packaging in /usr/local/lib/python3.10/dist-packages (from inltk) (23.2)\n",
            "Requirement already satisfied: pandas in /usr/local/lib/python3.10/dist-packages (from inltk) (1.5.3)\n",
            "Requirement already satisfied: pyyaml in /usr/local/lib/python3.10/dist-packages (from inltk) (6.0.1)\n",
            "Requirement already satisfied: requests in /usr/local/lib/python3.10/dist-packages (from inltk) (2.31.0)\n",
            "Requirement already satisfied: scipy in /usr/local/lib/python3.10/dist-packages (from inltk) (1.11.4)\n",
            "Requirement already satisfied: spacy>=2.0.18 in /usr/local/lib/python3.10/dist-packages (from inltk) (3.7.4)\n",
            "Requirement already satisfied: typing in /usr/local/lib/python3.10/dist-packages (from inltk) (3.7.4.3)\n",
            "Requirement already satisfied: fastai==1.0.57 in /usr/local/lib/python3.10/dist-packages (from inltk) (1.0.57)\n",
            "Requirement already satisfied: sentencepiece in /usr/local/lib/python3.10/dist-packages (from inltk) (0.1.99)\n",
            "Requirement already satisfied: torch>=1.0.0 in /usr/local/lib/python3.10/dist-packages (from fastai==1.0.57->inltk) (2.1.0+cu121)\n",
            "Requirement already satisfied: torchvision in /usr/local/lib/python3.10/dist-packages (from fastai==1.0.57->inltk) (0.16.0+cu121)\n",
            "Requirement already satisfied: aiosignal>=1.1.2 in /usr/local/lib/python3.10/dist-packages (from aiohttp>=3.5.4->inltk) (1.3.1)\n",
            "Requirement already satisfied: attrs>=17.3.0 in /usr/local/lib/python3.10/dist-packages (from aiohttp>=3.5.4->inltk) (23.2.0)\n",
            "Requirement already satisfied: frozenlist>=1.1.1 in /usr/local/lib/python3.10/dist-packages (from aiohttp>=3.5.4->inltk) (1.4.1)\n",
            "Requirement already satisfied: multidict<7.0,>=4.5 in /usr/local/lib/python3.10/dist-packages (from aiohttp>=3.5.4->inltk) (6.0.5)\n",
            "Requirement already satisfied: yarl<2.0,>=1.0 in /usr/local/lib/python3.10/dist-packages (from aiohttp>=3.5.4->inltk) (1.9.4)\n",
            "Requirement already satisfied: spacy-legacy<3.1.0,>=3.0.11 in /usr/local/lib/python3.10/dist-packages (from spacy>=2.0.18->inltk) (3.0.12)\n",
            "Requirement already satisfied: spacy-loggers<2.0.0,>=1.0.0 in /usr/local/lib/python3.10/dist-packages (from spacy>=2.0.18->inltk) (1.0.5)\n",
            "Requirement already satisfied: murmurhash<1.1.0,>=0.28.0 in /usr/local/lib/python3.10/dist-packages (from spacy>=2.0.18->inltk) (1.0.10)\n",
            "Requirement already satisfied: cymem<2.1.0,>=2.0.2 in /usr/local/lib/python3.10/dist-packages (from spacy>=2.0.18->inltk) (2.0.8)\n",
            "Requirement already satisfied: preshed<3.1.0,>=3.0.2 in /usr/local/lib/python3.10/dist-packages (from spacy>=2.0.18->inltk) (3.0.9)\n",
            "Requirement already satisfied: thinc<8.3.0,>=8.2.2 in /usr/local/lib/python3.10/dist-packages (from spacy>=2.0.18->inltk) (8.2.3)\n",
            "Requirement already satisfied: wasabi<1.2.0,>=0.9.1 in /usr/local/lib/python3.10/dist-packages (from spacy>=2.0.18->inltk) (1.1.2)\n",
            "Requirement already satisfied: srsly<3.0.0,>=2.4.3 in /usr/local/lib/python3.10/dist-packages (from spacy>=2.0.18->inltk) (2.4.8)\n",
            "Requirement already satisfied: catalogue<2.1.0,>=2.0.6 in /usr/local/lib/python3.10/dist-packages (from spacy>=2.0.18->inltk) (2.0.10)\n",
            "Requirement already satisfied: weasel<0.4.0,>=0.1.0 in /usr/local/lib/python3.10/dist-packages (from spacy>=2.0.18->inltk) (0.3.4)\n",
            "Requirement already satisfied: typer<0.10.0,>=0.3.0 in /usr/local/lib/python3.10/dist-packages (from spacy>=2.0.18->inltk) (0.9.0)\n",
            "Requirement already satisfied: smart-open<7.0.0,>=5.2.1 in /usr/local/lib/python3.10/dist-packages (from spacy>=2.0.18->inltk) (6.4.0)\n",
            "Requirement already satisfied: tqdm<5.0.0,>=4.38.0 in /usr/local/lib/python3.10/dist-packages (from spacy>=2.0.18->inltk) (4.66.2)\n",
            "Requirement already satisfied: pydantic!=1.8,!=1.8.1,<3.0.0,>=1.7.4 in /usr/local/lib/python3.10/dist-packages (from spacy>=2.0.18->inltk) (2.6.1)\n",
            "Requirement already satisfied: jinja2 in /usr/local/lib/python3.10/dist-packages (from spacy>=2.0.18->inltk) (3.1.3)\n",
            "Requirement already satisfied: setuptools in /usr/local/lib/python3.10/dist-packages (from spacy>=2.0.18->inltk) (67.7.2)\n",
            "Requirement already satisfied: langcodes<4.0.0,>=3.2.0 in /usr/local/lib/python3.10/dist-packages (from spacy>=2.0.18->inltk) (3.3.0)\n",
            "Requirement already satisfied: charset-normalizer<4,>=2 in /usr/local/lib/python3.10/dist-packages (from requests->inltk) (3.3.2)\n",
            "Requirement already satisfied: idna<4,>=2.5 in /usr/local/lib/python3.10/dist-packages (from requests->inltk) (3.6)\n",
            "Requirement already satisfied: urllib3<3,>=1.21.1 in /usr/local/lib/python3.10/dist-packages (from requests->inltk) (2.0.7)\n",
            "Requirement already satisfied: certifi>=2017.4.17 in /usr/local/lib/python3.10/dist-packages (from requests->inltk) (2024.2.2)\n",
            "Requirement already satisfied: soupsieve>1.2 in /usr/local/lib/python3.10/dist-packages (from beautifulsoup4->inltk) (2.5)\n",
            "Requirement already satisfied: contourpy>=1.0.1 in /usr/local/lib/python3.10/dist-packages (from matplotlib->inltk) (1.2.0)\n",
            "Requirement already satisfied: cycler>=0.10 in /usr/local/lib/python3.10/dist-packages (from matplotlib->inltk) (0.12.1)\n",
            "Requirement already satisfied: fonttools>=4.22.0 in /usr/local/lib/python3.10/dist-packages (from matplotlib->inltk) (4.49.0)\n",
            "Requirement already satisfied: kiwisolver>=1.0.1 in /usr/local/lib/python3.10/dist-packages (from matplotlib->inltk) (1.4.5)\n",
            "Requirement already satisfied: pyparsing>=2.3.1 in /usr/local/lib/python3.10/dist-packages (from matplotlib->inltk) (3.1.1)\n",
            "Requirement already satisfied: python-dateutil>=2.7 in /usr/local/lib/python3.10/dist-packages (from matplotlib->inltk) (2.8.2)\n",
            "Requirement already satisfied: pytz>=2020.1 in /usr/local/lib/python3.10/dist-packages (from pandas->inltk) (2023.4)\n",
            "Requirement already satisfied: annotated-types>=0.4.0 in /usr/local/lib/python3.10/dist-packages (from pydantic!=1.8,!=1.8.1,<3.0.0,>=1.7.4->spacy>=2.0.18->inltk) (0.6.0)\n",
            "Requirement already satisfied: pydantic-core==2.16.2 in /usr/local/lib/python3.10/dist-packages (from pydantic!=1.8,!=1.8.1,<3.0.0,>=1.7.4->spacy>=2.0.18->inltk) (2.16.2)\n",
            "Requirement already satisfied: typing-extensions>=4.6.1 in /usr/local/lib/python3.10/dist-packages (from pydantic!=1.8,!=1.8.1,<3.0.0,>=1.7.4->spacy>=2.0.18->inltk) (4.9.0)\n",
            "Requirement already satisfied: six>=1.5 in /usr/local/lib/python3.10/dist-packages (from python-dateutil>=2.7->matplotlib->inltk) (1.16.0)\n",
            "Requirement already satisfied: blis<0.8.0,>=0.7.8 in /usr/local/lib/python3.10/dist-packages (from thinc<8.3.0,>=8.2.2->spacy>=2.0.18->inltk) (0.7.11)\n",
            "Requirement already satisfied: confection<1.0.0,>=0.0.1 in /usr/local/lib/python3.10/dist-packages (from thinc<8.3.0,>=8.2.2->spacy>=2.0.18->inltk) (0.1.4)\n",
            "Requirement already satisfied: filelock in /usr/local/lib/python3.10/dist-packages (from torch>=1.0.0->fastai==1.0.57->inltk) (3.13.1)\n",
            "Requirement already satisfied: sympy in /usr/local/lib/python3.10/dist-packages (from torch>=1.0.0->fastai==1.0.57->inltk) (1.12)\n",
            "Requirement already satisfied: networkx in /usr/local/lib/python3.10/dist-packages (from torch>=1.0.0->fastai==1.0.57->inltk) (3.2.1)\n",
            "Requirement already satisfied: fsspec in /usr/local/lib/python3.10/dist-packages (from torch>=1.0.0->fastai==1.0.57->inltk) (2023.6.0)\n",
            "Requirement already satisfied: triton==2.1.0 in /usr/local/lib/python3.10/dist-packages (from torch>=1.0.0->fastai==1.0.57->inltk) (2.1.0)\n",
            "Requirement already satisfied: click<9.0.0,>=7.1.1 in /usr/local/lib/python3.10/dist-packages (from typer<0.10.0,>=0.3.0->spacy>=2.0.18->inltk) (8.1.7)\n",
            "Requirement already satisfied: cloudpathlib<0.17.0,>=0.7.0 in /usr/local/lib/python3.10/dist-packages (from weasel<0.4.0,>=0.1.0->spacy>=2.0.18->inltk) (0.16.0)\n",
            "Requirement already satisfied: MarkupSafe>=2.0 in /usr/local/lib/python3.10/dist-packages (from jinja2->spacy>=2.0.18->inltk) (2.1.5)\n",
            "Requirement already satisfied: mpmath>=0.19 in /usr/local/lib/python3.10/dist-packages (from sympy->torch>=1.0.0->fastai==1.0.57->inltk) (1.3.0)\n",
            "Requirement already satisfied: torch in /usr/local/lib/python3.10/dist-packages (2.1.0+cu121)\n",
            "Requirement already satisfied: filelock in /usr/local/lib/python3.10/dist-packages (from torch) (3.13.1)\n",
            "Requirement already satisfied: typing-extensions in /usr/local/lib/python3.10/dist-packages (from torch) (4.9.0)\n",
            "Requirement already satisfied: sympy in /usr/local/lib/python3.10/dist-packages (from torch) (1.12)\n",
            "Requirement already satisfied: networkx in /usr/local/lib/python3.10/dist-packages (from torch) (3.2.1)\n",
            "Requirement already satisfied: jinja2 in /usr/local/lib/python3.10/dist-packages (from torch) (3.1.3)\n",
            "Requirement already satisfied: fsspec in /usr/local/lib/python3.10/dist-packages (from torch) (2023.6.0)\n",
            "Requirement already satisfied: triton==2.1.0 in /usr/local/lib/python3.10/dist-packages (from torch) (2.1.0)\n",
            "Requirement already satisfied: MarkupSafe>=2.0 in /usr/local/lib/python3.10/dist-packages (from jinja2->torch) (2.1.5)\n",
            "Requirement already satisfied: mpmath>=0.19 in /usr/local/lib/python3.10/dist-packages (from sympy->torch) (1.3.0)\n"
          ]
        }
      ]
    },
    {
      "cell_type": "code",
      "execution_count": 25,
      "metadata": {
        "id": "3Idl3T3mMq5a"
      },
      "outputs": [],
      "source": [
        "import spacy\n",
        "import nltk\n",
        "from indicnlp.tokenize import indic_tokenize\n",
        "\n"
      ]
    },
    {
      "cell_type": "code",
      "source": [
        "text_paragraph=\"1950 ರ ಅಕ್ಟೋಬರ್‌ನಲ್ಲಿ, ಅಲನ್ ಟ್ಯೂರಿಂಗ್ ಕಂಪ್ಯೂಟರ್‌ನ ಬುದ್ಧಿಮತ್ತೆಯನ್ನು ಮೌಲ್ಯಮಾಪನ ಮಾಡುವ ವಿಧಾನವನ್ನು ಪ್ರಸ್ತಾಪಿಸಿದರು ಮತ್ತು ಅವರ ವಿಧಾನಕ್ಕೆ ಪ್ರಸಿದ್ಧವಾಗಿ ಹೆಸರಿಸಿದರು, ಅನುಕರಣೆ ಆಟ. ಪ್ರಮೇಯವೆಂದರೆ ಒಬ್ಬ ವಿಚಾರಣೆಗಾರನು 'ಟೈಪ್‌ರೈಟನ್' ಯಂತ್ರದ ಮೂಲಕ ಇಬ್ಬರು ಜನರೊಂದಿಗೆ ಮಾತನಾಡುತ್ತಾನೆ (ಇಂದು ನಾವು ಇದನ್ನು ಉಲ್ಲೇಖಿಸುತ್ತೇವೆ. ಇದು ತತ್‌ಕ್ಷಣದ ಸಂದೇಶ ರವಾನೆಯಾಗಿದೆ) ಕ್ಯಾಚ್ ಏನೆಂದರೆ, ಸಂಭಾಷಣೆಗಳಲ್ಲಿ ಒಂದು ನೈಜ ವ್ಯಕ್ತಿಯೊಂದಿಗೆ ಮಾತ್ರ - ಇನ್ನೊಂದು ಕಂಪ್ಯೂಟರ್‌ನೊಂದಿಗೆ. ಟ್ಯೂರಿಂಗ್, ಶತಮಾನದ ಕೊನೆಯಲ್ಲಿ (ವರ್ಷ 2000) ಉತ್ತಮವಾಗಿ ನಿಯಂತ್ರಿತ ಪ್ರಯೋಗದಲ್ಲಿ ಪ್ರತಿಪಾದಿಸಿದರು. , ಕಂಪ್ಯೂಟರ್‌ಗೆ 70% ರಷ್ಟು ವಿಚಾರಣಾಕಾರರನ್ನು ಮರುಳು ಮಾಡಲು ಸಾಧ್ಯವಾಗುತ್ತದೆ. 1950 ರಿಂದ ನಾವು ಸಾಕಷ್ಟು ಪ್ರಗತಿಯನ್ನು ಸಾಧಿಸಿದ್ದರೂ, ಯಾವುದೇ ಅಲ್ಗಾರಿದಮ್ ಸತತವಾಗಿ ಈ ಬಾರ್ ಅನ್ನು ತಲುಪಿಲ್ಲ. ಆದಾಗ್ಯೂ, ಚಾಟ್‌ಬಾಟ್ ಅಭಿವೃದ್ಧಿಯ ಕ್ಷೇತ್ರದಲ್ಲಿ ಇನ್ನೂ ಗಣನೀಯ ಪ್ರಗತಿ ಕಂಡುಬಂದಿದೆ. , ಇದು ಬಹು-ಶತಕೋಟಿ ಡಾಲರ್ ಉದ್ಯಮ ಮತ್ತು ಡಜನ್ಗಟ್ಟಲೆ ಲಾಭದಾಯಕ ಉತ್ಪನ್ನಗಳಿಗೆ ಕಾರಣವಾಯಿತು. ಚಾಟ್‌ಬಾಟ್ ಅಭಿವೃದ್ಧಿಯ ಇತಿಹಾಸವನ್ನು ಪರಿಶೀಲಿಸುವ ಮೊದಲು, ನಾವು ಎರಡು ವಿಭಿನ್ನ ಚಾಟ್‌ಬಾಟ್‌ಗಳೊಂದಿಗೆ ನಡೆಸಿದ ಸಂಭಾಷಣೆಯನ್ನು ಓದಿ: ELIZA ಮತ್ತು Mitsuku. ಈ ಮಾದರಿಗಳಲ್ಲಿ ಒಂದು ಇನ್ನೂ ಅಭಿವೃದ್ಧಿಯಲ್ಲಿದೆ. ಇನ್ನೊಂದನ್ನು 1966 ರಲ್ಲಿ ಪ್ರೋಗ್ರಾಮ್ ಮಾಡಲಾಗಿದೆ. ಯಾವುದು ಹೊಸದು ಎಂದು ನೀವು ಊಹಿಸಬಲ್ಲಿರಾ 🤔🤔🤖\""
      ],
      "metadata": {
        "id": "-t6tzIkeYbVk"
      },
      "execution_count": 21,
      "outputs": []
    },
    {
      "cell_type": "code",
      "source": [
        "token=indic_tokenize.trivial_tokenize(text_paragraph)\n",
        "print(token)"
      ],
      "metadata": {
        "colab": {
          "base_uri": "https://localhost:8080/"
        },
        "id": "XdernhMPaHhW",
        "outputId": "beec8fb8-6fcf-4100-e2d4-7c5637c796c3"
      },
      "execution_count": 23,
      "outputs": [
        {
          "output_type": "stream",
          "name": "stdout",
          "text": [
            "['1950', 'ರ', 'ಅಕ್ಟೋಬರ್\\u200cನಲ್ಲಿ', ',', 'ಅಲನ್', 'ಟ್ಯೂರಿಂಗ್', 'ಕಂಪ್ಯೂಟರ್\\u200cನ', 'ಬುದ್ಧಿಮತ್ತೆಯನ್ನು', 'ಮೌಲ್ಯಮಾಪನ', 'ಮಾಡುವ', 'ವಿಧಾನವನ್ನು', 'ಪ್ರಸ್ತಾಪಿಸಿದರು', 'ಮತ್ತು', 'ಅವರ', 'ವಿಧಾನಕ್ಕೆ', 'ಪ್ರಸಿದ್ಧವಾಗಿ', 'ಹೆಸರಿಸಿದರು', ',', 'ಅನುಕರಣೆ', 'ಆಟ', '.', 'ಪ್ರಮೇಯವೆಂದರೆ', 'ಒಬ್ಬ', 'ವಿಚಾರಣೆಗಾರನು', \"'\", 'ಟೈಪ್\\u200cರೈಟನ್', \"'\", 'ಯಂತ್ರದ', 'ಮೂಲಕ', 'ಇಬ್ಬರು', 'ಜನರೊಂದಿಗೆ', 'ಮಾತನಾಡುತ್ತಾನೆ', '(', 'ಇಂದು', 'ನಾವು', 'ಇದನ್ನು', 'ಉಲ್ಲೇಖಿಸುತ್ತೇವೆ', '.', 'ಇದು', 'ತತ್\\u200cಕ್ಷಣದ', 'ಸಂದೇಶ', 'ರವಾನೆಯಾಗಿದೆ', ')', 'ಕ್ಯಾಚ್', 'ಏನೆಂದರೆ', ',', 'ಸಂಭಾಷಣೆಗಳಲ್ಲಿ', 'ಒಂದು', 'ನೈಜ', 'ವ್ಯಕ್ತಿಯೊಂದಿಗೆ', 'ಮಾತ್ರ', '-', 'ಇನ್ನೊಂದು', 'ಕಂಪ್ಯೂಟರ್\\u200cನೊಂದಿಗೆ', '.', 'ಟ್ಯೂರಿಂಗ್', ',', 'ಶತಮಾನದ', 'ಕೊನೆಯಲ್ಲಿ', '(', 'ವರ್ಷ', '2000', ')', 'ಉತ್ತಮವಾಗಿ', 'ನಿಯಂತ್ರಿತ', 'ಪ್ರಯೋಗದಲ್ಲಿ', 'ಪ್ರತಿಪಾದಿಸಿದರು', '.', ',', 'ಕಂಪ್ಯೂಟರ್\\u200cಗೆ', '70', '%', 'ರಷ್ಟು', 'ವಿಚಾರಣಾಕಾರರನ್ನು', 'ಮರುಳು', 'ಮಾಡಲು', 'ಸಾಧ್ಯವಾಗುತ್ತದೆ', '.', '1950', 'ರಿಂದ', 'ನಾವು', 'ಸಾಕಷ್ಟು', 'ಪ್ರಗತಿಯನ್ನು', 'ಸಾಧಿಸಿದ್ದರೂ', ',', 'ಯಾವುದೇ', 'ಅಲ್ಗಾರಿದಮ್', 'ಸತತವಾಗಿ', 'ಈ', 'ಬಾರ್', 'ಅನ್ನು', 'ತಲುಪಿಲ್ಲ', '.', 'ಆದಾಗ್ಯೂ', ',', 'ಚಾಟ್\\u200cಬಾಟ್', 'ಅಭಿವೃದ್ಧಿಯ', 'ಕ್ಷೇತ್ರದಲ್ಲಿ', 'ಇನ್ನೂ', 'ಗಣನೀಯ', 'ಪ್ರಗತಿ', 'ಕಂಡುಬಂದಿದೆ', '.', ',', 'ಇದು', 'ಬಹು', '-', 'ಶತಕೋಟಿ', 'ಡಾಲರ್', 'ಉದ್ಯಮ', 'ಮತ್ತು', 'ಡಜನ್ಗಟ್ಟಲೆ', 'ಲಾಭದಾಯಕ', 'ಉತ್ಪನ್ನಗಳಿಗೆ', 'ಕಾರಣವಾಯಿತು', '.', 'ಚಾಟ್\\u200cಬಾಟ್', 'ಅಭಿವೃದ್ಧಿಯ', 'ಇತಿಹಾಸವನ್ನು', 'ಪರಿಶೀಲಿಸುವ', 'ಮೊದಲು', ',', 'ನಾವು', 'ಎರಡು', 'ವಿಭಿನ್ನ', 'ಚಾಟ್\\u200cಬಾಟ್\\u200cಗಳೊಂದಿಗೆ', 'ನಡೆಸಿದ', 'ಸಂಭಾಷಣೆಯನ್ನು', 'ಓದಿ', ':', 'ELIZA', 'ಮತ್ತು', 'Mitsuku', '.', 'ಈ', 'ಮಾದರಿಗಳಲ್ಲಿ', 'ಒಂದು', 'ಇನ್ನೂ', 'ಅಭಿವೃದ್ಧಿಯಲ್ಲಿದೆ', '.', 'ಇನ್ನೊಂದನ್ನು', '1966', 'ರಲ್ಲಿ', 'ಪ್ರೋಗ್ರಾಮ್', 'ಮಾಡಲಾಗಿದೆ', '.', 'ಯಾವುದು', 'ಹೊಸದು', 'ಎಂದು', 'ನೀವು', 'ಊಹಿಸಬಲ್ಲಿರಾ', '🤔🤔🤖']\n"
          ]
        }
      ]
    },
    {
      "cell_type": "code",
      "source": [
        "text_japan=\"1950 年 10 月、アラン チューリングはコンピューターの知能を評価するアプローチを提案し、その方法を「イミテーション ゲーム」と名付けたのは有名です。その前提は、尋問者が「タイプライター」マシン (今日では「タイプライター」と呼ばれる) を通して 2 人に話しかけることです。これはインスタント メッセージングと呼ばれます)。問題は、会話のうちの 1 つだけが実際の人間とのものであり、もう 1 つはコンピューターとのものであるということです。チューリングは、よく制御された実験で、世紀の変わり目 (2000 年) までに、 , コンピュータは 70% の確率で質問者をだますことができるはずです。1950 年以来多くの進歩を遂げてきましたが、一貫してこの基準に達するアルゴリズムはありません。しかし、チャットボット開発の分野では依然として大幅な進歩が見られます。チャットボット開発の歴史を調べる前に、2 つの異なるチャットボット、ELIZA と Mitoku との会話を読んでください。これらのモデルの 1 つはまだ開発中です。もう 1 つは 1966 年にプログラムされたものです。どれが最新かわかりますか 🤔🤔🤖」\"\n",
        "token=indic_tokenize.trivial_tokenize(text_japan)\n",
        "print(token)"
      ],
      "metadata": {
        "colab": {
          "base_uri": "https://localhost:8080/"
        },
        "id": "EmAmAZk9a20u",
        "outputId": "08ea133c-e8e6-4e77-bd01-eb5b6dd886bc"
      },
      "execution_count": 26,
      "outputs": [
        {
          "output_type": "stream",
          "name": "stdout",
          "text": [
            "['1950', '年', '10', '月、アラン', 'チューリングはコンピューターの知能を評価するアプローチを提案し、その方法を「イミテーション', 'ゲーム」と名付けたのは有名です。その前提は、尋問者が「タイプライター」マシン', '(', '今日では「タイプライター」と呼ばれる', ')', 'を通して', '2', '人に話しかけることです。これはインスタント', 'メッセージングと呼ばれます', ')', '。問題は、会話のうちの', '1', 'つだけが実際の人間とのものであり、もう', '1', 'つはコンピューターとのものであるということです。チューリングは、よく制御された実験で、世紀の変わり目', '(', '2000', '年', ')', 'までに、', ',', 'コンピュータは', '70', '%', 'の確率で質問者をだますことができるはずです。1950', '年以来多くの進歩を遂げてきましたが、一貫してこの基準に達するアルゴリズムはありません。しかし、チャットボット開発の分野では依然として大幅な進歩が見られます。チャットボット開発の歴史を調べる前に、2', 'つの異なるチャットボット、ELIZA', 'と', 'Mitoku', 'との会話を読んでください。これらのモデルの', '1', 'つはまだ開発中です。もう', '1', 'つは', '1966', '年にプログラムされたものです。どれが最新かわかりますか', '🤔🤔🤖」']\n"
          ]
        }
      ]
    },
    {
      "cell_type": "markdown",
      "source": [
        "in this program we are tokenizing 2 languages using indic nlp to tokenize one indian language into a seperate words and japanese into different token words"
      ],
      "metadata": {
        "id": "T8IdLIqEcROs"
      }
    },
    {
      "cell_type": "code",
      "source": [],
      "metadata": {
        "id": "Ffb9rRdweQSM"
      },
      "execution_count": null,
      "outputs": []
    }
  ]
}