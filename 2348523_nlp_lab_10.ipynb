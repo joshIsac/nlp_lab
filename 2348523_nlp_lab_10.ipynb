{
  "nbformat": 4,
  "nbformat_minor": 0,
  "metadata": {
    "colab": {
      "provenance": [],
      "authorship_tag": "ABX9TyN7rxTIKcvEm7q8dieRiXbU",
      "include_colab_link": true
    },
    "kernelspec": {
      "name": "python3",
      "display_name": "Python 3"
    },
    "language_info": {
      "name": "python"
    }
  },
  "cells": [
    {
      "cell_type": "markdown",
      "metadata": {
        "id": "view-in-github",
        "colab_type": "text"
      },
      "source": [
        "<a href=\"https://colab.research.google.com/github/joshIsac/nlp_lab/blob/main/2348523_nlp_lab_10.ipynb\" target=\"_parent\"><img src=\"https://colab.research.google.com/assets/colab-badge.svg\" alt=\"Open In Colab\"/></a>"
      ]
    },
    {
      "cell_type": "code",
      "source": [
        "from transformers import pipeline"
      ],
      "metadata": {
        "id": "qPpbGDT5AGhK"
      },
      "execution_count": 1,
      "outputs": []
    },
    {
      "cell_type": "code",
      "source": [
        "#download the model\n",
        "qa_model=pipeline(\"question-answering\")\n",
        "question=\"Which year CHRIST university established?\"\n",
        "context=\"\"\"CHRIST (Deemed to be University) was born out of the educational\n",
        "vision of St Kuriakose Elias Chavara, an educationalist and social reformer of\n",
        "the nineteenth century in South India. He founded the first Catholic\n",
        "indigenous congregation, Carmelites of Mary Immaculate (CMI), in 1831\n",
        "which administers CHRIST (Deemed to be University). “CHRIST (Deemed to\n",
        "\n",
        "be University) was established as ‘Christ College’ in 1969. It undertook path-\n",
        "breaking initiatives in Indian higher education with the introduction of\n",
        "\n",
        "innovative and modern curricula, insistence on academic discipline,\n",
        "imparting of Holistic Education and adoption of global higher education\n",
        "practices with the support of creative and dedicated staff.\"\"\"\n",
        "\n",
        "qa_response = qa_model(question = question, context = context)\n",
        "print(qa_response)\n"
      ],
      "metadata": {
        "colab": {
          "base_uri": "https://localhost:8080/"
        },
        "id": "XwYqf2yffu4o",
        "outputId": "0169e3cd-a09e-40d2-cb0c-dfef2766e2f8"
      },
      "execution_count": 4,
      "outputs": [
        {
          "output_type": "stream",
          "name": "stderr",
          "text": [
            "No model was supplied, defaulted to distilbert/distilbert-base-cased-distilled-squad and revision 626af31 (https://huggingface.co/distilbert/distilbert-base-cased-distilled-squad).\n",
            "Using a pipeline without specifying a model name and revision in production is not recommended.\n"
          ]
        },
        {
          "output_type": "stream",
          "name": "stdout",
          "text": [
            "{'score': 0.9906401634216309, 'start': 409, 'end': 413, 'answer': '1969'}\n"
          ]
        }
      ]
    },
    {
      "cell_type": "code",
      "source": [
        "#bert model fpor Question and answering"
      ],
      "metadata": {
        "id": "Pr_Yx120up8M"
      },
      "execution_count": null,
      "outputs": []
    }
  ]
}