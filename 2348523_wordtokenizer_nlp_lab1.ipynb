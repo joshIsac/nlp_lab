{
  "cells": [
    {
      "cell_type": "markdown",
      "metadata": {
        "id": "zJrvh3QoczFn"
      },
      "source": [
        "Importing libraries from nltk.\n",
        "nltk is a platform that leads to building python programs on human language data ,providing an easy to interaction to over 50 corpora and lexical resources\n",
        "uch as WordNet, along with a suite of text processing libraries for classification, tokenization, stemming, tagging, parsing, and semantic reasoning, wrappers for industrial-strength NLP libraries"
      ]
    },
    {
      "cell_type": "code",
      "execution_count": null,
      "metadata": {
        "id": "AwhiaM2KczFs"
      },
      "outputs": [],
      "source": [
        "import spacy\n",
        "import nltk\n",
        "from nltk.tokenize import word_tokenize\n",
        "from nltk.tokenize import sent_tokenize\n",
        "from nltk.tokenize import WordPunctTokenizer\n",
        "from nltk.tokenize import PunktSentenceTokenizer\n",
        "from nltk.tokenize import TreebankWordTokenizer\n",
        "from nltk.tokenize import TweetTokenizer\n",
        "from nltk.tokenize import MWETokenizer\n",
        "from textblob import TextBlob\n"
      ]
    },
    {
      "cell_type": "code",
      "execution_count": null,
      "metadata": {
        "colab": {
          "base_uri": "https://localhost:8080/"
        },
        "id": "LzGH513cczFu",
        "outputId": "ddd5c4ad-0772-445a-f1db-ba697a05fae7"
      },
      "outputs": [
        {
          "output_type": "stream",
          "name": "stderr",
          "text": [
            "[nltk_data] Downloading package punkt to /root/nltk_data...\n",
            "[nltk_data]   Package punkt is already up-to-date!\n"
          ]
        }
      ],
      "source": [
        "#history of chatbots\n",
        "text_paragraph=\"In October of 1950, Alan Turing proposed an approach for evaluating a computer’s intelligence and famously named his method, The Imitation Game. The premise is that an interrogator talks to two people through a “typewritten” machine (today we would refer to this as instant messaging). The catch is that only one of the conversations is with a real person – the other is with a computer.Turing posited that, by the turn of the century (the year 2000), in a well-controlled experiment, a computer should be able to fool the interrogator 70% of the time. While we’ve made a lot of progress since 1950, no algorithm has consistently reached this bar. However, there has still been substantial progress in the field of chatbot development, which has led to a multi-billion dollar industry and dozens of profitable products.Before examining the history of chatbot development, read through the conversation we had with two different chatbots: ELIZA and Mitsuku. One of these models is still in development, while the other was programmed in 1966. Can you guess which is the newest 🤔🤔🤖\"\n",
        "nltk.download('punkt')\n",
        "tokens = nltk.word_tokenize(text_paragraph)\n"
      ]
    },
    {
      "cell_type": "code",
      "source": [
        "tokens = nltk.word_tokenize(text_paragraph)"
      ],
      "metadata": {
        "id": "gXvnpcMyfG09"
      },
      "execution_count": null,
      "outputs": []
    },
    {
      "cell_type": "code",
      "execution_count": null,
      "metadata": {
        "colab": {
          "base_uri": "https://localhost:8080/"
        },
        "id": "ePXfcaOFczFv",
        "outputId": "e8eefae7-8ec1-4ff8-b073-b50ace246e99"
      },
      "outputs": [
        {
          "output_type": "execute_result",
          "data": {
            "text/plain": [
              "['In',\n",
              " 'October',\n",
              " 'of',\n",
              " '1950',\n",
              " ',',\n",
              " 'Alan',\n",
              " 'Turing',\n",
              " 'proposed',\n",
              " 'an',\n",
              " 'approach',\n",
              " 'for',\n",
              " 'evaluating',\n",
              " 'a',\n",
              " 'computer',\n",
              " '’',\n",
              " 's',\n",
              " 'intelligence',\n",
              " 'and',\n",
              " 'famously',\n",
              " 'named',\n",
              " 'his',\n",
              " 'method',\n",
              " ',',\n",
              " 'The',\n",
              " 'Imitation',\n",
              " 'Game',\n",
              " '.',\n",
              " 'The',\n",
              " 'premise',\n",
              " 'is',\n",
              " 'that',\n",
              " 'an',\n",
              " 'interrogator',\n",
              " 'talks',\n",
              " 'to',\n",
              " 'two',\n",
              " 'people',\n",
              " 'through',\n",
              " 'a',\n",
              " '“',\n",
              " 'typewritten',\n",
              " '”',\n",
              " 'machine',\n",
              " '(',\n",
              " 'today',\n",
              " 'we',\n",
              " 'would',\n",
              " 'refer',\n",
              " 'to',\n",
              " 'this',\n",
              " 'as',\n",
              " 'instant',\n",
              " 'messaging',\n",
              " ')',\n",
              " '.',\n",
              " 'The',\n",
              " 'catch',\n",
              " 'is',\n",
              " 'that',\n",
              " 'only',\n",
              " 'one',\n",
              " 'of',\n",
              " 'the',\n",
              " 'conversations',\n",
              " 'is',\n",
              " 'with',\n",
              " 'a',\n",
              " 'real',\n",
              " 'person',\n",
              " '–',\n",
              " 'the',\n",
              " 'other',\n",
              " 'is',\n",
              " 'with',\n",
              " 'a',\n",
              " 'computer.Turing',\n",
              " 'posited',\n",
              " 'that',\n",
              " ',',\n",
              " 'by',\n",
              " 'the',\n",
              " 'turn',\n",
              " 'of',\n",
              " 'the',\n",
              " 'century',\n",
              " '(',\n",
              " 'the',\n",
              " 'year',\n",
              " '2000',\n",
              " ')',\n",
              " ',',\n",
              " 'in',\n",
              " 'a',\n",
              " 'well-controlled',\n",
              " 'experiment',\n",
              " ',',\n",
              " 'a',\n",
              " 'computer',\n",
              " 'should',\n",
              " 'be',\n",
              " 'able',\n",
              " 'to',\n",
              " 'fool',\n",
              " 'the',\n",
              " 'interrogator',\n",
              " '70',\n",
              " '%',\n",
              " 'of',\n",
              " 'the',\n",
              " 'time',\n",
              " '.',\n",
              " 'While',\n",
              " 'we',\n",
              " '’',\n",
              " 've',\n",
              " 'made',\n",
              " 'a',\n",
              " 'lot',\n",
              " 'of',\n",
              " 'progress',\n",
              " 'since',\n",
              " '1950',\n",
              " ',',\n",
              " 'no',\n",
              " 'algorithm',\n",
              " 'has',\n",
              " 'consistently',\n",
              " 'reached',\n",
              " 'this',\n",
              " 'bar',\n",
              " '.',\n",
              " 'However',\n",
              " ',',\n",
              " 'there',\n",
              " 'has',\n",
              " 'still',\n",
              " 'been',\n",
              " 'substantial',\n",
              " 'progress',\n",
              " 'in',\n",
              " 'the',\n",
              " 'field',\n",
              " 'of',\n",
              " 'chatbot',\n",
              " 'development',\n",
              " ',',\n",
              " 'which',\n",
              " 'has',\n",
              " 'led',\n",
              " 'to',\n",
              " 'a',\n",
              " 'multi-billion',\n",
              " 'dollar',\n",
              " 'industry',\n",
              " 'and',\n",
              " 'dozens',\n",
              " 'of',\n",
              " 'profitable',\n",
              " 'products.Before',\n",
              " 'examining',\n",
              " 'the',\n",
              " 'history',\n",
              " 'of',\n",
              " 'chatbot',\n",
              " 'development',\n",
              " ',',\n",
              " 'read',\n",
              " 'through',\n",
              " 'the',\n",
              " 'conversation',\n",
              " 'we',\n",
              " 'had',\n",
              " 'with',\n",
              " 'two',\n",
              " 'different',\n",
              " 'chatbots',\n",
              " ':',\n",
              " 'ELIZA',\n",
              " 'and',\n",
              " 'Mitsuku',\n",
              " '.',\n",
              " 'One',\n",
              " 'of',\n",
              " 'these',\n",
              " 'models',\n",
              " 'is',\n",
              " 'still',\n",
              " 'in',\n",
              " 'development',\n",
              " ',',\n",
              " 'while',\n",
              " 'the',\n",
              " 'other',\n",
              " 'was',\n",
              " 'programmed',\n",
              " 'in',\n",
              " '1966',\n",
              " '.',\n",
              " 'Can',\n",
              " 'you',\n",
              " 'guess',\n",
              " 'which',\n",
              " 'is',\n",
              " 'the',\n",
              " 'newest',\n",
              " '🤔🤔🤖']"
            ]
          },
          "metadata": {},
          "execution_count": 30
        }
      ],
      "source": [
        "tokens"
      ]
    },
    {
      "cell_type": "code",
      "execution_count": null,
      "metadata": {
        "id": "C5N3SfjWczFx"
      },
      "outputs": [],
      "source": [
        "sentencetoken=nltk.sent_tokenize(text_paragraph)\n"
      ]
    },
    {
      "cell_type": "code",
      "execution_count": null,
      "metadata": {
        "colab": {
          "base_uri": "https://localhost:8080/"
        },
        "id": "ekz3w8FvczFx",
        "outputId": "0634ae9d-e253-43df-b797-d2a41304357b"
      },
      "outputs": [
        {
          "output_type": "execute_result",
          "data": {
            "text/plain": [
              "['In October of 1950, Alan Turing proposed an approach for evaluating a computer’s intelligence and famously named his method, The Imitation Game.',\n",
              " 'The premise is that an interrogator talks to two people through a “typewritten” machine (today we would refer to this as instant messaging).',\n",
              " 'The catch is that only one of the conversations is with a real person – the other is with a computer.Turing posited that, by the turn of the century (the year 2000), in a well-controlled experiment, a computer should be able to fool the interrogator 70% of the time.',\n",
              " 'While we’ve made a lot of progress since 1950, no algorithm has consistently reached this bar.',\n",
              " 'However, there has still been substantial progress in the field of chatbot development, which has led to a multi-billion dollar industry and dozens of profitable products.Before examining the history of chatbot development, read through the conversation we had with two different chatbots: ELIZA and Mitsuku.',\n",
              " 'One of these models is still in development, while the other was programmed in 1966.',\n",
              " 'Can you guess which is the newest 🤔🤔🤖']"
            ]
          },
          "metadata": {},
          "execution_count": 32
        }
      ],
      "source": [
        "sentencetoken"
      ]
    },
    {
      "cell_type": "code",
      "execution_count": null,
      "metadata": {
        "id": "Sgb8bABMczFx"
      },
      "outputs": [],
      "source": [
        "puncttoken=nltk.WordPunctTokenizer().tokenize(text_paragraph)\n"
      ]
    },
    {
      "cell_type": "code",
      "execution_count": null,
      "metadata": {
        "colab": {
          "base_uri": "https://localhost:8080/"
        },
        "id": "gee6F4UaczFy",
        "outputId": "f1b366d5-4dc0-4274-ed10-5dfc42b4c014"
      },
      "outputs": [
        {
          "output_type": "execute_result",
          "data": {
            "text/plain": [
              "['In',\n",
              " 'October',\n",
              " 'of',\n",
              " '1950',\n",
              " ',',\n",
              " 'Alan',\n",
              " 'Turing',\n",
              " 'proposed',\n",
              " 'an',\n",
              " 'approach',\n",
              " 'for',\n",
              " 'evaluating',\n",
              " 'a',\n",
              " 'computer',\n",
              " '’',\n",
              " 's',\n",
              " 'intelligence',\n",
              " 'and',\n",
              " 'famously',\n",
              " 'named',\n",
              " 'his',\n",
              " 'method',\n",
              " ',',\n",
              " 'The',\n",
              " 'Imitation',\n",
              " 'Game',\n",
              " '.',\n",
              " 'The',\n",
              " 'premise',\n",
              " 'is',\n",
              " 'that',\n",
              " 'an',\n",
              " 'interrogator',\n",
              " 'talks',\n",
              " 'to',\n",
              " 'two',\n",
              " 'people',\n",
              " 'through',\n",
              " 'a',\n",
              " '“',\n",
              " 'typewritten',\n",
              " '”',\n",
              " 'machine',\n",
              " '(',\n",
              " 'today',\n",
              " 'we',\n",
              " 'would',\n",
              " 'refer',\n",
              " 'to',\n",
              " 'this',\n",
              " 'as',\n",
              " 'instant',\n",
              " 'messaging',\n",
              " ').',\n",
              " 'The',\n",
              " 'catch',\n",
              " 'is',\n",
              " 'that',\n",
              " 'only',\n",
              " 'one',\n",
              " 'of',\n",
              " 'the',\n",
              " 'conversations',\n",
              " 'is',\n",
              " 'with',\n",
              " 'a',\n",
              " 'real',\n",
              " 'person',\n",
              " '–',\n",
              " 'the',\n",
              " 'other',\n",
              " 'is',\n",
              " 'with',\n",
              " 'a',\n",
              " 'computer',\n",
              " '.',\n",
              " 'Turing',\n",
              " 'posited',\n",
              " 'that',\n",
              " ',',\n",
              " 'by',\n",
              " 'the',\n",
              " 'turn',\n",
              " 'of',\n",
              " 'the',\n",
              " 'century',\n",
              " '(',\n",
              " 'the',\n",
              " 'year',\n",
              " '2000',\n",
              " '),',\n",
              " 'in',\n",
              " 'a',\n",
              " 'well',\n",
              " '-',\n",
              " 'controlled',\n",
              " 'experiment',\n",
              " ',',\n",
              " 'a',\n",
              " 'computer',\n",
              " 'should',\n",
              " 'be',\n",
              " 'able',\n",
              " 'to',\n",
              " 'fool',\n",
              " 'the',\n",
              " 'interrogator',\n",
              " '70',\n",
              " '%',\n",
              " 'of',\n",
              " 'the',\n",
              " 'time',\n",
              " '.',\n",
              " 'While',\n",
              " 'we',\n",
              " '’',\n",
              " 've',\n",
              " 'made',\n",
              " 'a',\n",
              " 'lot',\n",
              " 'of',\n",
              " 'progress',\n",
              " 'since',\n",
              " '1950',\n",
              " ',',\n",
              " 'no',\n",
              " 'algorithm',\n",
              " 'has',\n",
              " 'consistently',\n",
              " 'reached',\n",
              " 'this',\n",
              " 'bar',\n",
              " '.',\n",
              " 'However',\n",
              " ',',\n",
              " 'there',\n",
              " 'has',\n",
              " 'still',\n",
              " 'been',\n",
              " 'substantial',\n",
              " 'progress',\n",
              " 'in',\n",
              " 'the',\n",
              " 'field',\n",
              " 'of',\n",
              " 'chatbot',\n",
              " 'development',\n",
              " ',',\n",
              " 'which',\n",
              " 'has',\n",
              " 'led',\n",
              " 'to',\n",
              " 'a',\n",
              " 'multi',\n",
              " '-',\n",
              " 'billion',\n",
              " 'dollar',\n",
              " 'industry',\n",
              " 'and',\n",
              " 'dozens',\n",
              " 'of',\n",
              " 'profitable',\n",
              " 'products',\n",
              " '.',\n",
              " 'Before',\n",
              " 'examining',\n",
              " 'the',\n",
              " 'history',\n",
              " 'of',\n",
              " 'chatbot',\n",
              " 'development',\n",
              " ',',\n",
              " 'read',\n",
              " 'through',\n",
              " 'the',\n",
              " 'conversation',\n",
              " 'we',\n",
              " 'had',\n",
              " 'with',\n",
              " 'two',\n",
              " 'different',\n",
              " 'chatbots',\n",
              " ':',\n",
              " 'ELIZA',\n",
              " 'and',\n",
              " 'Mitsuku',\n",
              " '.',\n",
              " 'One',\n",
              " 'of',\n",
              " 'these',\n",
              " 'models',\n",
              " 'is',\n",
              " 'still',\n",
              " 'in',\n",
              " 'development',\n",
              " ',',\n",
              " 'while',\n",
              " 'the',\n",
              " 'other',\n",
              " 'was',\n",
              " 'programmed',\n",
              " 'in',\n",
              " '1966',\n",
              " '.',\n",
              " 'Can',\n",
              " 'you',\n",
              " 'guess',\n",
              " 'which',\n",
              " 'is',\n",
              " 'the',\n",
              " 'newest',\n",
              " '🤔🤔🤖']"
            ]
          },
          "metadata": {},
          "execution_count": 34
        }
      ],
      "source": [
        "puncttoken"
      ]
    },
    {
      "cell_type": "code",
      "execution_count": null,
      "metadata": {
        "id": "J6VZzXIPczFz"
      },
      "outputs": [],
      "source": [
        "from nltk.corpus import treebank\n",
        "tree=TreebankWordTokenizer().tokenize(text_paragraph)"
      ]
    },
    {
      "cell_type": "code",
      "execution_count": null,
      "metadata": {
        "colab": {
          "base_uri": "https://localhost:8080/"
        },
        "id": "1qNfGhbUczFz",
        "outputId": "6c5e2ebe-1785-492e-aa5e-c16fdfa0ecb0"
      },
      "outputs": [
        {
          "output_type": "execute_result",
          "data": {
            "text/plain": [
              "['In',\n",
              " 'October',\n",
              " 'of',\n",
              " '1950',\n",
              " ',',\n",
              " 'Alan',\n",
              " 'Turing',\n",
              " 'proposed',\n",
              " 'an',\n",
              " 'approach',\n",
              " 'for',\n",
              " 'evaluating',\n",
              " 'a',\n",
              " 'computer’s',\n",
              " 'intelligence',\n",
              " 'and',\n",
              " 'famously',\n",
              " 'named',\n",
              " 'his',\n",
              " 'method',\n",
              " ',',\n",
              " 'The',\n",
              " 'Imitation',\n",
              " 'Game.',\n",
              " 'The',\n",
              " 'premise',\n",
              " 'is',\n",
              " 'that',\n",
              " 'an',\n",
              " 'interrogator',\n",
              " 'talks',\n",
              " 'to',\n",
              " 'two',\n",
              " 'people',\n",
              " 'through',\n",
              " 'a',\n",
              " '“typewritten”',\n",
              " 'machine',\n",
              " '(',\n",
              " 'today',\n",
              " 'we',\n",
              " 'would',\n",
              " 'refer',\n",
              " 'to',\n",
              " 'this',\n",
              " 'as',\n",
              " 'instant',\n",
              " 'messaging',\n",
              " ')',\n",
              " '.',\n",
              " 'The',\n",
              " 'catch',\n",
              " 'is',\n",
              " 'that',\n",
              " 'only',\n",
              " 'one',\n",
              " 'of',\n",
              " 'the',\n",
              " 'conversations',\n",
              " 'is',\n",
              " 'with',\n",
              " 'a',\n",
              " 'real',\n",
              " 'person',\n",
              " '–',\n",
              " 'the',\n",
              " 'other',\n",
              " 'is',\n",
              " 'with',\n",
              " 'a',\n",
              " 'computer.Turing',\n",
              " 'posited',\n",
              " 'that',\n",
              " ',',\n",
              " 'by',\n",
              " 'the',\n",
              " 'turn',\n",
              " 'of',\n",
              " 'the',\n",
              " 'century',\n",
              " '(',\n",
              " 'the',\n",
              " 'year',\n",
              " '2000',\n",
              " ')',\n",
              " ',',\n",
              " 'in',\n",
              " 'a',\n",
              " 'well-controlled',\n",
              " 'experiment',\n",
              " ',',\n",
              " 'a',\n",
              " 'computer',\n",
              " 'should',\n",
              " 'be',\n",
              " 'able',\n",
              " 'to',\n",
              " 'fool',\n",
              " 'the',\n",
              " 'interrogator',\n",
              " '70',\n",
              " '%',\n",
              " 'of',\n",
              " 'the',\n",
              " 'time.',\n",
              " 'While',\n",
              " 'we’ve',\n",
              " 'made',\n",
              " 'a',\n",
              " 'lot',\n",
              " 'of',\n",
              " 'progress',\n",
              " 'since',\n",
              " '1950',\n",
              " ',',\n",
              " 'no',\n",
              " 'algorithm',\n",
              " 'has',\n",
              " 'consistently',\n",
              " 'reached',\n",
              " 'this',\n",
              " 'bar.',\n",
              " 'However',\n",
              " ',',\n",
              " 'there',\n",
              " 'has',\n",
              " 'still',\n",
              " 'been',\n",
              " 'substantial',\n",
              " 'progress',\n",
              " 'in',\n",
              " 'the',\n",
              " 'field',\n",
              " 'of',\n",
              " 'chatbot',\n",
              " 'development',\n",
              " ',',\n",
              " 'which',\n",
              " 'has',\n",
              " 'led',\n",
              " 'to',\n",
              " 'a',\n",
              " 'multi-billion',\n",
              " 'dollar',\n",
              " 'industry',\n",
              " 'and',\n",
              " 'dozens',\n",
              " 'of',\n",
              " 'profitable',\n",
              " 'products.Before',\n",
              " 'examining',\n",
              " 'the',\n",
              " 'history',\n",
              " 'of',\n",
              " 'chatbot',\n",
              " 'development',\n",
              " ',',\n",
              " 'read',\n",
              " 'through',\n",
              " 'the',\n",
              " 'conversation',\n",
              " 'we',\n",
              " 'had',\n",
              " 'with',\n",
              " 'two',\n",
              " 'different',\n",
              " 'chatbots',\n",
              " ':',\n",
              " 'ELIZA',\n",
              " 'and',\n",
              " 'Mitsuku.',\n",
              " 'One',\n",
              " 'of',\n",
              " 'these',\n",
              " 'models',\n",
              " 'is',\n",
              " 'still',\n",
              " 'in',\n",
              " 'development',\n",
              " ',',\n",
              " 'while',\n",
              " 'the',\n",
              " 'other',\n",
              " 'was',\n",
              " 'programmed',\n",
              " 'in',\n",
              " '1966.',\n",
              " 'Can',\n",
              " 'you',\n",
              " 'guess',\n",
              " 'which',\n",
              " 'is',\n",
              " 'the',\n",
              " 'newest',\n",
              " '🤔🤔🤖']"
            ]
          },
          "metadata": {},
          "execution_count": 36
        }
      ],
      "source": [
        "tree"
      ]
    },
    {
      "cell_type": "markdown",
      "metadata": {
        "id": "XgP1bZ6sczFz"
      },
      "source": [
        " Textblob Word Tokenizer <- It will return a list of words objects. While working with word tokenizer textblob removes the punctuations from the text."
      ]
    },
    {
      "cell_type": "code",
      "execution_count": null,
      "metadata": {
        "id": "9a8hRQZTczF0"
      },
      "outputs": [],
      "source": [
        "txtblob=TextBlob(text_paragraph)\n",
        "#print(type(txtblob)) # <class 'textblob.core.blob.TextBlob'>\n",
        "\n",
        "# Get the part-of-speech tag for each word in the text paragraph"
      ]
    },
    {
      "cell_type": "code",
      "execution_count": null,
      "metadata": {
        "colab": {
          "base_uri": "https://localhost:8080/"
        },
        "id": "qhZGOLvaczF0",
        "outputId": "f76137cb-c3e7-49e2-e785-6f280b8b0c70"
      },
      "outputs": [
        {
          "output_type": "stream",
          "name": "stdout",
          "text": [
            "['In', 'October', 'of', '1950', 'Alan', 'Turing', 'proposed', 'an', 'approach', 'for', 'evaluating', 'a', 'computer', '’', 's', 'intelligence', 'and', 'famously', 'named', 'his', 'method', 'The', 'Imitation', 'Game', 'The', 'premise', 'is', 'that', 'an', 'interrogator', 'talks', 'to', 'two', 'people', 'through', 'a', '“', 'typewritten', '”', 'machine', 'today', 'we', 'would', 'refer', 'to', 'this', 'as', 'instant', 'messaging', 'The', 'catch', 'is', 'that', 'only', 'one', 'of', 'the', 'conversations', 'is', 'with', 'a', 'real', 'person', '–', 'the', 'other', 'is', 'with', 'a', 'computer.Turing', 'posited', 'that', 'by', 'the', 'turn', 'of', 'the', 'century', 'the', 'year', '2000', 'in', 'a', 'well-controlled', 'experiment', 'a', 'computer', 'should', 'be', 'able', 'to', 'fool', 'the', 'interrogator', '70', 'of', 'the', 'time', 'While', 'we', '’', 've', 'made', 'a', 'lot', 'of', 'progress', 'since', '1950', 'no', 'algorithm', 'has', 'consistently', 'reached', 'this', 'bar', 'However', 'there', 'has', 'still', 'been', 'substantial', 'progress', 'in', 'the', 'field', 'of', 'chatbot', 'development', 'which', 'has', 'led', 'to', 'a', 'multi-billion', 'dollar', 'industry', 'and', 'dozens', 'of', 'profitable', 'products.Before', 'examining', 'the', 'history', 'of', 'chatbot', 'development', 'read', 'through', 'the', 'conversation', 'we', 'had', 'with', 'two', 'different', 'chatbots', 'ELIZA', 'and', 'Mitsuku', 'One', 'of', 'these', 'models', 'is', 'still', 'in', 'development', 'while', 'the', 'other', 'was', 'programmed', 'in', '1966', 'Can', 'you', 'guess', 'which', 'is', 'the', 'newest', '🤔🤔🤖']\n"
          ]
        }
      ],
      "source": [
        "print(txtblob.words)"
      ]
    },
    {
      "cell_type": "code",
      "execution_count": null,
      "metadata": {
        "colab": {
          "base_uri": "https://localhost:8080/"
        },
        "id": "mxIzxZ8RczF0",
        "outputId": "00be7c22-c507-4984-e511-c1095bce9c17"
      },
      "outputs": [
        {
          "output_type": "stream",
          "name": "stdout",
          "text": [
            "[Sentence(\"In October of 1950, Alan Turing proposed an approach for evaluating a computer’s intelligence and famously named his method, The Imitation Game.\"), Sentence(\"The premise is that an interrogator talks to two people through a “typewritten” machine (today we would refer to this as instant messaging).\"), Sentence(\"The catch is that only one of the conversations is with a real person – the other is with a computer.Turing posited that, by the turn of the century (the year 2000), in a well-controlled experiment, a computer should be able to fool the interrogator 70% of the time.\"), Sentence(\"While we’ve made a lot of progress since 1950, no algorithm has consistently reached this bar.\"), Sentence(\"However, there has still been substantial progress in the field of chatbot development, which has led to a multi-billion dollar industry and dozens of profitable products.Before examining the history of chatbot development, read through the conversation we had with two different chatbots: ELIZA and Mitsuku.\"), Sentence(\"One of these models is still in development, while the other was programmed in 1966.\"), Sentence(\"Can you guess which is the newest 🤔🤔🤖\")]\n"
          ]
        }
      ],
      "source": [
        "print(txtblob.sentences)"
      ]
    },
    {
      "cell_type": "code",
      "execution_count": null,
      "metadata": {
        "colab": {
          "base_uri": "https://localhost:8080/"
        },
        "id": "VBvdSlo2czF1",
        "outputId": "d89c7cc3-d934-4971-cc07-023fb833fa17"
      },
      "outputs": [
        {
          "output_type": "stream",
          "name": "stdout",
          "text": [
            "['A', 'clown', '🤡', '🤡', 'is', 'a', 'person', '🧔', 'who', 'performs', 'comedy', 'and', 'arts', 'in', 'a', 'state', 'of', 'open-mindedness', 'using', 'physical', 'comedy', ',', 'typically', 'while', 'wearing', 'distinct', 'makeup', 'or', 'costuming']\n"
          ]
        }
      ],
      "source": [
        "#tweet tokenizer  convert the stream of words into small  tokens so that we can analyse the audio stream with the help of nltk.TweetTokenizer() method.\n",
        "tweettokenizer=TweetTokenizer()\n",
        "inputtxt=\"A clown 🤡🤡is a person 🧔 who performs comedy and arts  in a state of open-mindedness using physical comedy, typically while wearing distinct makeup or costuming\"\n",
        "txt=tweettokenizer.tokenize(inputtxt)\n",
        "#     return tokenized\n",
        "print(txt)\n"
      ]
    },
    {
      "cell_type": "code",
      "execution_count": null,
      "metadata": {
        "id": "2ov_XBZ6czF1"
      },
      "outputs": [],
      "source": [
        "#MWE tokenizer takes a string that is already divided into  tokens and retokenize it by merging multi word expression into single token expression\n",
        "mwetkn=MWETokenizer([('a','little'),('a','little','puppy'),('was','playing','with','ball')])\n",
        "mwetkn.add_mwe(('and','ate','food'))\n"
      ]
    },
    {
      "cell_type": "code",
      "execution_count": null,
      "metadata": {
        "colab": {
          "base_uri": "https://localhost:8080/"
        },
        "id": "HomB7SUMczF1",
        "outputId": "e18aaf44-66a9-48e3-8479-3b7bdd20b4e0"
      },
      "outputs": [
        {
          "output_type": "stream",
          "name": "stdout",
          "text": [
            "<nltk.tokenize.mwe.MWETokenizer object at 0x7c047dafdf60>\n"
          ]
        }
      ],
      "source": [
        "print(mwetkn)"
      ]
    },
    {
      "cell_type": "code",
      "execution_count": null,
      "metadata": {
        "colab": {
          "base_uri": "https://localhost:8080/"
        },
        "id": "8fE3NmgsczF1",
        "outputId": "9a088e91-0496-4e8d-cac4-da07bce534e7"
      },
      "outputs": [
        {
          "output_type": "stream",
          "name": "stdout",
          "text": [
            "the    \n",
            "dog    \n",
            "gives    \n",
            "birth    \n",
            "to    \n",
            "puppies    \n",
            "and    \n",
            "was    \n",
            "really    \n",
            "very    \n",
            "happy    \n",
            "and    \n",
            "was    \n",
            "willing    \n",
            "to    \n",
            "show    \n",
            "us    \n",
            "the    \n",
            "puppy    \n",
            ".    \n"
          ]
        }
      ],
      "source": [
        "spc=spacy.blank(\"en\")\n",
        "doc = spc(\"the dog gives birth to puppies and was really very happy and was willing to show us the puppy.\")\n",
        "for token in doc:\n",
        "    print(token.text, token.lemma_, token.pos_, token.tag_, token.dep_)\n"
      ]
    },
    {
      "cell_type": "markdown",
      "source": [
        "spacy is designed to build systems such as to extract information in natural language processing"
      ],
      "metadata": {
        "id": "beIbnQZGvb56"
      }
    },
    {
      "cell_type": "code",
      "execution_count": null,
      "metadata": {
        "id": "JtBhFdlqczF1"
      },
      "outputs": [],
      "source": [
        "import gensim\n",
        "from gensim.utils import tokenize"
      ]
    },
    {
      "cell_type": "markdown",
      "source": [
        "gensim is python library which is an open source used in nlp and topic modeling that hanndles vast amount of text data"
      ],
      "metadata": {
        "id": "wHyiWmJBukl5"
      }
    },
    {
      "cell_type": "code",
      "execution_count": null,
      "metadata": {
        "colab": {
          "base_uri": "https://localhost:8080/"
        },
        "id": "c98aEXleczF2",
        "outputId": "514a8cf9-8b5d-4c0d-9151-85725e35f400"
      },
      "outputs": [
        {
          "output_type": "stream",
          "name": "stdout",
          "text": [
            "['Welcome', 'to', 'the', 'world', 'of', 'Matrix']\n"
          ]
        }
      ],
      "source": [
        "text = \"Welcome to the world of Matrix.\"\n",
        "\n",
        "tokens = list(tokenize(text))\n",
        "\n",
        "print(tokens)\n"
      ]
    },
    {
      "cell_type": "code",
      "execution_count": null,
      "metadata": {
        "colab": {
          "base_uri": "https://localhost:8080/"
        },
        "id": "W3Kk0ysZczF2",
        "outputId": "5bd40fcb-e864-471d-c19c-9c2c496a2861"
      },
      "outputs": [
        {
          "output_type": "execute_result",
          "data": {
            "text/plain": [
              "<generator object simple_tokenize at 0x7c047cdd19a0>"
            ]
          },
          "metadata": {},
          "execution_count": 46
        }
      ],
      "source": [
        "gensim.utils.tokenize(text, lowercase=True, deacc=False, errors='strict', to_lower=False, lower=False)\n"
      ]
    },
    {
      "cell_type": "code",
      "execution_count": null,
      "metadata": {
        "id": "1WIuMRAkczF2"
      },
      "outputs": [],
      "source": [
        "import keras\n",
        "from keras.preprocessing.text import text_to_word_sequence\n",
        "\n",
        "text=\"Hey, how's it going? Oh, Im just peachy! How about you? Im  doing great, thanks. So, whats new with you?,Well, Ive been learning some jokes. Want to hear one? Of course! I love a good joke. Why did the tomato turn red? Hmm, I don't know. Why? Because it saw the salad dressing! Haha!That's a good one. I'll have to remember that one.\""
      ]
    },
    {
      "cell_type": "code",
      "execution_count": null,
      "metadata": {
        "id": "lZGk0mD_czF2"
      },
      "outputs": [],
      "source": [
        "ktkn=text_to_word_sequence(text)\n"
      ]
    },
    {
      "cell_type": "code",
      "execution_count": null,
      "metadata": {
        "colab": {
          "base_uri": "https://localhost:8080/"
        },
        "id": "kubbnHfWczF2",
        "outputId": "3d2c2421-9ecf-4228-d2ce-a79979319326"
      },
      "outputs": [
        {
          "output_type": "execute_result",
          "data": {
            "text/plain": [
              "['hey',\n",
              " \"how's\",\n",
              " 'it',\n",
              " 'going',\n",
              " 'oh',\n",
              " 'im',\n",
              " 'just',\n",
              " 'peachy',\n",
              " 'how',\n",
              " 'about',\n",
              " 'you',\n",
              " 'im',\n",
              " 'doing',\n",
              " 'great',\n",
              " 'thanks',\n",
              " 'so',\n",
              " 'whats',\n",
              " 'new',\n",
              " 'with',\n",
              " 'you',\n",
              " 'well',\n",
              " 'ive',\n",
              " 'been',\n",
              " 'learning',\n",
              " 'some',\n",
              " 'jokes',\n",
              " 'want',\n",
              " 'to',\n",
              " 'hear',\n",
              " 'one',\n",
              " 'of',\n",
              " 'course',\n",
              " 'i',\n",
              " 'love',\n",
              " 'a',\n",
              " 'good',\n",
              " 'joke',\n",
              " 'why',\n",
              " 'did',\n",
              " 'the',\n",
              " 'tomato',\n",
              " 'turn',\n",
              " 'red',\n",
              " 'hmm',\n",
              " 'i',\n",
              " \"don't\",\n",
              " 'know',\n",
              " 'why',\n",
              " 'because',\n",
              " 'it',\n",
              " 'saw',\n",
              " 'the',\n",
              " 'salad',\n",
              " 'dressing',\n",
              " 'haha',\n",
              " \"that's\",\n",
              " 'a',\n",
              " 'good',\n",
              " 'one',\n",
              " \"i'll\",\n",
              " 'have',\n",
              " 'to',\n",
              " 'remember',\n",
              " 'that',\n",
              " 'one']"
            ]
          },
          "metadata": {},
          "execution_count": 55
        }
      ],
      "source": [
        "ktkn"
      ]
    },
    {
      "cell_type": "markdown",
      "source": [
        "here the role of nlp tokenizers is a base towards stemming and lemmatization When working with NLP data, tokenizers are commonly used to process and clean the text dataset. The aim is to eliminate stop words, punctuation, and other irrelevant information from the text. Tokenizers transform the text into a list of words, which can be cleaned using a text-cleaning function."
      ],
      "metadata": {
        "id": "SRtSdVdlB6Gn"
      }
    },
    {
      "cell_type": "code",
      "source": [],
      "metadata": {
        "id": "eM8xC_V0p6ZM"
      },
      "execution_count": null,
      "outputs": []
    }
  ],
  "metadata": {
    "kernelspec": {
      "display_name": "Python 3",
      "language": "python",
      "name": "python3"
    },
    "language_info": {
      "codemirror_mode": {
        "name": "ipython",
        "version": 3
      },
      "file_extension": ".py",
      "mimetype": "text/x-python",
      "name": "python",
      "nbconvert_exporter": "python",
      "pygments_lexer": "ipython3",
      "version": "3.11.5"
    },
    "colab": {
      "provenance": []
    }
  },
  "nbformat": 4,
  "nbformat_minor": 0
}