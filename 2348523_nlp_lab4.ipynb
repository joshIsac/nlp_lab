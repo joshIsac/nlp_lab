{
  "nbformat": 4,
  "nbformat_minor": 0,
  "metadata": {
    "colab": {
      "provenance": [],
      "authorship_tag": "ABX9TyNtpDBKHcPYrdV8MhXJJakf",
      "include_colab_link": true
    },
    "kernelspec": {
      "name": "python3",
      "display_name": "Python 3"
    },
    "language_info": {
      "name": "python"
    }
  },
  "cells": [
    {
      "cell_type": "markdown",
      "metadata": {
        "id": "view-in-github",
        "colab_type": "text"
      },
      "source": [
        "<a href=\"https://colab.research.google.com/github/joshIsac/nlp_lab/blob/main/2348523_nlp_lab4.ipynb\" target=\"_parent\"><img src=\"https://colab.research.google.com/assets/colab-badge.svg\" alt=\"Open In Colab\"/></a>"
      ]
    },
    {
      "cell_type": "code",
      "execution_count": 2,
      "metadata": {
        "colab": {
          "base_uri": "https://localhost:8080/"
        },
        "id": "oPWk5GOvTT1a",
        "outputId": "a45d392f-60d1-4fa9-9484-719409bdac7b"
      },
      "outputs": [
        {
          "output_type": "stream",
          "name": "stderr",
          "text": [
            "[nltk_data] Downloading package wordnet to /root/nltk_data...\n"
          ]
        },
        {
          "output_type": "execute_result",
          "data": {
            "text/plain": [
              "True"
            ]
          },
          "metadata": {},
          "execution_count": 2
        }
      ],
      "source": [
        "import nltk\n",
        "from nltk.corpus import wordnet\n",
        "nltk.download('wordnet')"
      ]
    },
    {
      "cell_type": "code",
      "source": [
        "#finding synonyms\n",
        "def get_synonyms(word):\n",
        "    synonyms = set()\n",
        "    for syn in wordnet.synsets(word):\n",
        "        for lemma in syn.lemmas():\n",
        "            synonyms.add(lemma.name())\n",
        "    return list(synonyms)\n",
        "words = ['justified', 'dog', 'amazing', 'kill', 'beat']\n",
        "for word in words:\n",
        "    print(word + ':', get_synonyms(word))"
      ],
      "metadata": {
        "colab": {
          "base_uri": "https://localhost:8080/"
        },
        "id": "dRILUHb0ThQn",
        "outputId": "54b7e20a-2e67-46bd-f96c-591da0b63e03"
      },
      "execution_count": 3,
      "outputs": [
        {
          "output_type": "stream",
          "name": "stdout",
          "text": [
            "justified: ['excuse', 'justify', 'apologize', 'absolve', 'rationalise', 'justified', 'warrant', 'vindicate', 'apologise', 'free', 'rationalize']\n",
            "dog: ['track', 'blackguard', 'dog', 'frankfurter', 'go_after', 'dog-iron', 'hound', 'wiener', 'frank', 'firedog', 'Canis_familiaris', 'chase', 'frump', 'chase_after', 'tag', 'heel', 'wienerwurst', 'detent', 'weenie', 'give_chase', 'domestic_dog', 'andiron', 'hotdog', 'bounder', 'tail', 'pawl', 'click', 'trail', 'hot_dog', 'cad']\n",
            "amazing: ['astound', 'awesome', 'astonishing', 'astonish', 'dumbfound', 'mystify', 'awful', 'awing', 'nonplus', 'stick', 'beat', 'perplex', 'awe-inspiring', 'bewilder', 'puzzle', 'get', 'gravel', 'amazing', 'flummox', 'vex', 'amaze', 'pose', 'baffle', 'stupefy']\n",
            "kill: ['wipe_out', 'drink_down', 'kill', 'obliterate', 'pour_down', 'toss_off', 'killing', 'down', 'putting_to_death', 'stamp_out', 'pop', 'bolt_down', 'belt_down', 'defeat', 'vote_out', 'shoot_down', 'vote_down']\n",
            "beat: ['vanquish', 'bunk', 'beat_out', 'crush', 'dumbfound', 'mystify', 'drum', 'dead', 'tick', 'nonplus', 'overreach', 'stick', 'beat', 'stupefy', 'shell', 'musical_rhythm', 'outfox', 'beat_up', 'perplex', 'bewilder', 'bushed', 'outwit', 'work_over', 'exhaust', 'circumvent', 'scramble', 'ticktack', 'puzzle', 'get', 'measure', 'heartbeat', 'meter', 'gravel', 'outsmart', 'rhythm', 'beatnik', 'thump', 'pulsate', 'flap', 'quiver', 'tucker_out', 'pulse', 'flummox', 'vex', 'wash_up', 'ticktock', 'thrum', 'metre', 'pulsation', 'amaze', 'all_in', 'pose', 'cadence', 'pound', 'round', 'baffle', 'trounce', 'tucker']\n"
          ]
        }
      ]
    },
    {
      "cell_type": "code",
      "source": [
        "# @title Find the 3rd meaning of the word in the list.\n",
        "def get_meaning(word, index):\n",
        "    synsets = wordnet.synsets(word)\n",
        "    if len(synsets) >= index:\n",
        "        return synsets[index - 1].definition()\n",
        "    else:\n",
        "        return \"Meaning not found\"\n",
        "\n",
        "words = ['justified', 'dog', 'amazing', 'kill', 'beat']\n",
        "index = 3\n",
        "for word in words:\n",
        "    meaning = get_meaning(word, index)\n",
        "    print(f'The 3rd meaning of \"{word}\" is: {meaning}')\n"
      ],
      "metadata": {
        "colab": {
          "base_uri": "https://localhost:8080/"
        },
        "id": "mA0prb-ZXV6w",
        "outputId": "28c8a136-19c3-43fb-99ee-6614dd71ecc6"
      },
      "execution_count": 4,
      "outputs": [
        {
          "output_type": "stream",
          "name": "stdout",
          "text": [
            "The 3rd meaning of \"justified\" is: defend, explain, clear away, or make excuses for by reasoning\n",
            "The 3rd meaning of \"dog\" is: informal term for a man\n",
            "The 3rd meaning of \"amazing\" is: surprising greatly\n",
            "The 3rd meaning of \"kill\" is: cause to die; put to death, usually intentionally or knowingly\n",
            "The 3rd meaning of \"beat\" is: the basic rhythmic unit in a piece of music\n"
          ]
        }
      ]
    },
    {
      "cell_type": "code",
      "source": [
        "# @title Extract the nouns of the word from the synonyms list.\n",
        "words = ['reaction', 'dog', 'pulp', 'kill', 'beat']\n",
        "for i in words:\n",
        "  x=wordnet.synsets(i,pos=wordnet.NOUN)\n",
        "  print(x)"
      ],
      "metadata": {
        "colab": {
          "base_uri": "https://localhost:8080/"
        },
        "id": "EauIEJ4VYpZA",
        "outputId": "c5029fe3-9054-43e4-cf1a-0eada3e95137"
      },
      "execution_count": 5,
      "outputs": [
        {
          "output_type": "stream",
          "name": "stdout",
          "text": [
            "[Synset('chemical_reaction.n.01'), Synset('reaction.n.02'), Synset('reaction.n.03'), Synset('reaction.n.04'), Synset('reaction.n.05'), Synset('reaction.n.06'), Synset('reaction.n.07')]\n",
            "[Synset('dog.n.01'), Synset('frump.n.01'), Synset('dog.n.03'), Synset('cad.n.01'), Synset('frank.n.02'), Synset('pawl.n.01'), Synset('andiron.n.01')]\n",
            "[Synset('pulp.n.01'), Synset('pulp.n.02'), Synset('pulp.n.03'), Synset('pulp.n.04'), Synset('pulp.n.05')]\n",
            "[Synset('killing.n.02'), Synset('kill.n.02')]\n",
            "[Synset('beat.n.01'), Synset('pulse.n.02'), Synset('rhythm.n.01'), Synset('beat.n.04'), Synset('beatnik.n.01'), Synset('beat.n.06'), Synset('meter.n.03'), Synset('beat.n.08'), Synset('beat.n.09'), Synset('beat.n.10')]\n"
          ]
        }
      ]
    },
    {
      "cell_type": "code",
      "source": [
        "# @title Extract the verbs of the word from the synonyms list.\n",
        "words = ['dance', 'dog', 'pulp', 'kill', 'beat']\n",
        "for i in words:\n",
        "  x=wordnet.synsets(i,pos=wordnet.VERB)\n",
        "  print(x)"
      ],
      "metadata": {
        "colab": {
          "base_uri": "https://localhost:8080/"
        },
        "id": "gE5moUNLciEM",
        "outputId": "8d9b75e1-ccd3-431c-fbf3-d8e8a1d35bd4"
      },
      "execution_count": 6,
      "outputs": [
        {
          "output_type": "stream",
          "name": "stdout",
          "text": [
            "[Synset('dance.v.01'), Synset('dance.v.02'), Synset('dance.v.03')]\n",
            "[Synset('chase.v.01')]\n",
            "[Synset('pulp.v.01'), Synset('pulp.v.02')]\n",
            "[Synset('kill.v.01'), Synset('kill.v.02'), Synset('stamp_out.v.01'), Synset('kill.v.04'), Synset('kill.v.05'), Synset('kill.v.06'), Synset('kill.v.07'), Synset('kill.v.08'), Synset('kill.v.09'), Synset('kill.v.10'), Synset('toss_off.v.02'), Synset('kill.v.12'), Synset('kill.v.13'), Synset('kill.v.14'), Synset('kill.v.15')]\n",
            "[Synset('beat.v.01'), Synset('beat.v.02'), Synset('beat.v.03'), Synset('beat.v.04'), Synset('beat.v.05'), Synset('drum.v.01'), Synset('beat.v.07'), Synset('beat.v.08'), Synset('beat.v.09'), Synset('beat.v.10'), Synset('beat.v.11'), Synset('beat.v.12'), Synset('beat.v.13'), Synset('tick.v.02'), Synset('beat.v.15'), Synset('beat.v.16'), Synset('pulsate.v.02'), Synset('beat.v.18'), Synset('beat.v.19'), Synset('beat.v.20'), Synset('outwit.v.01'), Synset('perplex.v.01'), Synset('exhaust.v.01')]\n"
          ]
        }
      ]
    },
    {
      "cell_type": "code",
      "source": [
        "# @title Extract the adjectives of the word from the synonyms list.\n",
        "from nltk.corpus import wordnet\n",
        "\n",
        "words = ['calm', 'fast', 'gentle','Happy']\n",
        "for i in words:\n",
        "  x = wordnet.synsets(i, pos=wordnet.ADJ)\n",
        "  print(x)\n"
      ],
      "metadata": {
        "colab": {
          "base_uri": "https://localhost:8080/"
        },
        "id": "aX39W2psgA3K",
        "outputId": "0377bdba-c1e4-4fca-f2d7-ff2fb71ebf01"
      },
      "execution_count": 7,
      "outputs": [
        {
          "output_type": "stream",
          "name": "stdout",
          "text": [
            "[Synset('calm.s.01'), Synset('calm.a.02')]\n",
            "[Synset('fast.a.01'), Synset('fast.a.02'), Synset('fast.a.03'), Synset('fast.s.04'), Synset('fast.s.05'), Synset('debauched.s.01'), Synset('flying.s.02'), Synset('fast.s.08'), Synset('firm.s.10'), Synset('fast.s.10')]\n",
            "[Synset('gentle.s.01'), Synset('gentle.s.02'), Synset('gentle.s.03'), Synset('aristocratic.s.01'), Synset('docile.s.03'), Synset('easy.s.05'), Synset('easy.s.08')]\n",
            "[Synset('happy.a.01'), Synset('felicitous.s.02'), Synset('glad.s.02'), Synset('happy.s.04')]\n"
          ]
        }
      ]
    },
    {
      "cell_type": "code",
      "source": [
        "# @title Extract the Adverbs of the word from the synonyms list.\n",
        "words = ['Swiftly', 'quietly', 'Joyfully', 'curiously', 'Briskly']\n",
        "for i in words:\n",
        "  x=wordnet.synsets(i,pos=wordnet.ADV)\n",
        "  print(x)"
      ],
      "metadata": {
        "colab": {
          "base_uri": "https://localhost:8080/"
        },
        "id": "a9L8Wc2xgLCb",
        "outputId": "7b9b92ee-918e-4aa4-afe5-118b918b2c4d"
      },
      "execution_count": 8,
      "outputs": [
        {
          "output_type": "stream",
          "name": "stdout",
          "text": [
            "[Synset('swiftly.r.01')]\n",
            "[Synset('softly.r.01'), Synset('quietly.r.02'), Synset('quietly.r.03'), Synset('restfully.r.01')]\n",
            "[Synset('gleefully.r.01')]\n",
            "[Synset('curiously.r.01'), Synset('curiously.r.02')]\n",
            "[Synset('briskly.r.01')]\n"
          ]
        }
      ]
    },
    {
      "cell_type": "code",
      "source": [
        "# Function to extract the definition of a word\n",
        "def get_definition(word):\n",
        "    synsets = wordnet.synsets(word)\n",
        "    if synsets:\n",
        "        return synsets[0].definition()  # Get the definition of the first synset\n",
        "    else:\n",
        "        return \"Definition not found\"\n",
        "\n",
        "# Test function\n",
        "word = \"happy\"\n",
        "definition = get_definition(word)\n",
        "print(f\"The definition of the word '{word}' is: {definition}\")\n"
      ],
      "metadata": {
        "colab": {
          "base_uri": "https://localhost:8080/"
        },
        "id": "mKotW2x1kAjt",
        "outputId": "77761d7e-6587-43cf-c614-014023fa054a"
      },
      "execution_count": 9,
      "outputs": [
        {
          "output_type": "stream",
          "name": "stdout",
          "text": [
            "The definition of the word 'happy' is: enjoying or showing or marked by joy or pleasure\n"
          ]
        }
      ]
    },
    {
      "cell_type": "code",
      "source": [
        "words = ['apple', 'car', 'bike', 'male', 'caste']\n",
        "\n",
        "for i in words:\n",
        "    synsets = wordnet.synsets(i)\n",
        "    for synset in synsets:\n",
        "        hypernyms = synset.hypernyms()\n",
        "        print(\"Hypernyms of '{}': \".format(i), hypernyms)"
      ],
      "metadata": {
        "colab": {
          "base_uri": "https://localhost:8080/"
        },
        "id": "FhJirH-ciUxN",
        "outputId": "b04c9f46-005f-4934-b403-4e7c1fbf96a3"
      },
      "execution_count": 10,
      "outputs": [
        {
          "output_type": "stream",
          "name": "stdout",
          "text": [
            "Hypernyms of 'apple':  [Synset('edible_fruit.n.01'), Synset('pome.n.01')]\n",
            "Hypernyms of 'apple':  [Synset('apple_tree.n.01')]\n",
            "Hypernyms of 'car':  [Synset('motor_vehicle.n.01')]\n",
            "Hypernyms of 'car':  [Synset('wheeled_vehicle.n.01')]\n",
            "Hypernyms of 'car':  [Synset('compartment.n.02')]\n",
            "Hypernyms of 'car':  [Synset('compartment.n.02')]\n",
            "Hypernyms of 'car':  [Synset('compartment.n.02')]\n",
            "Hypernyms of 'bike':  [Synset('motor_vehicle.n.01')]\n",
            "Hypernyms of 'bike':  [Synset('wheeled_vehicle.n.01')]\n",
            "Hypernyms of 'bike':  [Synset('ride.v.02')]\n",
            "Hypernyms of 'male':  [Synset('animal.n.01')]\n",
            "Hypernyms of 'male':  [Synset('person.n.01')]\n",
            "Hypernyms of 'male':  []\n",
            "Hypernyms of 'male':  []\n",
            "Hypernyms of 'male':  []\n",
            "Hypernyms of 'male':  []\n",
            "Hypernyms of 'caste':  [Synset('status.n.01')]\n",
            "Hypernyms of 'caste':  [Synset('class.n.03')]\n",
            "Hypernyms of 'caste':  [Synset('class.n.03')]\n",
            "Hypernyms of 'caste':  [Synset('animal_group.n.01')]\n"
          ]
        }
      ]
    },
    {
      "cell_type": "markdown",
      "source": [
        "Hypernyms are words that represent a category or a general concept that other words can fall under. For example, “fruit” is a hypernym for “apple”, “banana”, “orange”, and so on."
      ],
      "metadata": {
        "id": "wIE45Z7RkbtN"
      }
    },
    {
      "cell_type": "code",
      "source": [
        "words = ['apple', 'car', 'bike', 'male', 'caste']\n",
        "\n",
        "for i in words:\n",
        "    synsets = wordnet.synsets(i)\n",
        "    for synset in synsets:\n",
        "        hyponyms = synset.hyponyms()\n",
        "        print(\"Hyponyms of '{}': \".format(i), hyponyms)"
      ],
      "metadata": {
        "colab": {
          "base_uri": "https://localhost:8080/"
        },
        "id": "bzZqVXQxkf3n",
        "outputId": "80159578-ce18-4a15-f12c-32ba6ea3760a"
      },
      "execution_count": 11,
      "outputs": [
        {
          "output_type": "stream",
          "name": "stdout",
          "text": [
            "Hyponyms of 'apple':  [Synset('cooking_apple.n.01'), Synset('crab_apple.n.03'), Synset('eating_apple.n.01')]\n",
            "Hyponyms of 'apple':  []\n",
            "Hyponyms of 'car':  [Synset('ambulance.n.01'), Synset('beach_wagon.n.01'), Synset('bus.n.04'), Synset('cab.n.03'), Synset('compact.n.03'), Synset('convertible.n.01'), Synset('coupe.n.01'), Synset('cruiser.n.01'), Synset('electric.n.01'), Synset('gas_guzzler.n.01'), Synset('hardtop.n.01'), Synset('hatchback.n.01'), Synset('horseless_carriage.n.01'), Synset('hot_rod.n.01'), Synset('jeep.n.01'), Synset('limousine.n.01'), Synset('loaner.n.02'), Synset('minicar.n.01'), Synset('minivan.n.01'), Synset('model_t.n.01'), Synset('pace_car.n.01'), Synset('racer.n.02'), Synset('roadster.n.01'), Synset('sedan.n.01'), Synset('sport_utility.n.01'), Synset('sports_car.n.01'), Synset('stanley_steamer.n.01'), Synset('stock_car.n.01'), Synset('subcompact.n.01'), Synset('touring_car.n.01'), Synset('used-car.n.01')]\n",
            "Hyponyms of 'car':  [Synset('baggage_car.n.01'), Synset('cabin_car.n.01'), Synset('club_car.n.01'), Synset('freight_car.n.01'), Synset('guard's_van.n.01'), Synset('handcar.n.01'), Synset('mail_car.n.01'), Synset('passenger_car.n.01'), Synset('slip_coach.n.01'), Synset('tender.n.04'), Synset('van.n.03')]\n",
            "Hyponyms of 'car':  []\n",
            "Hyponyms of 'car':  []\n",
            "Hyponyms of 'car':  []\n",
            "Hyponyms of 'bike':  [Synset('minibike.n.01'), Synset('trail_bike.n.01')]\n",
            "Hyponyms of 'bike':  [Synset('bicycle-built-for-two.n.01'), Synset('mountain_bike.n.01'), Synset('ordinary.n.04'), Synset('push-bike.n.01'), Synset('safety_bicycle.n.01'), Synset('velocipede.n.01')]\n",
            "Hyponyms of 'bike':  [Synset('backpedal.v.01'), Synset('unicycle.v.01')]\n",
            "Hyponyms of 'male':  [Synset('bullock.n.02'), Synset('colt.n.01'), Synset('male_horse.n.01'), Synset('sire.n.03')]\n",
            "Hyponyms of 'male':  [Synset('boy_wonder.n.01'), Synset('chap.n.01'), Synset('foster-brother.n.01'), Synset('macho.n.01'), Synset('male_child.n.01'), Synset('male_offspring.n.01'), Synset('man.n.01'), Synset('man.n.06'), Synset('man.n.08'), Synset('mother's_son.n.01'), Synset('sirrah.n.01')]\n",
            "Hyponyms of 'male':  []\n",
            "Hyponyms of 'male':  []\n",
            "Hyponyms of 'male':  []\n",
            "Hyponyms of 'male':  []\n",
            "Hyponyms of 'caste':  []\n",
            "Hyponyms of 'caste':  [Synset('jati.n.01')]\n",
            "Hyponyms of 'caste':  []\n",
            "Hyponyms of 'caste':  []\n"
          ]
        }
      ]
    },
    {
      "cell_type": "markdown",
      "source": [
        "Hyponyms, on the other hand, are words that fall under a particular category or concept. For example, “apple”, “banana”, and “orange” are hyponyms of the hypernym “fruit”."
      ],
      "metadata": {
        "id": "mMNmPbw6kjbl"
      }
    },
    {
      "cell_type": "markdown",
      "source": [
        "#finding the similarities of two or more than 2 hyponyms\n"
      ],
      "metadata": {
        "id": "4GDIPCTq7RAY"
      }
    },
    {
      "cell_type": "code",
      "source": [
        "from nltk.corpus import wordnet\n",
        "\n",
        "def get_similarity(word1, word2):\n",
        "    synsets1 = wordnet.synsets(word1)\n",
        "    synsets2 = wordnet.synsets(word2)\n",
        "    if synsets1 and synsets2:\n",
        "        hyponyms1 = synsets1[0].hyponyms()\n",
        "        hyponyms2 = synsets2[0].hyponyms()\n",
        "        similarities = [syn1.path_similarity(syn2) or -1 for syn1 in hyponyms1 for syn2 in hyponyms2]\n",
        "        return max(similarities) * 100 if similarities else 'N/A'\n",
        "    else:\n",
        "        return 'N/A'\n",
        "\n",
        "words = [\"spoon\", \"fork\", \"apple\", \"orange\"]\n",
        "similarities = [get_similarity(words[i], words[i + 1]) for i in range(len(words) - 1)]\n",
        "print(\"\\n\".join(f\"Similarity between hyponyms of '{words[i]}' and '{words[i+1]}' is: {similarity}\" for i, similarity in enumerate(similarities)))\n"
      ],
      "metadata": {
        "colab": {
          "base_uri": "https://localhost:8080/"
        },
        "id": "q4lDAMaUCe9w",
        "outputId": "8bb8bf04-e33c-491d-9254-adac02fefeb6"
      },
      "execution_count": 77,
      "outputs": [
        {
          "output_type": "stream",
          "name": "stdout",
          "text": [
            "Similarity between hyponyms of 'spoon' and 'fork' is: 20.0\n",
            "Similarity between hyponyms of 'fork' and 'apple' is: 6.25\n",
            "Similarity between hyponyms of 'apple' and 'orange' is: 16.666666666666664\n"
          ]
        }
      ]
    },
    {
      "cell_type": "code",
      "source": [],
      "metadata": {
        "id": "DNYUk3ewCoSs"
      },
      "execution_count": null,
      "outputs": []
    }
  ]
}