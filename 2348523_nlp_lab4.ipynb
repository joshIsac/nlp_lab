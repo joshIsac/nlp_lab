{
  "nbformat": 4,
  "nbformat_minor": 0,
  "metadata": {
    "colab": {
      "provenance": [],
      "authorship_tag": "ABX9TyPt3FegyXDnrTKcVv42ABIr",
      "include_colab_link": true
    },
    "kernelspec": {
      "name": "python3",
      "display_name": "Python 3"
    },
    "language_info": {
      "name": "python"
    }
  },
  "cells": [
    {
      "cell_type": "markdown",
      "metadata": {
        "id": "view-in-github",
        "colab_type": "text"
      },
      "source": [
        "<a href=\"https://colab.research.google.com/github/joshIsac/nlp_lab/blob/main/2348523_nlp_lab4.ipynb\" target=\"_parent\"><img src=\"https://colab.research.google.com/assets/colab-badge.svg\" alt=\"Open In Colab\"/></a>"
      ]
    },
    {
      "cell_type": "code",
      "execution_count": 5,
      "metadata": {
        "colab": {
          "base_uri": "https://localhost:8080/"
        },
        "id": "oPWk5GOvTT1a",
        "outputId": "e5a110d5-b31f-41d9-c647-0440d1b28f44"
      },
      "outputs": [
        {
          "output_type": "stream",
          "name": "stderr",
          "text": [
            "[nltk_data] Downloading package wordnet to /root/nltk_data...\n",
            "[nltk_data]   Package wordnet is already up-to-date!\n"
          ]
        },
        {
          "output_type": "execute_result",
          "data": {
            "text/plain": [
              "True"
            ]
          },
          "metadata": {},
          "execution_count": 5
        }
      ],
      "source": [
        "import nltk\n",
        "from nltk.corpus import wordnet\n",
        "nltk.download('wordnet')"
      ]
    },
    {
      "cell_type": "code",
      "source": [
        "#finding synonyms\n",
        "def get_synonyms(word):\n",
        "    synonyms = set()\n",
        "    for syn in wordnet.synsets(word):\n",
        "        for lemma in syn.lemmas():\n",
        "            synonyms.add(lemma.name())\n",
        "    return list(synonyms)\n",
        "words = ['justified', 'dog', 'amazing', 'kill', 'beat']\n",
        "for word in words:\n",
        "    print(word + ':', get_synonyms(word))"
      ],
      "metadata": {
        "colab": {
          "base_uri": "https://localhost:8080/"
        },
        "id": "dRILUHb0ThQn",
        "outputId": "cd66d1cf-48bd-4ce0-c337-35d0c08e4fcb"
      },
      "execution_count": 13,
      "outputs": [
        {
          "output_type": "stream",
          "name": "stdout",
          "text": [
            "justified: ['excuse', 'apologize', 'absolve', 'justified', 'free', 'justify', 'rationalise', 'rationalize', 'warrant', 'vindicate', 'apologise']\n",
            "dog: ['andiron', 'hotdog', 'dog', 'frump', 'hound', 'frank', 'dog-iron', 'track', 'domestic_dog', 'hot_dog', 'bounder', 'pawl', 'firedog', 'give_chase', 'trail', 'click', 'wienerwurst', 'tag', 'detent', 'cad', 'go_after', 'blackguard', 'chase', 'frankfurter', 'tail', 'chase_after', 'heel', 'weenie', 'wiener', 'Canis_familiaris']\n",
            "amazing: ['baffle', 'astonishing', 'stupefy', 'dumbfound', 'awful', 'bewilder', 'perplex', 'gravel', 'get', 'awesome', 'pose', 'vex', 'astonish', 'stick', 'awe-inspiring', 'puzzle', 'awing', 'beat', 'amazing', 'amaze', 'mystify', 'flummox', 'nonplus', 'astound']\n",
            "kill: ['putting_to_death', 'toss_off', 'defeat', 'killing', 'bolt_down', 'down', 'obliterate', 'drink_down', 'vote_down', 'pour_down', 'wipe_out', 'belt_down', 'shoot_down', 'kill', 'stamp_out', 'vote_out', 'pop']\n",
            "beat: ['thump', 'baffle', 'heartbeat', 'flap', 'ticktock', 'meter', 'pulse', 'ticktack', 'thrum', 'overreach', 'stupefy', 'dumbfound', 'outwit', 'outfox', 'bewilder', 'round', 'drum', 'perplex', 'trounce', 'gravel', 'get', 'all_in', 'quiver', 'pose', 'tucker_out', 'musical_rhythm', 'pound', 'outsmart', 'vex', 'exhaust', 'wash_up', 'dead', 'bunk', 'stick', 'beat_out', 'beat_up', 'puzzle', 'shell', 'scramble', 'metre', 'tucker', 'beatnik', 'pulsation', 'cadence', 'crush', 'vanquish', 'beat', 'measure', 'mystify', 'amaze', 'bushed', 'rhythm', 'flummox', 'tick', 'nonplus', 'work_over', 'circumvent', 'pulsate']\n"
          ]
        }
      ]
    },
    {
      "cell_type": "code",
      "source": [
        "# @title Find the 3rd meaning of the word in the list.\n",
        "def get_meaning(word, index):\n",
        "    synsets = wordnet.synsets(word)\n",
        "    if len(synsets) >= index:\n",
        "        return synsets[index - 1].definition()\n",
        "    else:\n",
        "        return \"Meaning not found\"\n",
        "\n",
        "words = ['justified', 'dog', 'amazing', 'kill', 'beat']\n",
        "index = 3\n",
        "for word in words:\n",
        "    meaning = get_meaning(word, index)\n",
        "    print(f'The 3rd meaning of \"{word}\" is: {meaning}')\n"
      ],
      "metadata": {
        "colab": {
          "base_uri": "https://localhost:8080/"
        },
        "id": "mA0prb-ZXV6w",
        "outputId": "24dac4d8-ceec-4788-9a6a-33b90573a778"
      },
      "execution_count": 15,
      "outputs": [
        {
          "output_type": "stream",
          "name": "stdout",
          "text": [
            "The 3rd meaning of \"justified\" is: defend, explain, clear away, or make excuses for by reasoning\n",
            "The 3rd meaning of \"dog\" is: informal term for a man\n",
            "The 3rd meaning of \"amazing\" is: surprising greatly\n",
            "The 3rd meaning of \"kill\" is: cause to die; put to death, usually intentionally or knowingly\n",
            "The 3rd meaning of \"beat\" is: the basic rhythmic unit in a piece of music\n"
          ]
        }
      ]
    },
    {
      "cell_type": "code",
      "source": [
        "# @title Extract the nouns of the word from the synonyms list.\n",
        "words = ['reaction', 'dog', 'pulp', 'kill', 'beat']\n",
        "for i in words:\n",
        "  x=wordnet.synsets(i,pos=wordnet.NOUN)\n",
        "  print(x)"
      ],
      "metadata": {
        "colab": {
          "base_uri": "https://localhost:8080/"
        },
        "id": "EauIEJ4VYpZA",
        "outputId": "3a4e4882-aeea-4935-981d-7d1ca1485c44"
      },
      "execution_count": 37,
      "outputs": [
        {
          "output_type": "stream",
          "name": "stdout",
          "text": [
            "[Synset('chemical_reaction.n.01'), Synset('reaction.n.02'), Synset('reaction.n.03'), Synset('reaction.n.04'), Synset('reaction.n.05'), Synset('reaction.n.06'), Synset('reaction.n.07')]\n",
            "[Synset('dog.n.01'), Synset('frump.n.01'), Synset('dog.n.03'), Synset('cad.n.01'), Synset('frank.n.02'), Synset('pawl.n.01'), Synset('andiron.n.01')]\n",
            "[Synset('pulp.n.01'), Synset('pulp.n.02'), Synset('pulp.n.03'), Synset('pulp.n.04'), Synset('pulp.n.05')]\n",
            "[Synset('killing.n.02'), Synset('kill.n.02')]\n",
            "[Synset('beat.n.01'), Synset('pulse.n.02'), Synset('rhythm.n.01'), Synset('beat.n.04'), Synset('beatnik.n.01'), Synset('beat.n.06'), Synset('meter.n.03'), Synset('beat.n.08'), Synset('beat.n.09'), Synset('beat.n.10')]\n"
          ]
        }
      ]
    },
    {
      "cell_type": "code",
      "source": [
        "# @title Extract the verbs of the word from the synonyms list.\n",
        "words = ['dance', 'dog', 'pulp', 'kill', 'beat']\n",
        "for i in words:\n",
        "  x=wordnet.synsets(i,pos=wordnet.VERB)\n",
        "  print(x)"
      ],
      "metadata": {
        "colab": {
          "base_uri": "https://localhost:8080/"
        },
        "id": "gE5moUNLciEM",
        "outputId": "627ee9df-645c-4d80-b22b-a53c6829b528"
      },
      "execution_count": 39,
      "outputs": [
        {
          "output_type": "stream",
          "name": "stdout",
          "text": [
            "[Synset('dance.v.01'), Synset('dance.v.02'), Synset('dance.v.03')]\n",
            "[Synset('chase.v.01')]\n",
            "[Synset('pulp.v.01'), Synset('pulp.v.02')]\n",
            "[Synset('kill.v.01'), Synset('kill.v.02'), Synset('stamp_out.v.01'), Synset('kill.v.04'), Synset('kill.v.05'), Synset('kill.v.06'), Synset('kill.v.07'), Synset('kill.v.08'), Synset('kill.v.09'), Synset('kill.v.10'), Synset('toss_off.v.02'), Synset('kill.v.12'), Synset('kill.v.13'), Synset('kill.v.14'), Synset('kill.v.15')]\n",
            "[Synset('beat.v.01'), Synset('beat.v.02'), Synset('beat.v.03'), Synset('beat.v.04'), Synset('beat.v.05'), Synset('drum.v.01'), Synset('beat.v.07'), Synset('beat.v.08'), Synset('beat.v.09'), Synset('beat.v.10'), Synset('beat.v.11'), Synset('beat.v.12'), Synset('beat.v.13'), Synset('tick.v.02'), Synset('beat.v.15'), Synset('beat.v.16'), Synset('pulsate.v.02'), Synset('beat.v.18'), Synset('beat.v.19'), Synset('beat.v.20'), Synset('outwit.v.01'), Synset('perplex.v.01'), Synset('exhaust.v.01')]\n"
          ]
        }
      ]
    },
    {
      "cell_type": "code",
      "source": [
        "# @title Extract the adjectives of the word from the synonyms list.\n",
        "from nltk.corpus import wordnet\n",
        "\n",
        "words = ['calm', 'fast', 'gentle','Happy']\n",
        "for i in words:\n",
        "  x = wordnet.synsets(i, pos=wordnet.ADJ)\n",
        "  print(x)\n"
      ],
      "metadata": {
        "colab": {
          "base_uri": "https://localhost:8080/"
        },
        "id": "aX39W2psgA3K",
        "outputId": "f1554a2c-2d4b-4b97-a76c-6145d166df6f"
      },
      "execution_count": 76,
      "outputs": [
        {
          "output_type": "stream",
          "name": "stdout",
          "text": [
            "[Synset('calm.s.01'), Synset('calm.a.02')]\n",
            "[Synset('fast.a.01'), Synset('fast.a.02'), Synset('fast.a.03'), Synset('fast.s.04'), Synset('fast.s.05'), Synset('debauched.s.01'), Synset('flying.s.02'), Synset('fast.s.08'), Synset('firm.s.10'), Synset('fast.s.10')]\n",
            "[Synset('gentle.s.01'), Synset('gentle.s.02'), Synset('gentle.s.03'), Synset('aristocratic.s.01'), Synset('docile.s.03'), Synset('easy.s.05'), Synset('easy.s.08')]\n",
            "[Synset('happy.a.01'), Synset('felicitous.s.02'), Synset('glad.s.02'), Synset('happy.s.04')]\n"
          ]
        }
      ]
    },
    {
      "cell_type": "code",
      "source": [
        "# @title Extract the verbs of the word from the synonyms list.\n",
        "words = ['Swiftly', 'quietly', 'Joyfully', 'curiously', 'Briskly']\n",
        "for i in words:\n",
        "  x=wordnet.synsets(i,pos=wordnet.ADV)\n",
        "  print(x)"
      ],
      "metadata": {
        "colab": {
          "base_uri": "https://localhost:8080/"
        },
        "id": "a9L8Wc2xgLCb",
        "outputId": "d0d547dc-6207-415a-ffc9-66d2baacdc81"
      },
      "execution_count": 73,
      "outputs": [
        {
          "output_type": "stream",
          "name": "stdout",
          "text": [
            "[Synset('swiftly.r.01')]\n",
            "[Synset('softly.r.01'), Synset('quietly.r.02'), Synset('quietly.r.03'), Synset('restfully.r.01')]\n",
            "[Synset('gleefully.r.01')]\n",
            "[Synset('curiously.r.01'), Synset('curiously.r.02')]\n",
            "[Synset('briskly.r.01')]\n"
          ]
        }
      ]
    },
    {
      "cell_type": "code",
      "source": [
        "# Function to extract the definition of a word\n",
        "def get_definition(word):\n",
        "    synsets = wordnet.synsets(word)\n",
        "    if synsets:\n",
        "        return synsets[0].definition()  # Get the definition of the first synset\n",
        "    else:\n",
        "        return \"Definition not found\"\n",
        "\n",
        "# Test function\n",
        "word = \"happy\"\n",
        "definition = get_definition(word)\n",
        "print(f\"The definition of the word '{word}' is: {definition}\")\n"
      ],
      "metadata": {
        "colab": {
          "base_uri": "https://localhost:8080/"
        },
        "id": "mKotW2x1kAjt",
        "outputId": "0170d966-6ae6-4ab8-a9a2-5a0a45fd7ee9"
      },
      "execution_count": 82,
      "outputs": [
        {
          "output_type": "stream",
          "name": "stdout",
          "text": [
            "The definition of the word 'happy' is: enjoying or showing or marked by joy or pleasure\n"
          ]
        }
      ]
    },
    {
      "cell_type": "code",
      "source": [
        "words = ['apple', 'car', 'bike', 'male', 'caste']\n",
        "\n",
        "for i in words:\n",
        "    synsets = wordnet.synsets(i)\n",
        "    for synset in synsets:\n",
        "        hypernyms = synset.hypernyms()\n",
        "        print(\"Hypernyms of '{}': \".format(i), hypernyms)"
      ],
      "metadata": {
        "colab": {
          "base_uri": "https://localhost:8080/"
        },
        "id": "FhJirH-ciUxN",
        "outputId": "1e4acd40-56bf-4825-f772-743bc8776eb9"
      },
      "execution_count": 91,
      "outputs": [
        {
          "output_type": "stream",
          "name": "stdout",
          "text": [
            "Hypernyms of 'apple':  [Synset('edible_fruit.n.01'), Synset('pome.n.01')]\n",
            "Hypernyms of 'apple':  [Synset('apple_tree.n.01')]\n",
            "Hypernyms of 'car':  [Synset('motor_vehicle.n.01')]\n",
            "Hypernyms of 'car':  [Synset('wheeled_vehicle.n.01')]\n",
            "Hypernyms of 'car':  [Synset('compartment.n.02')]\n",
            "Hypernyms of 'car':  [Synset('compartment.n.02')]\n",
            "Hypernyms of 'car':  [Synset('compartment.n.02')]\n",
            "Hypernyms of 'bike':  [Synset('motor_vehicle.n.01')]\n",
            "Hypernyms of 'bike':  [Synset('wheeled_vehicle.n.01')]\n",
            "Hypernyms of 'bike':  [Synset('ride.v.02')]\n",
            "Hypernyms of 'male':  [Synset('animal.n.01')]\n",
            "Hypernyms of 'male':  [Synset('person.n.01')]\n",
            "Hypernyms of 'male':  []\n",
            "Hypernyms of 'male':  []\n",
            "Hypernyms of 'male':  []\n",
            "Hypernyms of 'male':  []\n",
            "Hypernyms of 'caste':  [Synset('status.n.01')]\n",
            "Hypernyms of 'caste':  [Synset('class.n.03')]\n",
            "Hypernyms of 'caste':  [Synset('class.n.03')]\n",
            "Hypernyms of 'caste':  [Synset('animal_group.n.01')]\n"
          ]
        }
      ]
    },
    {
      "cell_type": "markdown",
      "source": [
        "Hypernyms are words that represent a category or a general concept that other words can fall under. For example, “fruit” is a hypernym for “apple”, “banana”, “orange”, and so on."
      ],
      "metadata": {
        "id": "wIE45Z7RkbtN"
      }
    },
    {
      "cell_type": "code",
      "source": [
        "words = ['apple', 'car', 'bike', 'male', 'caste']\n",
        "\n",
        "for i in words:\n",
        "    synsets = wordnet.synsets(i)\n",
        "    for synset in synsets:\n",
        "        hyponyms = synset.hyponyms()\n",
        "        print(\"Hyponyms of '{}': \".format(i), hyponyms)"
      ],
      "metadata": {
        "colab": {
          "base_uri": "https://localhost:8080/"
        },
        "id": "bzZqVXQxkf3n",
        "outputId": "90e5fed7-4d52-4aa6-a197-5d3a4517d1c9"
      },
      "execution_count": 93,
      "outputs": [
        {
          "output_type": "stream",
          "name": "stdout",
          "text": [
            "Hyponyms of 'apple':  [Synset('cooking_apple.n.01'), Synset('crab_apple.n.03'), Synset('eating_apple.n.01')]\n",
            "Hyponyms of 'apple':  []\n",
            "Hyponyms of 'car':  [Synset('ambulance.n.01'), Synset('beach_wagon.n.01'), Synset('bus.n.04'), Synset('cab.n.03'), Synset('compact.n.03'), Synset('convertible.n.01'), Synset('coupe.n.01'), Synset('cruiser.n.01'), Synset('electric.n.01'), Synset('gas_guzzler.n.01'), Synset('hardtop.n.01'), Synset('hatchback.n.01'), Synset('horseless_carriage.n.01'), Synset('hot_rod.n.01'), Synset('jeep.n.01'), Synset('limousine.n.01'), Synset('loaner.n.02'), Synset('minicar.n.01'), Synset('minivan.n.01'), Synset('model_t.n.01'), Synset('pace_car.n.01'), Synset('racer.n.02'), Synset('roadster.n.01'), Synset('sedan.n.01'), Synset('sport_utility.n.01'), Synset('sports_car.n.01'), Synset('stanley_steamer.n.01'), Synset('stock_car.n.01'), Synset('subcompact.n.01'), Synset('touring_car.n.01'), Synset('used-car.n.01')]\n",
            "Hyponyms of 'car':  [Synset('baggage_car.n.01'), Synset('cabin_car.n.01'), Synset('club_car.n.01'), Synset('freight_car.n.01'), Synset('guard's_van.n.01'), Synset('handcar.n.01'), Synset('mail_car.n.01'), Synset('passenger_car.n.01'), Synset('slip_coach.n.01'), Synset('tender.n.04'), Synset('van.n.03')]\n",
            "Hyponyms of 'car':  []\n",
            "Hyponyms of 'car':  []\n",
            "Hyponyms of 'car':  []\n",
            "Hyponyms of 'bike':  [Synset('minibike.n.01'), Synset('trail_bike.n.01')]\n",
            "Hyponyms of 'bike':  [Synset('bicycle-built-for-two.n.01'), Synset('mountain_bike.n.01'), Synset('ordinary.n.04'), Synset('push-bike.n.01'), Synset('safety_bicycle.n.01'), Synset('velocipede.n.01')]\n",
            "Hyponyms of 'bike':  [Synset('backpedal.v.01'), Synset('unicycle.v.01')]\n",
            "Hyponyms of 'male':  [Synset('bullock.n.02'), Synset('colt.n.01'), Synset('male_horse.n.01'), Synset('sire.n.03')]\n",
            "Hyponyms of 'male':  [Synset('boy_wonder.n.01'), Synset('chap.n.01'), Synset('foster-brother.n.01'), Synset('macho.n.01'), Synset('male_child.n.01'), Synset('male_offspring.n.01'), Synset('man.n.01'), Synset('man.n.06'), Synset('man.n.08'), Synset('mother's_son.n.01'), Synset('sirrah.n.01')]\n",
            "Hyponyms of 'male':  []\n",
            "Hyponyms of 'male':  []\n",
            "Hyponyms of 'male':  []\n",
            "Hyponyms of 'male':  []\n",
            "Hyponyms of 'caste':  []\n",
            "Hyponyms of 'caste':  [Synset('jati.n.01')]\n",
            "Hyponyms of 'caste':  []\n",
            "Hyponyms of 'caste':  []\n"
          ]
        }
      ]
    },
    {
      "cell_type": "markdown",
      "source": [
        "Hyponyms, on the other hand, are words that fall under a particular category or concept. For example, “apple”, “banana”, and “orange” are hyponyms of the hypernym “fruit”."
      ],
      "metadata": {
        "id": "mMNmPbw6kjbl"
      }
    },
    {
      "cell_type": "code",
      "source": [],
      "metadata": {
        "id": "JRV8gzuXkkBU"
      },
      "execution_count": null,
      "outputs": []
    }
  ]
}