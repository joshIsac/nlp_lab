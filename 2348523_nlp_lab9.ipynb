{
  "nbformat": 4,
  "nbformat_minor": 0,
  "metadata": {
    "colab": {
      "provenance": [],
      "authorship_tag": "ABX9TyM1nzm2ydf/jLwTCEhTCBQ4",
      "include_colab_link": true
    },
    "kernelspec": {
      "name": "python3",
      "display_name": "Python 3"
    },
    "language_info": {
      "name": "python"
    }
  },
  "cells": [
    {
      "cell_type": "markdown",
      "metadata": {
        "id": "view-in-github",
        "colab_type": "text"
      },
      "source": [
        "<a href=\"https://colab.research.google.com/github/joshIsac/nlp_lab/blob/main/2348523_nlp_lab9.ipynb\" target=\"_parent\"><img src=\"https://colab.research.google.com/assets/colab-badge.svg\" alt=\"Open In Colab\"/></a>"
      ]
    },
    {
      "cell_type": "code",
      "execution_count": 1,
      "metadata": {
        "colab": {
          "base_uri": "https://localhost:8080/"
        },
        "id": "TBb1A3Wu0Zrx",
        "outputId": "2b3dc0ad-15b5-4584-be6c-6fb1d143bbf9"
      },
      "outputs": [
        {
          "output_type": "stream",
          "name": "stdout",
          "text": [
            "Edit distance between 'kitten' and 'sitting' is: 3\n"
          ]
        }
      ],
      "source": [
        "def edit_distance(str1, str2):\n",
        "   len1 = len(str1)\n",
        "   len2 = len(str2)\n",
        "\n",
        "   # a matrix to store the results of subproblems related to distance calculations\n",
        "   distance_matrix = [[0] * (len2 + 1) for _ in range(len1 + 1)]\n",
        "\n",
        "   # Fill distance_matrix in a bottom-up manner\n",
        "   for i in range(len1 + 1):\n",
        "       for j in range(len2 + 1):\n",
        "           if i == 0:\n",
        "               distance_matrix[i][j] = j\n",
        "           elif j == 0:\n",
        "               distance_matrix[i][j] = i\n",
        "           elif str1[i - 1] == str2[j - 1]:\n",
        "               distance_matrix[i][j] = distance_matrix[i - 1][j - 1]\n",
        "           else:\n",
        "               distance_matrix[i][j] = 1 + min(distance_matrix[i][j - 1],        # Insert\n",
        "                                               distance_matrix[i - 1][j],        # Remove\n",
        "                                               distance_matrix[i - 1][j - 1])    # Replace\n",
        "\n",
        "   return distance_matrix[len1][len2]\n",
        "\n",
        "# Example usage:\n",
        "str1 = \"kitten\"\n",
        "str2 = \"sitting\"\n",
        "print(\"Edit distance between '{}' and '{}' is: {}\".format(str1, str2, edit_distance(str1, str2)))\n"
      ]
    },
    {
      "cell_type": "code",
      "source": [
        "import random\n",
        "\n",
        "def generate_story(keywords):\n",
        "    story_templates = [\n",
        "        \"Once upon a time, there was a {}. It lived in a {}. One day, it {}.\",\n",
        "        \"In a {}. {} lived happily. But one day, {}. That's how the story goes.\",\n",
        "        \"Long ago, in a land of {}, there was a {}. It loved to {}. But one day, {}.\",\n",
        "        \"There once was a {}. It was known for its {}. But it had a secret: {}.\"\n",
        "    ]\n",
        "    story_template = random.choice(story_templates)\n",
        "    story = story_template.format(*keywords)\n",
        "    return story\n",
        "\n",
        "# Example usage:\n",
        "keywords = [\"unicorn\", \"magical forest\", \"found a hidden treasure\"]\n",
        "print(generate_story(keywords))\n"
      ],
      "metadata": {
        "colab": {
          "base_uri": "https://localhost:8080/"
        },
        "id": "naxXRBww0zo3",
        "outputId": "ea4f5972-d1a9-45c4-b259-db700b7b18f7"
      },
      "execution_count": null,
      "outputs": [
        {
          "output_type": "stream",
          "name": "stdout",
          "text": [
            "There once was a unicorn. It was known for its magical forest. But it had a secret: found a hidden treasure.\n"
          ]
        }
      ]
    },
    {
      "cell_type": "code",
      "source": [],
      "metadata": {
        "id": "NLe6BrBf1ZcY"
      },
      "execution_count": null,
      "outputs": []
    }
  ]
}