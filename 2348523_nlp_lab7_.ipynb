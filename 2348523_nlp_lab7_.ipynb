{
  "nbformat": 4,
  "nbformat_minor": 0,
  "metadata": {
    "colab": {
      "provenance": [],
      "mount_file_id": "1TtEESoHCWclJ_9HNDia0Y8atVUjzuOCH",
      "authorship_tag": "ABX9TyOQXQZO6DQk0fLhWP8ykzFL",
      "include_colab_link": true
    },
    "kernelspec": {
      "name": "python3",
      "display_name": "Python 3"
    },
    "language_info": {
      "name": "python"
    }
  },
  "cells": [
    {
      "cell_type": "markdown",
      "metadata": {
        "id": "view-in-github",
        "colab_type": "text"
      },
      "source": [
        "<a href=\"https://colab.research.google.com/github/joshIsac/nlp_lab/blob/main/2348523_nlp_lab7_.ipynb\" target=\"_parent\"><img src=\"https://colab.research.google.com/assets/colab-badge.svg\" alt=\"Open In Colab\"/></a>"
      ]
    },
    {
      "cell_type": "code",
      "execution_count": 48,
      "metadata": {
        "id": "0i5FZtsD8zTS"
      },
      "outputs": [],
      "source": [
        "import nltk\n",
        "from nltk.tokenize import word_tokenize,sent_tokenize\n",
        "from nltk.corpus import wordnet"
      ]
    },
    {
      "cell_type": "code",
      "source": [
        "corpus1=\"Anime (Japanese: アニメ, IPA: [aꜜɲime] ⓘ) is hand-drawn and computer-generated animation originating from Japan. Outside Japan and in English, anime refers specifically to animation produced in Japan.[1] However, in Japan and Japanese, anime (a term derived from a shortening of the English word animation) describes all animated works, regardless of style or origin. Many works of animation with a similar style to Japanese animation are also produced outside Japan. Video games sometimes also feature themes and art styles that can be considered as anime.\"\n",
        "corpus2=\"Manga (漫画, IPA: [maŋga] ⓘ[a]) are comics or graphic novels originating from Japan.[1] Most manga conform to a style developed in Japan in the late 19th century,[2] and the form has a long history in earlier Japanese art.[3] The term manga is used in Japan to refer to both comics and cartooning. Outside of Japan, the word is typically used to refer to comics originally published in Japan and published in translation, i.e. a Japanese comic book with English text.\"\n",
        "nltk.download('punkt')\n",
        "tokens1 = nltk.word_tokenize(corpus1)\n",
        "tokens2 = nltk.word_tokenize(corpus2)\n",
        "print (\"Tokenized words of corpus-1:\",tokens1)\n",
        "print (\"Tokenized words of corpus-2:\",tokens2)\n"
      ],
      "metadata": {
        "colab": {
          "base_uri": "https://localhost:8080/"
        },
        "id": "HBG6nBEz9jno",
        "outputId": "e92a24f8-01f6-4f21-c9a9-97c316cc8fec"
      },
      "execution_count": 49,
      "outputs": [
        {
          "output_type": "stream",
          "name": "stdout",
          "text": [
            "Tokenized words of corpus-1: ['Anime', '(', 'Japanese', ':', 'アニメ', ',', 'IPA', ':', '[', 'aꜜɲime', ']', 'ⓘ', ')', 'is', 'hand-drawn', 'and', 'computer-generated', 'animation', 'originating', 'from', 'Japan', '.', 'Outside', 'Japan', 'and', 'in', 'English', ',', 'anime', 'refers', 'specifically', 'to', 'animation', 'produced', 'in', 'Japan', '.', '[', '1', ']', 'However', ',', 'in', 'Japan', 'and', 'Japanese', ',', 'anime', '(', 'a', 'term', 'derived', 'from', 'a', 'shortening', 'of', 'the', 'English', 'word', 'animation', ')', 'describes', 'all', 'animated', 'works', ',', 'regardless', 'of', 'style', 'or', 'origin', '.', 'Many', 'works', 'of', 'animation', 'with', 'a', 'similar', 'style', 'to', 'Japanese', 'animation', 'are', 'also', 'produced', 'outside', 'Japan', '.', 'Video', 'games', 'sometimes', 'also', 'feature', 'themes', 'and', 'art', 'styles', 'that', 'can', 'be', 'considered', 'as', 'anime', '.']\n",
            "Tokenized words of corpus-2: ['Manga', '(', '漫画', ',', 'IPA', ':', '[', 'maŋga', ']', 'ⓘ', '[', 'a', ']', ')', 'are', 'comics', 'or', 'graphic', 'novels', 'originating', 'from', 'Japan', '.', '[', '1', ']', 'Most', 'manga', 'conform', 'to', 'a', 'style', 'developed', 'in', 'Japan', 'in', 'the', 'late', '19th', 'century', ',', '[', '2', ']', 'and', 'the', 'form', 'has', 'a', 'long', 'history', 'in', 'earlier', 'Japanese', 'art', '.', '[', '3', ']', 'The', 'term', 'manga', 'is', 'used', 'in', 'Japan', 'to', 'refer', 'to', 'both', 'comics', 'and', 'cartooning', '.', 'Outside', 'of', 'Japan', ',', 'the', 'word', 'is', 'typically', 'used', 'to', 'refer', 'to', 'comics', 'originally', 'published', 'in', 'Japan', 'and', 'published', 'in', 'translation', ',', 'i.e', '.', 'a', 'Japanese', 'comic', 'book', 'with', 'English', 'text', '.']\n"
          ]
        },
        {
          "output_type": "stream",
          "name": "stderr",
          "text": [
            "[nltk_data] Downloading package punkt to /root/nltk_data...\n",
            "[nltk_data]   Package punkt is already up-to-date!\n"
          ]
        }
      ]
    },
    {
      "cell_type": "code",
      "source": [
        "sentence_tokenized1=nltk.sent_tokenize(corpus1)\n",
        "sentence_tokenized2 = nltk.sent_tokenize(corpus2)\n",
        "print (\"sentence Tokenized words of corpus-1:\",sentence_tokenized1)\n",
        "print (\"sentence Tokenized words of corpus-2:\",sentence_tokenized2)"
      ],
      "metadata": {
        "colab": {
          "base_uri": "https://localhost:8080/"
        },
        "id": "jc2hff1YAApx",
        "outputId": "a55872a4-5535-4f74-dd81-a1297a484695"
      },
      "execution_count": 50,
      "outputs": [
        {
          "output_type": "stream",
          "name": "stdout",
          "text": [
            "sentence Tokenized words of corpus-1: ['Anime (Japanese: アニメ, IPA: [aꜜɲime] ⓘ) is hand-drawn and computer-generated animation originating from Japan.', 'Outside Japan and in English, anime refers specifically to animation produced in Japan.', '[1] However, in Japan and Japanese, anime (a term derived from a shortening of the English word animation) describes all animated works, regardless of style or origin.', 'Many works of animation with a similar style to Japanese animation are also produced outside Japan.', 'Video games sometimes also feature themes and art styles that can be considered as anime.']\n",
            "sentence Tokenized words of corpus-2: ['Manga (漫画, IPA: [maŋga] ⓘ[a]) are comics or graphic novels originating from Japan.', '[1] Most manga conform to a style developed in Japan in the late 19th century,[2] and the form has a long history in earlier Japanese art.', '[3] The term manga is used in Japan to refer to both comics and cartooning.', 'Outside of Japan, the word is typically used to refer to comics originally published in Japan and published in translation, i.e.', 'a Japanese comic book with English text.']\n"
          ]
        }
      ]
    },
    {
      "cell_type": "code",
      "source": [
        "from nltk.probability import FreqDist\n",
        "fdist_corpus1=FreqDist(tokens1)\n",
        "print(\"frquency distribution of tokens in corpus-1:\",fdist_corpus1)\n",
        "\n",
        "fdist_corpus2=FreqDist(tokens2)\n",
        "print(\"frquency distribution of tokens in corpus-2:\",fdist_corpus2)"
      ],
      "metadata": {
        "colab": {
          "base_uri": "https://localhost:8080/"
        },
        "id": "41B8QdztBVhP",
        "outputId": "735cd81b-5e34-4c0a-dbdd-b4a4478407c8"
      },
      "execution_count": 51,
      "outputs": [
        {
          "output_type": "stream",
          "name": "stdout",
          "text": [
            "frquency distribution of tokens in corpus-1: <FreqDist with 64 samples and 105 outcomes>\n",
            "frquency distribution of tokens in corpus-2: <FreqDist with 63 samples and 106 outcomes>\n"
          ]
        }
      ]
    },
    {
      "cell_type": "code",
      "source": [
        "fdist_corpus1"
      ],
      "metadata": {
        "colab": {
          "base_uri": "https://localhost:8080/"
        },
        "id": "6UuKguobB1Un",
        "outputId": "356d2a5a-5f7d-4ae8-d33f-b165780755d1"
      },
      "execution_count": 52,
      "outputs": [
        {
          "output_type": "execute_result",
          "data": {
            "text/plain": [
              "FreqDist({',': 5, 'animation': 5, 'Japan': 5, '.': 5, 'and': 4, 'Japanese': 3, 'in': 3, 'anime': 3, 'a': 3, 'of': 3, ...})"
            ]
          },
          "metadata": {},
          "execution_count": 52
        }
      ]
    },
    {
      "cell_type": "code",
      "source": [
        "fdist_corpus2"
      ],
      "metadata": {
        "colab": {
          "base_uri": "https://localhost:8080/"
        },
        "id": "1Gs5GGK9B5nF",
        "outputId": "f1aab939-3c3c-48ab-99d7-5a84d483a93a"
      },
      "execution_count": 53,
      "outputs": [
        {
          "output_type": "execute_result",
          "data": {
            "text/plain": [
              "FreqDist({'in': 6, '[': 5, ']': 5, 'Japan': 5, '.': 5, 'to': 5, ',': 4, 'a': 4, 'comics': 3, 'the': 3, ...})"
            ]
          },
          "metadata": {},
          "execution_count": 53
        }
      ]
    },
    {
      "cell_type": "code",
      "source": [
        "from nltk.corpus import stopwords\n",
        "nltk.download('stopwords')\n",
        "stop_words = list(stopwords.words('english'))"
      ],
      "metadata": {
        "colab": {
          "base_uri": "https://localhost:8080/"
        },
        "id": "vRsml3BtCHbw",
        "outputId": "654ce023-48af-41b1-a883-1ee29af131bf"
      },
      "execution_count": 54,
      "outputs": [
        {
          "output_type": "stream",
          "name": "stderr",
          "text": [
            "[nltk_data] Downloading package stopwords to /root/nltk_data...\n",
            "[nltk_data]   Package stopwords is already up-to-date!\n"
          ]
        }
      ]
    },
    {
      "cell_type": "code",
      "source": [
        "filtered_words1= [word for word in tokens1 if word.lower() not in stop_words]\n",
        "print(filtered_words1)"
      ],
      "metadata": {
        "colab": {
          "base_uri": "https://localhost:8080/"
        },
        "id": "cotOr8ZzCfka",
        "outputId": "9e0e2d5d-cb05-413f-cb1c-021417373bf4"
      },
      "execution_count": 55,
      "outputs": [
        {
          "output_type": "stream",
          "name": "stdout",
          "text": [
            "['Anime', '(', 'Japanese', ':', 'アニメ', ',', 'IPA', ':', '[', 'aꜜɲime', ']', 'ⓘ', ')', 'hand-drawn', 'computer-generated', 'animation', 'originating', 'Japan', '.', 'Outside', 'Japan', 'English', ',', 'anime', 'refers', 'specifically', 'animation', 'produced', 'Japan', '.', '[', '1', ']', 'However', ',', 'Japan', 'Japanese', ',', 'anime', '(', 'term', 'derived', 'shortening', 'English', 'word', 'animation', ')', 'describes', 'animated', 'works', ',', 'regardless', 'style', 'origin', '.', 'Many', 'works', 'animation', 'similar', 'style', 'Japanese', 'animation', 'also', 'produced', 'outside', 'Japan', '.', 'Video', 'games', 'sometimes', 'also', 'feature', 'themes', 'art', 'styles', 'considered', 'anime', '.']\n"
          ]
        }
      ]
    },
    {
      "cell_type": "code",
      "source": [
        "filtered_words2 = [word for word in tokens2 if word.lower() not in stop_words]\n",
        "print(filtered_words2)"
      ],
      "metadata": {
        "colab": {
          "base_uri": "https://localhost:8080/"
        },
        "id": "WmiVuscLCxp1",
        "outputId": "6bbbbbaa-5fc1-41c5-8a7c-63da9a5c03b6"
      },
      "execution_count": 56,
      "outputs": [
        {
          "output_type": "stream",
          "name": "stdout",
          "text": [
            "['Manga', '(', '漫画', ',', 'IPA', ':', '[', 'maŋga', ']', 'ⓘ', '[', ']', ')', 'comics', 'graphic', 'novels', 'originating', 'Japan', '.', '[', '1', ']', 'manga', 'conform', 'style', 'developed', 'Japan', 'late', '19th', 'century', ',', '[', '2', ']', 'form', 'long', 'history', 'earlier', 'Japanese', 'art', '.', '[', '3', ']', 'term', 'manga', 'used', 'Japan', 'refer', 'comics', 'cartooning', '.', 'Outside', 'Japan', ',', 'word', 'typically', 'used', 'refer', 'comics', 'originally', 'published', 'Japan', 'published', 'translation', ',', 'i.e', '.', 'Japanese', 'comic', 'book', 'English', 'text', '.']\n"
          ]
        }
      ]
    },
    {
      "cell_type": "code",
      "source": [
        "nltk.download('wordnet')"
      ],
      "metadata": {
        "colab": {
          "base_uri": "https://localhost:8080/"
        },
        "id": "nzPSAW1NDx85",
        "outputId": "dfdcaba5-6b38-46da-c51c-cee162a5cc8f"
      },
      "execution_count": 57,
      "outputs": [
        {
          "output_type": "stream",
          "name": "stderr",
          "text": [
            "[nltk_data] Downloading package wordnet to /root/nltk_data...\n",
            "[nltk_data]   Package wordnet is already up-to-date!\n"
          ]
        },
        {
          "output_type": "execute_result",
          "data": {
            "text/plain": [
              "True"
            ]
          },
          "metadata": {},
          "execution_count": 57
        }
      ]
    },
    {
      "cell_type": "code",
      "source": [
        "from nltk.stem import PorterStemmer , WordNetLemmatizer\n",
        "porter_stemmed=PorterStemmer()\n",
        "stemmed_words1 = [porter_stemmed.stem(word) for word in filtered_words1]\n",
        "print(\"stemmed_words of tokens after removal of stopwords from corpus-1 \",stemmed_words1)\n",
        "stemmed_words2 = [porter_stemmed.stem(word) for word in filtered_words2]\n",
        "print(\"stemmed_words of tokens after removal of stopwords from corpus-2\",stemmed_words2)"
      ],
      "metadata": {
        "colab": {
          "base_uri": "https://localhost:8080/"
        },
        "id": "d-dZI28KA385",
        "outputId": "a6a0170d-774f-470e-8ce2-43b397f9bc72"
      },
      "execution_count": 58,
      "outputs": [
        {
          "output_type": "stream",
          "name": "stdout",
          "text": [
            "stemmed_words of tokens after removal of stopwords from corpus-1  ['anim', '(', 'japanes', ':', 'アニメ', ',', 'ipa', ':', '[', 'aꜜɲim', ']', 'ⓘ', ')', 'hand-drawn', 'computer-gener', 'anim', 'origin', 'japan', '.', 'outsid', 'japan', 'english', ',', 'anim', 'refer', 'specif', 'anim', 'produc', 'japan', '.', '[', '1', ']', 'howev', ',', 'japan', 'japanes', ',', 'anim', '(', 'term', 'deriv', 'shorten', 'english', 'word', 'anim', ')', 'describ', 'anim', 'work', ',', 'regardless', 'style', 'origin', '.', 'mani', 'work', 'anim', 'similar', 'style', 'japanes', 'anim', 'also', 'produc', 'outsid', 'japan', '.', 'video', 'game', 'sometim', 'also', 'featur', 'theme', 'art', 'style', 'consid', 'anim', '.']\n",
            "stemmed_words of tokens after removal of stopwords from corpus-2 ['manga', '(', '漫画', ',', 'ipa', ':', '[', 'maŋga', ']', 'ⓘ', '[', ']', ')', 'comic', 'graphic', 'novel', 'origin', 'japan', '.', '[', '1', ']', 'manga', 'conform', 'style', 'develop', 'japan', 'late', '19th', 'centuri', ',', '[', '2', ']', 'form', 'long', 'histori', 'earlier', 'japanes', 'art', '.', '[', '3', ']', 'term', 'manga', 'use', 'japan', 'refer', 'comic', 'cartoon', '.', 'outsid', 'japan', ',', 'word', 'typic', 'use', 'refer', 'comic', 'origin', 'publish', 'japan', 'publish', 'translat', ',', 'i.e', '.', 'japanes', 'comic', 'book', 'english', 'text', '.']\n"
          ]
        }
      ]
    },
    {
      "cell_type": "code",
      "source": [
        "lemmatized=WordNetLemmatizer()\n",
        "lemmatized_word1 = [lemmatized.lemmatize(word) for word in tokens1]\n",
        "print(\"lemmatized word  of tokens after removal of stopwords from corpus-1\",lemmatized_word1 )\n",
        "\n",
        "lemmatized_word2 = [lemmatized.lemmatize(word) for word in tokens2]\n",
        "print(\"lemmatized word  of tokens after removal of stopwords from corpus-2\",lemmatized_word2)\n"
      ],
      "metadata": {
        "colab": {
          "base_uri": "https://localhost:8080/"
        },
        "id": "wVsNb-3FDACU",
        "outputId": "38d928e8-8bf3-427d-87aa-f95d1a2cea8b"
      },
      "execution_count": 59,
      "outputs": [
        {
          "output_type": "stream",
          "name": "stdout",
          "text": [
            "lemmatized word  of tokens after removal of stopwords from corpus-1 ['Anime', '(', 'Japanese', ':', 'アニメ', ',', 'IPA', ':', '[', 'aꜜɲime', ']', 'ⓘ', ')', 'is', 'hand-drawn', 'and', 'computer-generated', 'animation', 'originating', 'from', 'Japan', '.', 'Outside', 'Japan', 'and', 'in', 'English', ',', 'anime', 'refers', 'specifically', 'to', 'animation', 'produced', 'in', 'Japan', '.', '[', '1', ']', 'However', ',', 'in', 'Japan', 'and', 'Japanese', ',', 'anime', '(', 'a', 'term', 'derived', 'from', 'a', 'shortening', 'of', 'the', 'English', 'word', 'animation', ')', 'describes', 'all', 'animated', 'work', ',', 'regardless', 'of', 'style', 'or', 'origin', '.', 'Many', 'work', 'of', 'animation', 'with', 'a', 'similar', 'style', 'to', 'Japanese', 'animation', 'are', 'also', 'produced', 'outside', 'Japan', '.', 'Video', 'game', 'sometimes', 'also', 'feature', 'theme', 'and', 'art', 'style', 'that', 'can', 'be', 'considered', 'a', 'anime', '.']\n",
            "lemmatized word  of tokens after removal of stopwords from corpus-2 ['Manga', '(', '漫画', ',', 'IPA', ':', '[', 'maŋga', ']', 'ⓘ', '[', 'a', ']', ')', 'are', 'comic', 'or', 'graphic', 'novel', 'originating', 'from', 'Japan', '.', '[', '1', ']', 'Most', 'manga', 'conform', 'to', 'a', 'style', 'developed', 'in', 'Japan', 'in', 'the', 'late', '19th', 'century', ',', '[', '2', ']', 'and', 'the', 'form', 'ha', 'a', 'long', 'history', 'in', 'earlier', 'Japanese', 'art', '.', '[', '3', ']', 'The', 'term', 'manga', 'is', 'used', 'in', 'Japan', 'to', 'refer', 'to', 'both', 'comic', 'and', 'cartooning', '.', 'Outside', 'of', 'Japan', ',', 'the', 'word', 'is', 'typically', 'used', 'to', 'refer', 'to', 'comic', 'originally', 'published', 'in', 'Japan', 'and', 'published', 'in', 'translation', ',', 'i.e', '.', 'a', 'Japanese', 'comic', 'book', 'with', 'English', 'text', '.']\n"
          ]
        }
      ]
    },
    {
      "cell_type": "code",
      "source": [
        "fdist=FreqDist((tokens1+tokens2))\n",
        "fdist"
      ],
      "metadata": {
        "colab": {
          "base_uri": "https://localhost:8080/"
        },
        "id": "CV08a8xDGup5",
        "outputId": "64d78fd4-f372-4394-880b-2487b5db4776"
      },
      "execution_count": 60,
      "outputs": [
        {
          "output_type": "execute_result",
          "data": {
            "text/plain": [
              "FreqDist({'Japan': 10, '.': 10, ',': 9, 'in': 9, '[': 7, ']': 7, 'and': 7, 'to': 7, 'a': 7, 'Japanese': 5, ...})"
            ]
          },
          "metadata": {},
          "execution_count": 60
        }
      ]
    },
    {
      "cell_type": "code",
      "source": [
        "from sklearn.feature_extraction.text import TfidfVectorizer,CountVectorizer\n",
        "from sklearn.metrics.pairwise import cosine_similarity\n",
        "from sklearn.metrics.pairwise import euclidean_distances\n"
      ],
      "metadata": {
        "id": "F_cvU00JE5hh"
      },
      "execution_count": 61,
      "outputs": []
    },
    {
      "cell_type": "code",
      "source": [
        "# @title 1)The similarity between two documents (2 corpus or two paragraphs) using any of the two similarity measures.\n",
        "vect= TfidfVectorizer()\n",
        "vect1=vect.fit_transform(filtered_words1)\n",
        "vect2=vect.fit_transform(filtered_words2)\n"
      ],
      "metadata": {
        "id": "Ohg7Wx69GAqH"
      },
      "execution_count": 62,
      "outputs": []
    },
    {
      "cell_type": "code",
      "source": [
        "print(vect1)\n"
      ],
      "metadata": {
        "colab": {
          "base_uri": "https://localhost:8080/"
        },
        "id": "0iFZlxyHGKho",
        "outputId": "eb77c389-c198-4a8f-b842-77f8183b0b60"
      },
      "execution_count": 63,
      "outputs": [
        {
          "output_type": "stream",
          "name": "stdout",
          "text": [
            "  (0, 3)\t1.0\n",
            "  (2, 19)\t1.0\n",
            "  (4, 38)\t1.0\n",
            "  (6, 17)\t1.0\n",
            "  (9, 5)\t1.0\n",
            "  (13, 10)\t0.7071067811865476\n",
            "  (13, 15)\t0.7071067811865476\n",
            "  (14, 14)\t0.7071067811865476\n",
            "  (14, 6)\t0.7071067811865476\n",
            "  (15, 2)\t1.0\n",
            "  (16, 22)\t1.0\n",
            "  (17, 18)\t1.0\n",
            "  (19, 23)\t1.0\n",
            "  (20, 18)\t1.0\n",
            "  (21, 11)\t1.0\n",
            "  (23, 3)\t1.0\n",
            "  (24, 25)\t1.0\n",
            "  (25, 30)\t1.0\n",
            "  (26, 2)\t1.0\n",
            "  (27, 24)\t1.0\n",
            "  (28, 18)\t1.0\n",
            "  (33, 16)\t1.0\n",
            "  (35, 18)\t1.0\n",
            "  (36, 19)\t1.0\n",
            "  (38, 3)\t1.0\n",
            "  :\t:\n",
            "  (49, 37)\t1.0\n",
            "  (51, 26)\t1.0\n",
            "  (52, 31)\t1.0\n",
            "  (53, 21)\t1.0\n",
            "  (55, 20)\t1.0\n",
            "  (56, 37)\t1.0\n",
            "  (57, 2)\t1.0\n",
            "  (58, 28)\t1.0\n",
            "  (59, 31)\t1.0\n",
            "  (60, 19)\t1.0\n",
            "  (61, 2)\t1.0\n",
            "  (62, 0)\t1.0\n",
            "  (63, 24)\t1.0\n",
            "  (64, 23)\t1.0\n",
            "  (65, 18)\t1.0\n",
            "  (67, 35)\t1.0\n",
            "  (68, 13)\t1.0\n",
            "  (69, 29)\t1.0\n",
            "  (70, 0)\t1.0\n",
            "  (71, 12)\t1.0\n",
            "  (72, 34)\t1.0\n",
            "  (73, 4)\t1.0\n",
            "  (74, 32)\t1.0\n",
            "  (75, 7)\t1.0\n",
            "  (76, 3)\t1.0\n"
          ]
        }
      ]
    },
    {
      "cell_type": "code",
      "source": [
        "vect1.shape"
      ],
      "metadata": {
        "colab": {
          "base_uri": "https://localhost:8080/"
        },
        "id": "Od5BP-4dHrZx",
        "outputId": "bdf43f0d-8706-4809-b72b-ff44af7c2790"
      },
      "execution_count": 64,
      "outputs": [
        {
          "output_type": "execute_result",
          "data": {
            "text/plain": [
              "(78, 39)"
            ]
          },
          "metadata": {},
          "execution_count": 64
        }
      ]
    },
    {
      "cell_type": "code",
      "source": [
        "print(vect2)"
      ],
      "metadata": {
        "colab": {
          "base_uri": "https://localhost:8080/"
        },
        "id": "6uDzDXsxHdtC",
        "outputId": "6cfb36f9-87b6-4cee-d284-ff399e9fdce1"
      },
      "execution_count": 65,
      "outputs": [
        {
          "output_type": "stream",
          "name": "stdout",
          "text": [
            "  (0, 19)\t1.0\n",
            "  (2, 34)\t1.0\n",
            "  (4, 14)\t1.0\n",
            "  (7, 20)\t1.0\n",
            "  (13, 6)\t1.0\n",
            "  (14, 12)\t1.0\n",
            "  (15, 21)\t1.0\n",
            "  (16, 23)\t1.0\n",
            "  (17, 15)\t1.0\n",
            "  (22, 19)\t1.0\n",
            "  (23, 7)\t1.0\n",
            "  (24, 27)\t1.0\n",
            "  (25, 8)\t1.0\n",
            "  (26, 15)\t1.0\n",
            "  (27, 17)\t1.0\n",
            "  (28, 0)\t1.0\n",
            "  (29, 4)\t1.0\n",
            "  (34, 11)\t1.0\n",
            "  (35, 18)\t1.0\n",
            "  (36, 13)\t1.0\n",
            "  (37, 9)\t1.0\n",
            "  (38, 16)\t1.0\n",
            "  (39, 1)\t1.0\n",
            "  (44, 28)\t1.0\n",
            "  (45, 19)\t1.0\n",
            "  (46, 32)\t1.0\n",
            "  (47, 15)\t1.0\n",
            "  (48, 26)\t1.0\n",
            "  (49, 6)\t1.0\n",
            "  (50, 3)\t1.0\n",
            "  (52, 24)\t1.0\n",
            "  (53, 15)\t1.0\n",
            "  (55, 33)\t1.0\n",
            "  (56, 31)\t1.0\n",
            "  (57, 32)\t1.0\n",
            "  (58, 26)\t1.0\n",
            "  (59, 6)\t1.0\n",
            "  (60, 22)\t1.0\n",
            "  (61, 25)\t1.0\n",
            "  (62, 15)\t1.0\n",
            "  (63, 25)\t1.0\n",
            "  (64, 30)\t1.0\n",
            "  (68, 16)\t1.0\n",
            "  (69, 5)\t1.0\n",
            "  (70, 2)\t1.0\n",
            "  (71, 10)\t1.0\n",
            "  (72, 29)\t1.0\n"
          ]
        }
      ]
    },
    {
      "cell_type": "code",
      "source": [
        "vect2.shape"
      ],
      "metadata": {
        "colab": {
          "base_uri": "https://localhost:8080/"
        },
        "id": "k3tyURRzHkM2",
        "outputId": "f30edc5d-707e-47f5-9908-04d44a43cb63"
      },
      "execution_count": 66,
      "outputs": [
        {
          "output_type": "execute_result",
          "data": {
            "text/plain": [
              "(74, 35)"
            ]
          },
          "metadata": {},
          "execution_count": 66
        }
      ]
    },
    {
      "cell_type": "code",
      "source": [
        "from nltk. corpus import stopwords\n",
        "stopwords = list(stopwords.words('english'))\n",
        "print(stopwords)"
      ],
      "metadata": {
        "colab": {
          "base_uri": "https://localhost:8080/"
        },
        "id": "sBSy_E3tIZ7O",
        "outputId": "7a28bfb4-8435-4a85-e05f-710304d18cba"
      },
      "execution_count": 67,
      "outputs": [
        {
          "output_type": "stream",
          "name": "stdout",
          "text": [
            "['i', 'me', 'my', 'myself', 'we', 'our', 'ours', 'ourselves', 'you', \"you're\", \"you've\", \"you'll\", \"you'd\", 'your', 'yours', 'yourself', 'yourselves', 'he', 'him', 'his', 'himself', 'she', \"she's\", 'her', 'hers', 'herself', 'it', \"it's\", 'its', 'itself', 'they', 'them', 'their', 'theirs', 'themselves', 'what', 'which', 'who', 'whom', 'this', 'that', \"that'll\", 'these', 'those', 'am', 'is', 'are', 'was', 'were', 'be', 'been', 'being', 'have', 'has', 'had', 'having', 'do', 'does', 'did', 'doing', 'a', 'an', 'the', 'and', 'but', 'if', 'or', 'because', 'as', 'until', 'while', 'of', 'at', 'by', 'for', 'with', 'about', 'against', 'between', 'into', 'through', 'during', 'before', 'after', 'above', 'below', 'to', 'from', 'up', 'down', 'in', 'out', 'on', 'off', 'over', 'under', 'again', 'further', 'then', 'once', 'here', 'there', 'when', 'where', 'why', 'how', 'all', 'any', 'both', 'each', 'few', 'more', 'most', 'other', 'some', 'such', 'no', 'nor', 'not', 'only', 'own', 'same', 'so', 'than', 'too', 'very', 's', 't', 'can', 'will', 'just', 'don', \"don't\", 'should', \"should've\", 'now', 'd', 'll', 'm', 'o', 're', 've', 'y', 'ain', 'aren', \"aren't\", 'couldn', \"couldn't\", 'didn', \"didn't\", 'doesn', \"doesn't\", 'hadn', \"hadn't\", 'hasn', \"hasn't\", 'haven', \"haven't\", 'isn', \"isn't\", 'ma', 'mightn', \"mightn't\", 'mustn', \"mustn't\", 'needn', \"needn't\", 'shan', \"shan't\", 'shouldn', \"shouldn't\", 'wasn', \"wasn't\", 'weren', \"weren't\", 'won', \"won't\", 'wouldn', \"wouldn't\"]\n"
          ]
        }
      ]
    },
    {
      "cell_type": "code",
      "source": [
        "l1 =[];l2 =[]\n",
        "tkn1 = [w for w in tokens1 if not w in stopwords]\n",
        "tkn2 = [w for w in tokens2 if not w in stopwords]\n",
        "rvect=list(set(tkn1).union(set(tkn2)))\n",
        "for token in rvect:\n",
        "  if token in tkn1:l1.append(1)\n",
        "  else:l1.append(0)\n",
        "  if token in tkn2:l2.append(1)\n",
        "  else:l2.append(0)\n",
        "c=0\n",
        "\n",
        "for i in range(len(rvect)):\n",
        "        c+= l1[i]*l2[i]\n",
        "cosine = c / float((sum(l1)*sum(l2))**0.5)\n",
        "print(\"similarity: \", cosine)"
      ],
      "metadata": {
        "colab": {
          "base_uri": "https://localhost:8080/"
        },
        "id": "4LbfAq-HHyBc",
        "outputId": "7fa7c8dd-eeb3-48f9-f986-39a3f7b15d04"
      },
      "execution_count": 68,
      "outputs": [
        {
          "output_type": "stream",
          "name": "stdout",
          "text": [
            "similarity:  0.38783587594066987\n"
          ]
        }
      ]
    },
    {
      "cell_type": "code",
      "source": [
        "a=(set(tokens1))\n",
        "b=(set(tokens2))\n",
        "print (a)\n",
        "print(b)"
      ],
      "metadata": {
        "colab": {
          "base_uri": "https://localhost:8080/"
        },
        "id": "68ptHo74IMlR",
        "outputId": "d521907d-b4ca-4038-fd3c-c15cb8ad9957"
      },
      "execution_count": 69,
      "outputs": [
        {
          "output_type": "stream",
          "name": "stdout",
          "text": [
            "{'specifically', 'styles', 'considered', 'a', 'as', 'outside', 'animated', 'Japanese', 'shortening', 'feature', 'Japan', '.', 'similar', ')', 'are', '(', 'and', 'to', 'English', 'produced', 'アニメ', 'animation', 'with', 'word', 'sometimes', 'games', 'works', 'style', 'anime', 'Many', 'Outside', 'derived', 'that', 'originating', 'themes', 'Video', ']', '1', 'is', 'However', 'describes', 'can', 'hand-drawn', 'term', 'regardless', ':', 'ⓘ', 'origin', ',', 'IPA', 'all', 'refers', 'from', 'also', '[', 'be', 'aꜜɲime', 'computer-generated', 'in', 'the', 'art', 'or', 'of', 'Anime'}\n",
            "{'typically', 'form', 'conform', 'graphic', 'a', 'Japanese', 'Most', 'manga', 'Japan', '.', 'text', ')', 'are', '(', 'has', 'to', 'developed', 'and', 'book', 'with', 'English', 'word', 'Manga', 'style', 'originally', 'comic', 'Outside', '2', 'originating', 'novels', '3', 'century', 'both', 'published', ']', '19th', '漫画', '1', 'is', 'cartooning', 'term', 'refer', ':', 'ⓘ', 'translation', ',', 'IPA', 'maŋga', 'earlier', 'from', 'late', '[', 'long', 'i.e', 'comics', 'the', 'in', 'art', 'or', 'of', 'used', 'The', 'history'}\n"
          ]
        }
      ]
    },
    {
      "cell_type": "code",
      "source": [
        "#jaccard similarity\n",
        "def jaccard_sim(a,b):\n",
        "  intersection = len(a.intersection(b))\n",
        "  union=len(a.union(b))\n",
        "  return intersection / union\n",
        "\n",
        "similarity = jaccard_sim(a, b)\n",
        "print(\"Jaccard Similarity:\", similarity)"
      ],
      "metadata": {
        "colab": {
          "base_uri": "https://localhost:8080/"
        },
        "id": "Y5O70qhwIw20",
        "outputId": "fb73a726-d059-4a5c-961a-895f596f1158"
      },
      "execution_count": 70,
      "outputs": [
        {
          "output_type": "stream",
          "name": "stdout",
          "text": [
            "Jaccard Similarity: 0.30927835051546393\n"
          ]
        }
      ]
    },
    {
      "cell_type": "code",
      "source": [
        "# @title 2)Sentiment Analysis using Bayesian Classification.\n",
        "import pandas as pd\n",
        "import numpy as np\n",
        "import matplotlib.pyplot as plt\n",
        "from sklearn.naive_bayes import MultinomialNB\n",
        "from sklearn.metrics import accuracy_score, classification_report\n"
      ],
      "metadata": {
        "id": "OHOWdYwzKoWi"
      },
      "execution_count": 71,
      "outputs": []
    },
    {
      "cell_type": "code",
      "source": [
        "data=pd.read_csv(\"/content/drive/MyDrive/EcoPreprocessed.csv\")\n",
        "data.head()"
      ],
      "metadata": {
        "colab": {
          "base_uri": "https://localhost:8080/",
          "height": 241
        },
        "id": "IWxIPnYONb_e",
        "outputId": "f6c8509b-9e58-4f56-a8d2-fee1fade4a97"
      },
      "execution_count": 84,
      "outputs": [
        {
          "output_type": "execute_result",
          "data": {
            "text/plain": [
              "   Unnamed: 0                                             review  polarity  \\\n",
              "0        3870                            able play youtube alexa    0.5000   \n",
              "1          62  able recognize indian accent really well drop ...    0.2794   \n",
              "2         487  absolute smart device amazon connect external ...    0.1827   \n",
              "3        3204  absolutely amaze new member family control hom...    0.3682   \n",
              "4        1265  absolutely amaze previously sceptical invest m...    0.2333   \n",
              "\n",
              "   division  \n",
              "0  positive  \n",
              "1  positive  \n",
              "2  positive  \n",
              "3  positive  \n",
              "4  positive  "
            ],
            "text/html": [
              "\n",
              "  <div id=\"df-9c7e8b3c-d7ab-4a1d-b676-3b2c5a2dad34\" class=\"colab-df-container\">\n",
              "    <div>\n",
              "<style scoped>\n",
              "    .dataframe tbody tr th:only-of-type {\n",
              "        vertical-align: middle;\n",
              "    }\n",
              "\n",
              "    .dataframe tbody tr th {\n",
              "        vertical-align: top;\n",
              "    }\n",
              "\n",
              "    .dataframe thead th {\n",
              "        text-align: right;\n",
              "    }\n",
              "</style>\n",
              "<table border=\"1\" class=\"dataframe\">\n",
              "  <thead>\n",
              "    <tr style=\"text-align: right;\">\n",
              "      <th></th>\n",
              "      <th>Unnamed: 0</th>\n",
              "      <th>review</th>\n",
              "      <th>polarity</th>\n",
              "      <th>division</th>\n",
              "    </tr>\n",
              "  </thead>\n",
              "  <tbody>\n",
              "    <tr>\n",
              "      <th>0</th>\n",
              "      <td>3870</td>\n",
              "      <td>able play youtube alexa</td>\n",
              "      <td>0.5000</td>\n",
              "      <td>positive</td>\n",
              "    </tr>\n",
              "    <tr>\n",
              "      <th>1</th>\n",
              "      <td>62</td>\n",
              "      <td>able recognize indian accent really well drop ...</td>\n",
              "      <td>0.2794</td>\n",
              "      <td>positive</td>\n",
              "    </tr>\n",
              "    <tr>\n",
              "      <th>2</th>\n",
              "      <td>487</td>\n",
              "      <td>absolute smart device amazon connect external ...</td>\n",
              "      <td>0.1827</td>\n",
              "      <td>positive</td>\n",
              "    </tr>\n",
              "    <tr>\n",
              "      <th>3</th>\n",
              "      <td>3204</td>\n",
              "      <td>absolutely amaze new member family control hom...</td>\n",
              "      <td>0.3682</td>\n",
              "      <td>positive</td>\n",
              "    </tr>\n",
              "    <tr>\n",
              "      <th>4</th>\n",
              "      <td>1265</td>\n",
              "      <td>absolutely amaze previously sceptical invest m...</td>\n",
              "      <td>0.2333</td>\n",
              "      <td>positive</td>\n",
              "    </tr>\n",
              "  </tbody>\n",
              "</table>\n",
              "</div>\n",
              "    <div class=\"colab-df-buttons\">\n",
              "\n",
              "  <div class=\"colab-df-container\">\n",
              "    <button class=\"colab-df-convert\" onclick=\"convertToInteractive('df-9c7e8b3c-d7ab-4a1d-b676-3b2c5a2dad34')\"\n",
              "            title=\"Convert this dataframe to an interactive table.\"\n",
              "            style=\"display:none;\">\n",
              "\n",
              "  <svg xmlns=\"http://www.w3.org/2000/svg\" height=\"24px\" viewBox=\"0 -960 960 960\">\n",
              "    <path d=\"M120-120v-720h720v720H120Zm60-500h600v-160H180v160Zm220 220h160v-160H400v160Zm0 220h160v-160H400v160ZM180-400h160v-160H180v160Zm440 0h160v-160H620v160ZM180-180h160v-160H180v160Zm440 0h160v-160H620v160Z\"/>\n",
              "  </svg>\n",
              "    </button>\n",
              "\n",
              "  <style>\n",
              "    .colab-df-container {\n",
              "      display:flex;\n",
              "      gap: 12px;\n",
              "    }\n",
              "\n",
              "    .colab-df-convert {\n",
              "      background-color: #E8F0FE;\n",
              "      border: none;\n",
              "      border-radius: 50%;\n",
              "      cursor: pointer;\n",
              "      display: none;\n",
              "      fill: #1967D2;\n",
              "      height: 32px;\n",
              "      padding: 0 0 0 0;\n",
              "      width: 32px;\n",
              "    }\n",
              "\n",
              "    .colab-df-convert:hover {\n",
              "      background-color: #E2EBFA;\n",
              "      box-shadow: 0px 1px 2px rgba(60, 64, 67, 0.3), 0px 1px 3px 1px rgba(60, 64, 67, 0.15);\n",
              "      fill: #174EA6;\n",
              "    }\n",
              "\n",
              "    .colab-df-buttons div {\n",
              "      margin-bottom: 4px;\n",
              "    }\n",
              "\n",
              "    [theme=dark] .colab-df-convert {\n",
              "      background-color: #3B4455;\n",
              "      fill: #D2E3FC;\n",
              "    }\n",
              "\n",
              "    [theme=dark] .colab-df-convert:hover {\n",
              "      background-color: #434B5C;\n",
              "      box-shadow: 0px 1px 3px 1px rgba(0, 0, 0, 0.15);\n",
              "      filter: drop-shadow(0px 1px 2px rgba(0, 0, 0, 0.3));\n",
              "      fill: #FFFFFF;\n",
              "    }\n",
              "  </style>\n",
              "\n",
              "    <script>\n",
              "      const buttonEl =\n",
              "        document.querySelector('#df-9c7e8b3c-d7ab-4a1d-b676-3b2c5a2dad34 button.colab-df-convert');\n",
              "      buttonEl.style.display =\n",
              "        google.colab.kernel.accessAllowed ? 'block' : 'none';\n",
              "\n",
              "      async function convertToInteractive(key) {\n",
              "        const element = document.querySelector('#df-9c7e8b3c-d7ab-4a1d-b676-3b2c5a2dad34');\n",
              "        const dataTable =\n",
              "          await google.colab.kernel.invokeFunction('convertToInteractive',\n",
              "                                                    [key], {});\n",
              "        if (!dataTable) return;\n",
              "\n",
              "        const docLinkHtml = 'Like what you see? Visit the ' +\n",
              "          '<a target=\"_blank\" href=https://colab.research.google.com/notebooks/data_table.ipynb>data table notebook</a>'\n",
              "          + ' to learn more about interactive tables.';\n",
              "        element.innerHTML = '';\n",
              "        dataTable['output_type'] = 'display_data';\n",
              "        await google.colab.output.renderOutput(dataTable, element);\n",
              "        const docLink = document.createElement('div');\n",
              "        docLink.innerHTML = docLinkHtml;\n",
              "        element.appendChild(docLink);\n",
              "      }\n",
              "    </script>\n",
              "  </div>\n",
              "\n",
              "\n",
              "<div id=\"df-796837d9-e349-401d-b6c2-6afb955d6af4\">\n",
              "  <button class=\"colab-df-quickchart\" onclick=\"quickchart('df-796837d9-e349-401d-b6c2-6afb955d6af4')\"\n",
              "            title=\"Suggest charts\"\n",
              "            style=\"display:none;\">\n",
              "\n",
              "<svg xmlns=\"http://www.w3.org/2000/svg\" height=\"24px\"viewBox=\"0 0 24 24\"\n",
              "     width=\"24px\">\n",
              "    <g>\n",
              "        <path d=\"M19 3H5c-1.1 0-2 .9-2 2v14c0 1.1.9 2 2 2h14c1.1 0 2-.9 2-2V5c0-1.1-.9-2-2-2zM9 17H7v-7h2v7zm4 0h-2V7h2v10zm4 0h-2v-4h2v4z\"/>\n",
              "    </g>\n",
              "</svg>\n",
              "  </button>\n",
              "\n",
              "<style>\n",
              "  .colab-df-quickchart {\n",
              "      --bg-color: #E8F0FE;\n",
              "      --fill-color: #1967D2;\n",
              "      --hover-bg-color: #E2EBFA;\n",
              "      --hover-fill-color: #174EA6;\n",
              "      --disabled-fill-color: #AAA;\n",
              "      --disabled-bg-color: #DDD;\n",
              "  }\n",
              "\n",
              "  [theme=dark] .colab-df-quickchart {\n",
              "      --bg-color: #3B4455;\n",
              "      --fill-color: #D2E3FC;\n",
              "      --hover-bg-color: #434B5C;\n",
              "      --hover-fill-color: #FFFFFF;\n",
              "      --disabled-bg-color: #3B4455;\n",
              "      --disabled-fill-color: #666;\n",
              "  }\n",
              "\n",
              "  .colab-df-quickchart {\n",
              "    background-color: var(--bg-color);\n",
              "    border: none;\n",
              "    border-radius: 50%;\n",
              "    cursor: pointer;\n",
              "    display: none;\n",
              "    fill: var(--fill-color);\n",
              "    height: 32px;\n",
              "    padding: 0;\n",
              "    width: 32px;\n",
              "  }\n",
              "\n",
              "  .colab-df-quickchart:hover {\n",
              "    background-color: var(--hover-bg-color);\n",
              "    box-shadow: 0 1px 2px rgba(60, 64, 67, 0.3), 0 1px 3px 1px rgba(60, 64, 67, 0.15);\n",
              "    fill: var(--button-hover-fill-color);\n",
              "  }\n",
              "\n",
              "  .colab-df-quickchart-complete:disabled,\n",
              "  .colab-df-quickchart-complete:disabled:hover {\n",
              "    background-color: var(--disabled-bg-color);\n",
              "    fill: var(--disabled-fill-color);\n",
              "    box-shadow: none;\n",
              "  }\n",
              "\n",
              "  .colab-df-spinner {\n",
              "    border: 2px solid var(--fill-color);\n",
              "    border-color: transparent;\n",
              "    border-bottom-color: var(--fill-color);\n",
              "    animation:\n",
              "      spin 1s steps(1) infinite;\n",
              "  }\n",
              "\n",
              "  @keyframes spin {\n",
              "    0% {\n",
              "      border-color: transparent;\n",
              "      border-bottom-color: var(--fill-color);\n",
              "      border-left-color: var(--fill-color);\n",
              "    }\n",
              "    20% {\n",
              "      border-color: transparent;\n",
              "      border-left-color: var(--fill-color);\n",
              "      border-top-color: var(--fill-color);\n",
              "    }\n",
              "    30% {\n",
              "      border-color: transparent;\n",
              "      border-left-color: var(--fill-color);\n",
              "      border-top-color: var(--fill-color);\n",
              "      border-right-color: var(--fill-color);\n",
              "    }\n",
              "    40% {\n",
              "      border-color: transparent;\n",
              "      border-right-color: var(--fill-color);\n",
              "      border-top-color: var(--fill-color);\n",
              "    }\n",
              "    60% {\n",
              "      border-color: transparent;\n",
              "      border-right-color: var(--fill-color);\n",
              "    }\n",
              "    80% {\n",
              "      border-color: transparent;\n",
              "      border-right-color: var(--fill-color);\n",
              "      border-bottom-color: var(--fill-color);\n",
              "    }\n",
              "    90% {\n",
              "      border-color: transparent;\n",
              "      border-bottom-color: var(--fill-color);\n",
              "    }\n",
              "  }\n",
              "</style>\n",
              "\n",
              "  <script>\n",
              "    async function quickchart(key) {\n",
              "      const quickchartButtonEl =\n",
              "        document.querySelector('#' + key + ' button');\n",
              "      quickchartButtonEl.disabled = true;  // To prevent multiple clicks.\n",
              "      quickchartButtonEl.classList.add('colab-df-spinner');\n",
              "      try {\n",
              "        const charts = await google.colab.kernel.invokeFunction(\n",
              "            'suggestCharts', [key], {});\n",
              "      } catch (error) {\n",
              "        console.error('Error during call to suggestCharts:', error);\n",
              "      }\n",
              "      quickchartButtonEl.classList.remove('colab-df-spinner');\n",
              "      quickchartButtonEl.classList.add('colab-df-quickchart-complete');\n",
              "    }\n",
              "    (() => {\n",
              "      let quickchartButtonEl =\n",
              "        document.querySelector('#df-796837d9-e349-401d-b6c2-6afb955d6af4 button');\n",
              "      quickchartButtonEl.style.display =\n",
              "        google.colab.kernel.accessAllowed ? 'block' : 'none';\n",
              "    })();\n",
              "  </script>\n",
              "</div>\n",
              "    </div>\n",
              "  </div>\n"
            ],
            "application/vnd.google.colaboratory.intrinsic+json": {
              "type": "dataframe",
              "variable_name": "data",
              "summary": "{\n  \"name\": \"data\",\n  \"rows\": 4084,\n  \"fields\": [\n    {\n      \"column\": \"Unnamed: 0\",\n      \"properties\": {\n        \"dtype\": \"number\",\n        \"std\": 1203,\n        \"min\": 0,\n        \"max\": 4156,\n        \"num_unique_values\": 4084,\n        \"samples\": [\n          1104,\n          3042,\n          3705\n        ],\n        \"semantic_type\": \"\",\n        \"description\": \"\"\n      }\n    },\n    {\n      \"column\": \"review\",\n      \"properties\": {\n        \"dtype\": \"string\",\n        \"num_unique_values\": 3465,\n        \"samples\": [\n          \"think come amazon prime\",\n          \"believe need get better voice recognition accent india people cant say word clearly ai improve\",\n          \"usefull students develop english\"\n        ],\n        \"semantic_type\": \"\",\n        \"description\": \"\"\n      }\n    },\n    {\n      \"column\": \"polarity\",\n      \"properties\": {\n        \"dtype\": \"number\",\n        \"std\": 0.3678582372327497,\n        \"min\": -1.0,\n        \"max\": 1.0,\n        \"num_unique_values\": 967,\n        \"samples\": [\n          0.0356,\n          0.3277,\n          0.5143\n        ],\n        \"semantic_type\": \"\",\n        \"description\": \"\"\n      }\n    },\n    {\n      \"column\": \"division\",\n      \"properties\": {\n        \"dtype\": \"category\",\n        \"num_unique_values\": 3,\n        \"samples\": [\n          \"positive\",\n          \"neutral\",\n          \"negative\"\n        ],\n        \"semantic_type\": \"\",\n        \"description\": \"\"\n      }\n    }\n  ]\n}"
            }
          },
          "metadata": {},
          "execution_count": 84
        }
      ]
    },
    {
      "source": [
        "# @title division\n",
        "\n",
        "from matplotlib import pyplot as plt\n",
        "import seaborn as sns\n",
        "data.groupby('division').size().plot(kind='barh', color=sns.palettes.mpl_palette('Dark2'))\n",
        "plt.gca().spines[['top', 'right',]].set_visible(False)"
      ],
      "cell_type": "code",
      "execution_count": 86,
      "outputs": [
        {
          "output_type": "display_data",
          "data": {
            "text/plain": [
              "<Figure size 640x480 with 1 Axes>"
            ],
            "image/png": "[encoded data removed]"
          },
          "metadata": {}
        }
      ],
      "metadata": {
        "colab": {
          "base_uri": "https://localhost:8080/",
          "height": 430
        },
        "id": "NPmvUSZxT_N8",
        "outputId": "f36f89c8-c847-4b50-fb07-be8853ab4c12"
      }
    },
    {
      "source": [
        "# @title polarity\n",
        "\n",
        "from matplotlib import pyplot as plt\n",
        "data['polarity'].plot(kind='hist', bins=20, title='polarity')\n",
        "plt.gca().spines[['top', 'right',]].set_visible(False)"
      ],
      "cell_type": "code",
      "execution_count": 85,
      "outputs": [
        {
          "output_type": "display_data",
          "data": {
            "text/plain": [
              "<Figure size 640x480 with 1 Axes>"
            ],
            "image/png": "[encoded data removed]"
          },
          "metadata": {}
        }
      ],
      "metadata": {
        "colab": {
          "base_uri": "https://localhost:8080/",
          "height": 452
        },
        "id": "-bsxGWo0T5Op",
        "outputId": "caeead33-a257-4e44-cda2-c615c894576d"
      }
    },
    {
      "cell_type": "code",
      "source": [
        "x= data['review']\n",
        "y = data['division']"
      ],
      "metadata": {
        "id": "0xfJLseXR2dG"
      },
      "execution_count": 87,
      "outputs": []
    },
    {
      "cell_type": "code",
      "source": [
        "from sklearn.model_selection import train_test_split\n",
        "# Vectorize the text data\n",
        "vectorizer = CountVectorizer()\n",
        "X_vectorized = vectorizer.fit_transform(x)\n",
        "\n",
        "# Split the data into training and testing sets\n",
        "X_train, X_test, y_train, y_test = train_test_split(X_vectorized, y, test_size=0.2, random_state=42)\n",
        "\n",
        "# Train the Naive Bayes classifier\n",
        "clf = MultinomialNB()\n",
        "clf.fit(X_train, y_train)\n",
        "\n",
        "# Predict the sentiment on test data\n",
        "y_pred = clf.predict(X_test)\n",
        "\n",
        "# Calculate accuracy\n",
        "accuracy = accuracy_score(y_test, y_pred)\n",
        "print(\"Accuracy using Naive Bayes:\", accuracy)\n"
      ],
      "metadata": {
        "colab": {
          "base_uri": "https://localhost:8080/"
        },
        "id": "nGHC4A3nUKTJ",
        "outputId": "243d6f4c-4201-4a19-a7d1-b53f8b4c02be"
      },
      "execution_count": 90,
      "outputs": [
        {
          "output_type": "stream",
          "name": "stdout",
          "text": [
            "Accuracy using Naive Bayes: 0.7613219094247246\n"
          ]
        }
      ]
    },
    {
      "cell_type": "code",
      "source": [
        "# @title the Sentiment Analysis using RNN.\n"
      ],
      "metadata": {
        "id": "Dcd_wr8uUPBc"
      },
      "execution_count": null,
      "outputs": []
    }
  ]
}